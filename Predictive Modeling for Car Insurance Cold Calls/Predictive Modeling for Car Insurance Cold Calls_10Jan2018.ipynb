{
 "cells": [
  {
   "cell_type": "markdown",
   "metadata": {},
   "source": [
    "# [Predictive Modeling for Car Insurance Cold Calls]"
   ]
  },
  {
   "cell_type": "markdown",
   "metadata": {},
   "source": [
    " "
   ]
  },
  {
   "cell_type": "markdown",
   "metadata": {},
   "source": [
    "## 1. Business Understanding"
   ]
  },
  {
   "cell_type": "markdown",
   "metadata": {},
   "source": [
    "### 1.1 Objective\n",
    "The goal of this project is to build a predictive model that identifies customers who are likely to purchase car insurance to help business decision makers. In this project, various approaches will be demonstrated, and will select the best model for the project."
   ]
  },
  {
   "cell_type": "markdown",
   "metadata": {},
   "source": [
    "### 1.2 Description\n",
    "This is a dataset from a bank in the United States. Besides usual services, this bank also provides carinsurance services. The bank organizes regular campaigns to attract new clients.The bank has potential customers data, and bank’s employees call them for advertising available car insurance options. We are provided with general information about clients (age, job, etc.) as well as more specific information about the current insurance sell campaign (communication, last contact day) and previous campaigns(attributes like previous attempts, outcome)."
   ]
  },
  {
   "cell_type": "markdown",
   "metadata": {},
   "source": [
    " "
   ]
  },
  {
   "cell_type": "markdown",
   "metadata": {},
   "source": [
    "## 2. Exploratory Data Analysis"
   ]
  },
  {
   "cell_type": "markdown",
   "metadata": {},
   "source": [
    "### 2.1 Import Libraries\n",
    "The data is availabe to us as a CSV file and let's importour R libraries containing the necessary functionality we will need."
   ]
  },
  {
   "cell_type": "code",
   "execution_count": 12,
   "metadata": {},
   "outputs": [],
   "source": [
    "library(dplyr)        ## install.packages(\"dplyr\")\n",
    "library(lubridate)    ## install.packages(\"lubridate\")\n",
    "library(stringr)      ## install.packages(\"stringr\")\n",
    "library(ggplot2)      ## install.packages(\"ggplot2\")\n",
    "library(dummies)      ## install.packages(\"dummies\")\n",
    "library(caret)        ## install.packages(\"caret\")\n",
    "library(doParallel)   ## install.packages(\"doParallel\")\n",
    "library(e1071)        ## install.packages(\"e1071\")\n",
    "library(class)        ## install.packages(\"class\")\n",
    "library(MASS)         ## install.packages(\"MASS\")\n",
    "library(rpart)        ## install.packages(\"rpart\")\n",
    "library(rpart.plot)   ## install.packages(\"rpart.plot\")\n",
    "library(randomForest) ## install.packages(\"randomForest\")\n",
    "library(gbm)          ## install.packages(\"gbm\")\n",
    "library(C50)          ## install.packages(\"C50\")\n",
    "library(magick)       ## install.packages(\"magick\")\n",
    "library(plotly)       ## install.packages(\"plotly\")\n",
    "library(ggplot2)      ## install.packages(\"ggplot2\")"
   ]
  },
  {
   "cell_type": "markdown",
   "metadata": {},
   "source": [
    "### 2.2 Load Data\n",
    "Now that necessary packages are loaded, let's read in and take a peek at the data."
   ]
  },
  {
   "cell_type": "code",
   "execution_count": 13,
   "metadata": {},
   "outputs": [],
   "source": [
    "cidata <- read.csv(\"carInsurance_train.csv\", header=T) "
   ]
  },
  {
   "cell_type": "markdown",
   "metadata": {},
   "source": [
    "### 2.3 Statistical Summaries and Visualisations"
   ]
  },
  {
   "cell_type": "code",
   "execution_count": 14,
   "metadata": {},
   "outputs": [
    {
     "data": {
      "text/html": [
       "<table>\n",
       "<thead><tr><th scope=col>Id</th><th scope=col>Age</th><th scope=col>Job</th><th scope=col>Marital</th><th scope=col>Education</th><th scope=col>Default</th><th scope=col>Balance</th><th scope=col>HHInsurance</th><th scope=col>CarLoan</th><th scope=col>Communication</th><th scope=col>LastContactDay</th><th scope=col>LastContactMonth</th><th scope=col>NoOfContacts</th><th scope=col>DaysPassed</th><th scope=col>PrevAttempts</th><th scope=col>Outcome</th><th scope=col>CallStart</th><th scope=col>CallEnd</th><th scope=col>CarInsurance</th></tr></thead>\n",
       "<tbody>\n",
       "\t<tr><td>1          </td><td>32         </td><td>management </td><td>single     </td><td>tertiary   </td><td>0          </td><td>1218       </td><td>1          </td><td>0          </td><td>telephone  </td><td>28         </td><td>jan        </td><td>2          </td><td> -1        </td><td>0          </td><td>NA         </td><td>13:45:20   </td><td>13:46:30   </td><td>0          </td></tr>\n",
       "\t<tr><td>2          </td><td>32         </td><td>blue-collar</td><td>married    </td><td>primary    </td><td>0          </td><td>1156       </td><td>1          </td><td>0          </td><td>NA         </td><td>26         </td><td>may        </td><td>5          </td><td> -1        </td><td>0          </td><td>NA         </td><td>14:49:03   </td><td>14:52:08   </td><td>0          </td></tr>\n",
       "\t<tr><td>3          </td><td>29         </td><td>management </td><td>single     </td><td>tertiary   </td><td>0          </td><td> 637       </td><td>1          </td><td>0          </td><td>cellular   </td><td> 3         </td><td>jun        </td><td>1          </td><td>119        </td><td>1          </td><td>failure    </td><td>16:30:24   </td><td>16:36:04   </td><td>1          </td></tr>\n",
       "\t<tr><td>4          </td><td>25         </td><td>student    </td><td>single     </td><td>primary    </td><td>0          </td><td> 373       </td><td>1          </td><td>0          </td><td>cellular   </td><td>11         </td><td>may        </td><td>2          </td><td> -1        </td><td>0          </td><td>NA         </td><td>12:06:43   </td><td>12:20:22   </td><td>1          </td></tr>\n",
       "\t<tr><td>5          </td><td>30         </td><td>management </td><td>married    </td><td>tertiary   </td><td>0          </td><td>2694       </td><td>0          </td><td>0          </td><td>cellular   </td><td> 3         </td><td>jun        </td><td>1          </td><td> -1        </td><td>0          </td><td>NA         </td><td>14:35:44   </td><td>14:38:56   </td><td>0          </td></tr>\n",
       "\t<tr><td>6          </td><td>32         </td><td>technician </td><td>single     </td><td>tertiary   </td><td>0          </td><td>1625       </td><td>0          </td><td>0          </td><td>cellular   </td><td>22         </td><td>may        </td><td>1          </td><td>109        </td><td>1          </td><td>failure    </td><td>14:58:08   </td><td>15:11:24   </td><td>1          </td></tr>\n",
       "</tbody>\n",
       "</table>\n"
      ],
      "text/latex": [
       "\\begin{tabular}{r|lllllllllllllllllll}\n",
       " Id & Age & Job & Marital & Education & Default & Balance & HHInsurance & CarLoan & Communication & LastContactDay & LastContactMonth & NoOfContacts & DaysPassed & PrevAttempts & Outcome & CallStart & CallEnd & CarInsurance\\\\\n",
       "\\hline\n",
       "\t 1           & 32          & management  & single      & tertiary    & 0           & 1218        & 1           & 0           & telephone   & 28          & jan         & 2           &  -1         & 0           & NA          & 13:45:20    & 13:46:30    & 0          \\\\\n",
       "\t 2           & 32          & blue-collar & married     & primary     & 0           & 1156        & 1           & 0           & NA          & 26          & may         & 5           &  -1         & 0           & NA          & 14:49:03    & 14:52:08    & 0          \\\\\n",
       "\t 3           & 29          & management  & single      & tertiary    & 0           &  637        & 1           & 0           & cellular    &  3          & jun         & 1           & 119         & 1           & failure     & 16:30:24    & 16:36:04    & 1          \\\\\n",
       "\t 4           & 25          & student     & single      & primary     & 0           &  373        & 1           & 0           & cellular    & 11          & may         & 2           &  -1         & 0           & NA          & 12:06:43    & 12:20:22    & 1          \\\\\n",
       "\t 5           & 30          & management  & married     & tertiary    & 0           & 2694        & 0           & 0           & cellular    &  3          & jun         & 1           &  -1         & 0           & NA          & 14:35:44    & 14:38:56    & 0          \\\\\n",
       "\t 6           & 32          & technician  & single      & tertiary    & 0           & 1625        & 0           & 0           & cellular    & 22          & may         & 1           & 109         & 1           & failure     & 14:58:08    & 15:11:24    & 1          \\\\\n",
       "\\end{tabular}\n"
      ],
      "text/markdown": [
       "\n",
       "Id | Age | Job | Marital | Education | Default | Balance | HHInsurance | CarLoan | Communication | LastContactDay | LastContactMonth | NoOfContacts | DaysPassed | PrevAttempts | Outcome | CallStart | CallEnd | CarInsurance | \n",
       "|---|---|---|---|---|---|\n",
       "| 1           | 32          | management  | single      | tertiary    | 0           | 1218        | 1           | 0           | telephone   | 28          | jan         | 2           |  -1         | 0           | NA          | 13:45:20    | 13:46:30    | 0           | \n",
       "| 2           | 32          | blue-collar | married     | primary     | 0           | 1156        | 1           | 0           | NA          | 26          | may         | 5           |  -1         | 0           | NA          | 14:49:03    | 14:52:08    | 0           | \n",
       "| 3           | 29          | management  | single      | tertiary    | 0           |  637        | 1           | 0           | cellular    |  3          | jun         | 1           | 119         | 1           | failure     | 16:30:24    | 16:36:04    | 1           | \n",
       "| 4           | 25          | student     | single      | primary     | 0           |  373        | 1           | 0           | cellular    | 11          | may         | 2           |  -1         | 0           | NA          | 12:06:43    | 12:20:22    | 1           | \n",
       "| 5           | 30          | management  | married     | tertiary    | 0           | 2694        | 0           | 0           | cellular    |  3          | jun         | 1           |  -1         | 0           | NA          | 14:35:44    | 14:38:56    | 0           | \n",
       "| 6           | 32          | technician  | single      | tertiary    | 0           | 1625        | 0           | 0           | cellular    | 22          | may         | 1           | 109         | 1           | failure     | 14:58:08    | 15:11:24    | 1           | \n",
       "\n",
       "\n"
      ],
      "text/plain": [
       "  Id Age Job         Marital Education Default Balance HHInsurance CarLoan\n",
       "1 1  32  management  single  tertiary  0       1218    1           0      \n",
       "2 2  32  blue-collar married primary   0       1156    1           0      \n",
       "3 3  29  management  single  tertiary  0        637    1           0      \n",
       "4 4  25  student     single  primary   0        373    1           0      \n",
       "5 5  30  management  married tertiary  0       2694    0           0      \n",
       "6 6  32  technician  single  tertiary  0       1625    0           0      \n",
       "  Communication LastContactDay LastContactMonth NoOfContacts DaysPassed\n",
       "1 telephone     28             jan              2             -1       \n",
       "2 NA            26             may              5             -1       \n",
       "3 cellular       3             jun              1            119       \n",
       "4 cellular      11             may              2             -1       \n",
       "5 cellular       3             jun              1             -1       \n",
       "6 cellular      22             may              1            109       \n",
       "  PrevAttempts Outcome CallStart CallEnd  CarInsurance\n",
       "1 0            NA      13:45:20  13:46:30 0           \n",
       "2 0            NA      14:49:03  14:52:08 0           \n",
       "3 1            failure 16:30:24  16:36:04 1           \n",
       "4 0            NA      12:06:43  12:20:22 1           \n",
       "5 0            NA      14:35:44  14:38:56 0           \n",
       "6 1            failure 14:58:08  15:11:24 1           "
      ]
     },
     "metadata": {},
     "output_type": "display_data"
    }
   ],
   "source": [
    "head(cidata)"
   ]
  },
  {
   "cell_type": "code",
   "execution_count": 15,
   "metadata": {},
   "outputs": [
    {
     "data": {
      "text/plain": [
       "       Id            Age                 Job          Marital    \n",
       " Min.   :   1   Min.   :18.00   management :893   divorced: 483  \n",
       " 1st Qu.:1001   1st Qu.:32.00   blue-collar:759   married :2304  \n",
       " Median :2000   Median :39.00   technician :660   single  :1213  \n",
       " Mean   :2000   Mean   :41.21   admin.     :459                  \n",
       " 3rd Qu.:3000   3rd Qu.:49.00   services   :330                  \n",
       " Max.   :4000   Max.   :95.00   (Other)    :880                  \n",
       "                                NA's       : 19                  \n",
       "     Education       Default          Balance         HHInsurance    \n",
       " primary  : 561   Min.   :0.0000   Min.   :-3058.0   Min.   :0.0000  \n",
       " secondary:1988   1st Qu.:0.0000   1st Qu.:  111.0   1st Qu.:0.0000  \n",
       " tertiary :1282   Median :0.0000   Median :  551.5   Median :0.0000  \n",
       " NA's     : 169   Mean   :0.0145   Mean   : 1532.9   Mean   :0.4928  \n",
       "                  3rd Qu.:0.0000   3rd Qu.: 1619.0   3rd Qu.:1.0000  \n",
       "                  Max.   :1.0000   Max.   :98417.0   Max.   :1.0000  \n",
       "                                                                     \n",
       "    CarLoan        Communication  LastContactDay  LastContactMonth\n",
       " Min.   :0.000   cellular :2831   Min.   : 1.00   may    :1049    \n",
       " 1st Qu.:0.000   telephone: 267   1st Qu.: 8.00   jul    : 573    \n",
       " Median :0.000   NA's     : 902   Median :16.00   aug    : 536    \n",
       " Mean   :0.133                    Mean   :15.72   jun    : 454    \n",
       " 3rd Qu.:0.000                    3rd Qu.:22.00   nov    : 347    \n",
       " Max.   :1.000                    Max.   :31.00   apr    : 306    \n",
       "                                                  (Other): 735    \n",
       "  NoOfContacts      DaysPassed      PrevAttempts        Outcome    \n",
       " Min.   : 1.000   Min.   : -1.00   Min.   : 0.0000   failure: 437  \n",
       " 1st Qu.: 1.000   1st Qu.: -1.00   1st Qu.: 0.0000   other  : 195  \n",
       " Median : 2.000   Median : -1.00   Median : 0.0000   success: 326  \n",
       " Mean   : 2.607   Mean   : 48.71   Mean   : 0.7175   NA's   :3042  \n",
       " 3rd Qu.: 3.000   3rd Qu.: -1.00   3rd Qu.: 0.0000                 \n",
       " Max.   :43.000   Max.   :854.00   Max.   :58.0000                 \n",
       "                                                                   \n",
       "    CallStart        CallEnd      CarInsurance  \n",
       " 10:42:44:   3   10:22:30:   3   Min.   :0.000  \n",
       " 11:48:25:   3   10:52:24:   3   1st Qu.:0.000  \n",
       " 13:54:34:   3   11:27:46:   3   Median :0.000  \n",
       " 15:27:56:   3   09:04:02:   2   Mean   :0.401  \n",
       " 15:48:27:   3   09:06:42:   2   3rd Qu.:1.000  \n",
       " 17:02:39:   3   09:12:47:   2   Max.   :1.000  \n",
       " (Other) :3982   (Other) :3985                  "
      ]
     },
     "metadata": {},
     "output_type": "display_data"
    }
   ],
   "source": [
    "summary(cidata)"
   ]
  },
  {
   "cell_type": "code",
   "execution_count": 16,
   "metadata": {},
   "outputs": [
    {
     "name": "stdout",
     "output_type": "stream",
     "text": [
      "'data.frame':\t4000 obs. of  19 variables:\n",
      " $ Id              : int  1 2 3 4 5 6 7 8 9 10 ...\n",
      " $ Age             : int  32 32 29 25 30 32 37 35 30 30 ...\n",
      " $ Job             : Factor w/ 11 levels \"admin.\",\"blue-collar\",..: 5 2 5 9 5 10 1 5 1 2 ...\n",
      " $ Marital         : Factor w/ 3 levels \"divorced\",\"married\",..: 3 2 3 3 2 3 3 1 2 2 ...\n",
      " $ Education       : Factor w/ 3 levels \"primary\",\"secondary\",..: 3 1 3 1 3 3 3 3 2 2 ...\n",
      " $ Default         : int  0 0 0 0 0 0 0 0 0 0 ...\n",
      " $ Balance         : int  1218 1156 637 373 2694 1625 1000 538 187 3 ...\n",
      " $ HHInsurance     : int  1 1 1 1 0 0 1 1 1 1 ...\n",
      " $ CarLoan         : int  0 0 0 0 0 0 0 0 0 1 ...\n",
      " $ Communication   : Factor w/ 2 levels \"cellular\",\"telephone\": 2 NA 1 1 1 1 1 NA 1 1 ...\n",
      " $ LastContactDay  : int  28 26 3 11 3 22 17 12 18 12 ...\n",
      " $ LastContactMonth: Factor w/ 12 levels \"apr\",\"aug\",\"dec\",..: 5 9 7 9 7 9 8 9 10 9 ...\n",
      " $ NoOfContacts    : int  2 5 1 2 1 1 1 4 1 2 ...\n",
      " $ DaysPassed      : int  -1 -1 119 -1 -1 109 -1 -1 -1 -1 ...\n",
      " $ PrevAttempts    : int  0 0 1 0 0 1 0 0 0 0 ...\n",
      " $ Outcome         : Factor w/ 3 levels \"failure\",\"other\",..: NA NA 1 NA NA 1 NA NA NA NA ...\n",
      " $ CallStart       : Factor w/ 3777 levels \"09:00:00\",\"09:00:01\",..: 1966 2418 3146 1264 2327 2496 1641 2786 1369 162 ...\n",
      " $ CallEnd         : Factor w/ 3764 levels \"09:02:20\",\"09:02:21\",..: 1915 2394 3112 1315 2294 2519 1600 2731 1332 157 ...\n",
      " $ CarInsurance    : int  0 0 1 1 0 1 1 0 0 0 ...\n"
     ]
    }
   ],
   "source": [
    "str(cidata)"
   ]
  },
  {
   "cell_type": "code",
   "execution_count": 17,
   "metadata": {},
   "outputs": [
    {
     "data": {
      "image/png": "[encoded data removed]",
      "text/plain": [
       "plot without title"
      ]
     },
     "metadata": {},
     "output_type": "display_data"
    }
   ],
   "source": [
    "boxplot(cidata)"
   ]
  },
  {
   "cell_type": "markdown",
   "metadata": {},
   "source": [
    "### 2.4 Variable Description"
   ]
  },
  {
   "cell_type": "code",
   "execution_count": 18,
   "metadata": {
    "scrolled": false
   },
   "outputs": [
    {
     "ename": "ERROR",
     "evalue": "Error in magick_image_readpath(path, density, depth, strip): Magick: UnableToOpenBlob `C:\\Users\\student\\Desktop\\Feature Overview.png': No such file or directory @ error/blob.c/OpenBlob/2701\n",
     "output_type": "error",
     "traceback": [
      "Error in magick_image_readpath(path, density, depth, strip): Magick: UnableToOpenBlob `C:\\Users\\student\\Desktop\\Feature Overview.png': No such file or directory @ error/blob.c/OpenBlob/2701\nTraceback:\n",
      "1. image_read(\"Feature Overview.png\")",
      "2. magick_image_readpath(path, density, depth, strip)"
     ]
    }
   ],
   "source": [
    "features <- image_read(\"Feature Overview.png\")\n",
    "print(features)\n",
    "####  Variables\n",
    "#### > Id \n",
    "#### > Age (나이)\n",
    "#### > Job (직업)\n",
    "#### > Marital (결혼 상태)\n",
    "#### > Education (교육 수준)\n",
    "#### > Default (신용 파산)\n",
    "#### > Balance (연봉)\n",
    "#### > HHInsurance (가계 보험 여부)\n",
    "#### > CarLoan (자동차 대출 여부)\n",
    "#### > Communication (contact 방법, e.g. ‘celluar’, ‘ telephone’, ‘NA’)\n",
    "#### > LastContactDay (최종 contact day)\n",
    "#### > LastContactMonth (최종 contact month)\n",
    "#### > NoOfContacts (현재 진행중인 캠페인 동안 contact한 횟수)\n",
    "#### > DaysPassed (지난 캠페인 이후 지난 날 수)\n",
    "#### > PrevAttempts (현재 진행중인 캠페인 이전에 contact한 횟수)\n",
    "#### > Outcome (지난 캠페인의 outcome, e.g. ‘failure’, ‘other’, ‘success’, ’NA’)\n",
    "#### > CallStart (최종 통화 시작 시간)\n",
    "#### > CallEnd (최종 통화 종료 시간)\n",
    "#### > CarInsurance (자동차 보험 가입 여부)"
   ]
  },
  {
   "cell_type": "markdown",
   "metadata": {},
   "source": [
    "From the table above, we could see 6 categorical attributes, 2 temporal attributes, and 11 numeric attributes. Categorical attributes are are “Job“, “Marital“, “Education“, “Communication“, “LastContactMonth“, and “Outcome“. Temporal attributes are “CallStart“, “CallEnd“, and the rest are numeric attributes."
   ]
  },
  {
   "cell_type": "markdown",
   "metadata": {},
   "source": [
    "### 2.5 Age"
   ]
  },
  {
   "cell_type": "code",
   "execution_count": 19,
   "metadata": {},
   "outputs": [
    {
     "data": {
      "text/plain": [
       "   Min. 1st Qu.  Median    Mean 3rd Qu.    Max. \n",
       "  18.00   32.00   39.00   41.21   49.00   95.00 "
      ]
     },
     "metadata": {},
     "output_type": "display_data"
    }
   ],
   "source": [
    "summary(cidata$Age)"
   ]
  },
  {
   "cell_type": "code",
   "execution_count": 20,
   "metadata": {},
   "outputs": [
    {
     "data": {},
     "metadata": {},
     "output_type": "display_data"
    },
    {
     "data": {
      "image/png": "[encoded data removed]",
      "text/plain": [
       "plot without title"
      ]
     },
     "metadata": {},
     "output_type": "display_data"
    }
   ],
   "source": [
    "ggplot(cidata, aes(y=cidata$Age, x=1)) + geom_violin()"
   ]
  },
  {
   "cell_type": "code",
   "execution_count": 21,
   "metadata": {},
   "outputs": [
    {
     "data": {},
     "metadata": {},
     "output_type": "display_data"
    },
    {
     "data": {
      "image/png": "[encoded data removed]",
      "text/plain": [
       "plot without title"
      ]
     },
     "metadata": {},
     "output_type": "display_data"
    }
   ],
   "source": [
    "ggplot(data = cidata) + geom_density(aes(x= cidata$Age), fill = \"grey50\")"
   ]
  },
  {
   "cell_type": "markdown",
   "metadata": {},
   "source": [
    "We need to convert this Age variable to categorial variable at the next step."
   ]
  },
  {
   "cell_type": "markdown",
   "metadata": {},
   "source": [
    "### 2.6 Balance"
   ]
  },
  {
   "cell_type": "code",
   "execution_count": 22,
   "metadata": {},
   "outputs": [
    {
     "data": {},
     "metadata": {},
     "output_type": "display_data"
    },
    {
     "data": {
      "image/png": "[encoded data removed]",
      "text/plain": [
       "plot without title"
      ]
     },
     "metadata": {},
     "output_type": "display_data"
    }
   ],
   "source": [
    "ggplot(data = cidata) + geom_density(aes(x= cidata$Balance), fill = \"grey50\")"
   ]
  },
  {
   "cell_type": "markdown",
   "metadata": {},
   "source": [
    "Since we want to use a regression model to predict “CarInsurance” represented by 1 (buy) and 0 (not buy), converting the data into all numeric is necessary. For categorical attributes, we could create dummy variables for them. For temporal attributes, we could take their difference, the length of promo calls, as a numeric variable to predict “CarInsurance“."
   ]
  },
  {
   "cell_type": "markdown",
   "metadata": {},
   "source": [
    "Furthermore, it is impossible to explore the data, since most of the are not numeric variables. So, we decided to finish the EDA at this stage.."
   ]
  },
  {
   "cell_type": "markdown",
   "metadata": {},
   "source": [
    " "
   ]
  },
  {
   "cell_type": "markdown",
   "metadata": {},
   "source": [
    "## 3. Data Preparation - Missing Value Imputation & Feature Engineering"
   ]
  },
  {
   "cell_type": "markdown",
   "metadata": {},
   "source": [
    "### 3.1 CallStart"
   ]
  },
  {
   "cell_type": "markdown",
   "metadata": {},
   "source": [
    "As you can see above EDA, both \"CallStart\" and \"CallEnd\" variables are string variables.\n",
    "Let's conver it to numeric for the next step."
   ]
  },
  {
   "cell_type": "code",
   "execution_count": 23,
   "metadata": {},
   "outputs": [
    {
     "data": {
      "text/html": [
       "<ol>\n",
       "\t<li><ol class=list-inline>\n",
       "\t<li>'13'</li>\n",
       "\t<li>'45'</li>\n",
       "\t<li>'20'</li>\n",
       "</ol>\n",
       "</li>\n",
       "\t<li><ol class=list-inline>\n",
       "\t<li>'14'</li>\n",
       "\t<li>'49'</li>\n",
       "\t<li>'03'</li>\n",
       "</ol>\n",
       "</li>\n",
       "\t<li><ol class=list-inline>\n",
       "\t<li>'16'</li>\n",
       "\t<li>'30'</li>\n",
       "\t<li>'24'</li>\n",
       "</ol>\n",
       "</li>\n",
       "\t<li><ol class=list-inline>\n",
       "\t<li>'12'</li>\n",
       "\t<li>'06'</li>\n",
       "\t<li>'43'</li>\n",
       "</ol>\n",
       "</li>\n",
       "\t<li><ol class=list-inline>\n",
       "\t<li>'14'</li>\n",
       "\t<li>'35'</li>\n",
       "\t<li>'44'</li>\n",
       "</ol>\n",
       "</li>\n",
       "\t<li><ol class=list-inline>\n",
       "\t<li>'14'</li>\n",
       "\t<li>'58'</li>\n",
       "\t<li>'08'</li>\n",
       "</ol>\n",
       "</li>\n",
       "</ol>\n"
      ],
      "text/latex": [
       "\\begin{enumerate}\n",
       "\\item \\begin{enumerate*}\n",
       "\\item '13'\n",
       "\\item '45'\n",
       "\\item '20'\n",
       "\\end{enumerate*}\n",
       "\n",
       "\\item \\begin{enumerate*}\n",
       "\\item '14'\n",
       "\\item '49'\n",
       "\\item '03'\n",
       "\\end{enumerate*}\n",
       "\n",
       "\\item \\begin{enumerate*}\n",
       "\\item '16'\n",
       "\\item '30'\n",
       "\\item '24'\n",
       "\\end{enumerate*}\n",
       "\n",
       "\\item \\begin{enumerate*}\n",
       "\\item '12'\n",
       "\\item '06'\n",
       "\\item '43'\n",
       "\\end{enumerate*}\n",
       "\n",
       "\\item \\begin{enumerate*}\n",
       "\\item '14'\n",
       "\\item '35'\n",
       "\\item '44'\n",
       "\\end{enumerate*}\n",
       "\n",
       "\\item \\begin{enumerate*}\n",
       "\\item '14'\n",
       "\\item '58'\n",
       "\\item '08'\n",
       "\\end{enumerate*}\n",
       "\n",
       "\\end{enumerate}\n"
      ],
      "text/markdown": [
       "1. 1. '13'\n",
       "2. '45'\n",
       "3. '20'\n",
       "\n",
       "\n",
       "\n",
       "2. 1. '14'\n",
       "2. '49'\n",
       "3. '03'\n",
       "\n",
       "\n",
       "\n",
       "3. 1. '16'\n",
       "2. '30'\n",
       "3. '24'\n",
       "\n",
       "\n",
       "\n",
       "4. 1. '12'\n",
       "2. '06'\n",
       "3. '43'\n",
       "\n",
       "\n",
       "\n",
       "5. 1. '14'\n",
       "2. '35'\n",
       "3. '44'\n",
       "\n",
       "\n",
       "\n",
       "6. 1. '14'\n",
       "2. '58'\n",
       "3. '08'\n",
       "\n",
       "\n",
       "\n",
       "\n",
       "\n"
      ],
      "text/plain": [
       "[[1]]\n",
       "[1] \"13\" \"45\" \"20\"\n",
       "\n",
       "[[2]]\n",
       "[1] \"14\" \"49\" \"03\"\n",
       "\n",
       "[[3]]\n",
       "[1] \"16\" \"30\" \"24\"\n",
       "\n",
       "[[4]]\n",
       "[1] \"12\" \"06\" \"43\"\n",
       "\n",
       "[[5]]\n",
       "[1] \"14\" \"35\" \"44\"\n",
       "\n",
       "[[6]]\n",
       "[1] \"14\" \"58\" \"08\"\n"
      ]
     },
     "metadata": {},
     "output_type": "display_data"
    }
   ],
   "source": [
    "starttime <- str_split(string = cidata$CallStart, pattern=\":\")\n",
    "head(starttime)"
   ]
  },
  {
   "cell_type": "code",
   "execution_count": 24,
   "metadata": {},
   "outputs": [
    {
     "data": {
      "text/html": [
       "<table>\n",
       "<thead><tr><th></th><th scope=col>X1</th><th scope=col>X2</th><th scope=col>X3</th></tr></thead>\n",
       "<tbody>\n",
       "\t<tr><th scope=row>init</th><td>13</td><td>45</td><td>20</td></tr>\n",
       "\t<tr><th scope=row>X</th><td>14</td><td>49</td><td>03</td></tr>\n",
       "\t<tr><th scope=row>X.1</th><td>16</td><td>30</td><td>24</td></tr>\n",
       "\t<tr><th scope=row>X.2</th><td>12</td><td>06</td><td>43</td></tr>\n",
       "\t<tr><th scope=row>X.3</th><td>14</td><td>35</td><td>44</td></tr>\n",
       "\t<tr><th scope=row>X.4</th><td>14</td><td>58</td><td>08</td></tr>\n",
       "</tbody>\n",
       "</table>\n"
      ],
      "text/latex": [
       "\\begin{tabular}{r|lll}\n",
       "  & X1 & X2 & X3\\\\\n",
       "\\hline\n",
       "\tinit & 13 & 45 & 20\\\\\n",
       "\tX & 14 & 49 & 03\\\\\n",
       "\tX.1 & 16 & 30 & 24\\\\\n",
       "\tX.2 & 12 & 06 & 43\\\\\n",
       "\tX.3 & 14 & 35 & 44\\\\\n",
       "\tX.4 & 14 & 58 & 08\\\\\n",
       "\\end{tabular}\n"
      ],
      "text/markdown": [
       "\n",
       "| <!--/--> | X1 | X2 | X3 | \n",
       "|---|---|---|---|---|---|\n",
       "| init | 13 | 45 | 20 | \n",
       "| X | 14 | 49 | 03 | \n",
       "| X.1 | 16 | 30 | 24 | \n",
       "| X.2 | 12 | 06 | 43 | \n",
       "| X.3 | 14 | 35 | 44 | \n",
       "| X.4 | 14 | 58 | 08 | \n",
       "\n",
       "\n"
      ],
      "text/plain": [
       "     X1 X2 X3\n",
       "init 13 45 20\n",
       "X    14 49 03\n",
       "X.1  16 30 24\n",
       "X.2  12 06 43\n",
       "X.3  14 35 44\n",
       "X.4  14 58 08"
      ]
     },
     "metadata": {},
     "output_type": "display_data"
    }
   ],
   "source": [
    "starttime <- data.frame(Reduce(rbind, starttime)) \n",
    "head(starttime)"
   ]
  },
  {
   "cell_type": "code",
   "execution_count": 25,
   "metadata": {},
   "outputs": [],
   "source": [
    "starttime$X1 <- as.numeric(as.character(starttime$X1))\n",
    "\n",
    "starttime$X2 <- as.numeric(as.character(starttime$X2))\n",
    "\n",
    "starttime$X3 <- as.numeric(as.character(starttime$X3))"
   ]
  },
  {
   "cell_type": "code",
   "execution_count": 26,
   "metadata": {},
   "outputs": [],
   "source": [
    "startfactor <- c(\"starthour\", \"startminute\", \"startsecond\")"
   ]
  },
  {
   "cell_type": "code",
   "execution_count": 27,
   "metadata": {},
   "outputs": [
    {
     "data": {
      "text/html": [
       "<table>\n",
       "<thead><tr><th scope=col>starthour</th><th scope=col>startminute</th><th scope=col>startsecond</th></tr></thead>\n",
       "<tbody>\n",
       "\t<tr><td>13</td><td>45</td><td>20</td></tr>\n",
       "\t<tr><td>14</td><td>49</td><td> 3</td></tr>\n",
       "\t<tr><td>16</td><td>30</td><td>24</td></tr>\n",
       "\t<tr><td>12</td><td> 6</td><td>43</td></tr>\n",
       "\t<tr><td>14</td><td>35</td><td>44</td></tr>\n",
       "\t<tr><td>14</td><td>58</td><td> 8</td></tr>\n",
       "</tbody>\n",
       "</table>\n"
      ],
      "text/latex": [
       "\\begin{tabular}{r|lll}\n",
       " starthour & startminute & startsecond\\\\\n",
       "\\hline\n",
       "\t 13 & 45 & 20\\\\\n",
       "\t 14 & 49 &  3\\\\\n",
       "\t 16 & 30 & 24\\\\\n",
       "\t 12 &  6 & 43\\\\\n",
       "\t 14 & 35 & 44\\\\\n",
       "\t 14 & 58 &  8\\\\\n",
       "\\end{tabular}\n"
      ],
      "text/markdown": [
       "\n",
       "starthour | startminute | startsecond | \n",
       "|---|---|---|---|---|---|\n",
       "| 13 | 45 | 20 | \n",
       "| 14 | 49 |  3 | \n",
       "| 16 | 30 | 24 | \n",
       "| 12 |  6 | 43 | \n",
       "| 14 | 35 | 44 | \n",
       "| 14 | 58 |  8 | \n",
       "\n",
       "\n"
      ],
      "text/plain": [
       "  starthour startminute startsecond\n",
       "1 13        45          20         \n",
       "2 14        49           3         \n",
       "3 16        30          24         \n",
       "4 12         6          43         \n",
       "5 14        35          44         \n",
       "6 14        58           8         "
      ]
     },
     "metadata": {},
     "output_type": "display_data"
    }
   ],
   "source": [
    "names(starttime) <- startfactor\n",
    "row.names(starttime) <- NULL\n",
    "head(starttime)"
   ]
  },
  {
   "cell_type": "markdown",
   "metadata": {},
   "source": [
    "### 3.2 CallEnd"
   ]
  },
  {
   "cell_type": "markdown",
   "metadata": {},
   "source": [
    "Converting the \"CallEnd\" variables to numeric. It will be same step as we did above."
   ]
  },
  {
   "cell_type": "code",
   "execution_count": 28,
   "metadata": {},
   "outputs": [
    {
     "data": {
      "text/html": [
       "<table>\n",
       "<thead><tr><th scope=col>endhour</th><th scope=col>endminute</th><th scope=col>endsecond</th></tr></thead>\n",
       "<tbody>\n",
       "\t<tr><td>13</td><td>46</td><td>30</td></tr>\n",
       "\t<tr><td>14</td><td>52</td><td> 8</td></tr>\n",
       "\t<tr><td>16</td><td>36</td><td> 4</td></tr>\n",
       "\t<tr><td>12</td><td>20</td><td>22</td></tr>\n",
       "\t<tr><td>14</td><td>38</td><td>56</td></tr>\n",
       "\t<tr><td>15</td><td>11</td><td>24</td></tr>\n",
       "</tbody>\n",
       "</table>\n"
      ],
      "text/latex": [
       "\\begin{tabular}{r|lll}\n",
       " endhour & endminute & endsecond\\\\\n",
       "\\hline\n",
       "\t 13 & 46 & 30\\\\\n",
       "\t 14 & 52 &  8\\\\\n",
       "\t 16 & 36 &  4\\\\\n",
       "\t 12 & 20 & 22\\\\\n",
       "\t 14 & 38 & 56\\\\\n",
       "\t 15 & 11 & 24\\\\\n",
       "\\end{tabular}\n"
      ],
      "text/markdown": [
       "\n",
       "endhour | endminute | endsecond | \n",
       "|---|---|---|---|---|---|\n",
       "| 13 | 46 | 30 | \n",
       "| 14 | 52 |  8 | \n",
       "| 16 | 36 |  4 | \n",
       "| 12 | 20 | 22 | \n",
       "| 14 | 38 | 56 | \n",
       "| 15 | 11 | 24 | \n",
       "\n",
       "\n"
      ],
      "text/plain": [
       "  endhour endminute endsecond\n",
       "1 13      46        30       \n",
       "2 14      52         8       \n",
       "3 16      36         4       \n",
       "4 12      20        22       \n",
       "5 14      38        56       \n",
       "6 15      11        24       "
      ]
     },
     "metadata": {},
     "output_type": "display_data"
    }
   ],
   "source": [
    "endtime <- str_split(string = cidata$CallEnd, pattern=\":\")\n",
    "endtime <- data.frame(Reduce(rbind, endtime)) \n",
    "endtime$X1 <- as.numeric(as.character(endtime$X1))\n",
    "endtime$X2 <- as.numeric(as.character(endtime$X2))\n",
    "endtime$X3 <- as.numeric(as.character(endtime$X3))\n",
    "endfactor <- c(\"endhour\", \"endminute\", \"endsecond\")\n",
    "names(endtime) <- endfactor\n",
    "row.names(endtime) <- NULL\n",
    "head(endtime)"
   ]
  },
  {
   "cell_type": "markdown",
   "metadata": {},
   "source": [
    "### 3.3 dif"
   ]
  },
  {
   "cell_type": "markdown",
   "metadata": {},
   "source": [
    "For transforming the temporal variables, “CallStart” and “CallEnd“, I take the difference of them by subtracting  “CallEnd” by “CallStart” to derive the duration of call which might determine a customer decision.\n",
    "We create derived variable which is named \"dif\"."
   ]
  },
  {
   "cell_type": "code",
   "execution_count": 29,
   "metadata": {},
   "outputs": [
    {
     "data": {
      "text/html": [
       "<table>\n",
       "<thead><tr><th scope=col>endhour</th><th scope=col>endminute</th><th scope=col>endsecond</th></tr></thead>\n",
       "<tbody>\n",
       "\t<tr><td>0  </td><td>  1</td><td> 10</td></tr>\n",
       "\t<tr><td>0  </td><td>  3</td><td>  5</td></tr>\n",
       "\t<tr><td>0  </td><td>  6</td><td>-20</td></tr>\n",
       "\t<tr><td>0  </td><td> 14</td><td>-21</td></tr>\n",
       "\t<tr><td>0  </td><td>  3</td><td> 12</td></tr>\n",
       "\t<tr><td>1  </td><td>-47</td><td> 16</td></tr>\n",
       "</tbody>\n",
       "</table>\n"
      ],
      "text/latex": [
       "\\begin{tabular}{r|lll}\n",
       " endhour & endminute & endsecond\\\\\n",
       "\\hline\n",
       "\t 0   &   1 &  10\\\\\n",
       "\t 0   &   3 &   5\\\\\n",
       "\t 0   &   6 & -20\\\\\n",
       "\t 0   &  14 & -21\\\\\n",
       "\t 0   &   3 &  12\\\\\n",
       "\t 1   & -47 &  16\\\\\n",
       "\\end{tabular}\n"
      ],
      "text/markdown": [
       "\n",
       "endhour | endminute | endsecond | \n",
       "|---|---|---|---|---|---|\n",
       "| 0   |   1 |  10 | \n",
       "| 0   |   3 |   5 | \n",
       "| 0   |   6 | -20 | \n",
       "| 0   |  14 | -21 | \n",
       "| 0   |   3 |  12 | \n",
       "| 1   | -47 |  16 | \n",
       "\n",
       "\n"
      ],
      "text/plain": [
       "  endhour endminute endsecond\n",
       "1 0         1        10      \n",
       "2 0         3         5      \n",
       "3 0         6       -20      \n",
       "4 0        14       -21      \n",
       "5 0         3        12      \n",
       "6 1       -47        16      "
      ]
     },
     "metadata": {},
     "output_type": "display_data"
    }
   ],
   "source": [
    "dif <- endtime - starttime\n",
    "head(dif)"
   ]
  },
  {
   "cell_type": "code",
   "execution_count": 30,
   "metadata": {},
   "outputs": [
    {
     "data": {
      "text/html": [
       "<ol class=list-inline>\n",
       "\t<li>70</li>\n",
       "\t<li>185</li>\n",
       "\t<li>340</li>\n",
       "\t<li>819</li>\n",
       "\t<li>192</li>\n",
       "\t<li>796</li>\n",
       "</ol>\n"
      ],
      "text/latex": [
       "\\begin{enumerate*}\n",
       "\\item 70\n",
       "\\item 185\n",
       "\\item 340\n",
       "\\item 819\n",
       "\\item 192\n",
       "\\item 796\n",
       "\\end{enumerate*}\n"
      ],
      "text/markdown": [
       "1. 70\n",
       "2. 185\n",
       "3. 340\n",
       "4. 819\n",
       "5. 192\n",
       "6. 796\n",
       "\n",
       "\n"
      ],
      "text/plain": [
       "[1]  70 185 340 819 192 796"
      ]
     },
     "metadata": {},
     "output_type": "display_data"
    },
    {
     "data": {
      "text/plain": [
       "   Min. 1st Qu.  Median    Mean 3rd Qu.    Max. \n",
       "    5.0   126.0   232.0   350.8   460.0  3253.0 "
      ]
     },
     "metadata": {},
     "output_type": "display_data"
    }
   ],
   "source": [
    "dif <- (dif$endhour * 3600) + (dif$endminute * 60) + (dif$endsecond)\n",
    "head(dif)\n",
    "summary(dif)"
   ]
  },
  {
   "cell_type": "code",
   "execution_count": 31,
   "metadata": {},
   "outputs": [
    {
     "data": {
      "text/html": [
       "<table>\n",
       "<thead><tr><th scope=col>Id</th><th scope=col>Age</th><th scope=col>Job</th><th scope=col>Marital</th><th scope=col>Education</th><th scope=col>Default</th><th scope=col>Balance</th><th scope=col>HHInsurance</th><th scope=col>CarLoan</th><th scope=col>Communication</th><th scope=col>...</th><th scope=col>CallStart</th><th scope=col>CallEnd</th><th scope=col>CarInsurance</th><th scope=col>starthour</th><th scope=col>startminute</th><th scope=col>startsecond</th><th scope=col>endhour</th><th scope=col>endminute</th><th scope=col>endsecond</th><th scope=col>dif</th></tr></thead>\n",
       "<tbody>\n",
       "\t<tr><td>1          </td><td>32         </td><td>management </td><td>single     </td><td>tertiary   </td><td>0          </td><td>1218       </td><td>1          </td><td>0          </td><td>telephone  </td><td>...        </td><td>13:45:20   </td><td>13:46:30   </td><td>0          </td><td>13         </td><td>45         </td><td>20         </td><td>13         </td><td>46         </td><td>30         </td><td> 70        </td></tr>\n",
       "\t<tr><td>2          </td><td>32         </td><td>blue-collar</td><td>married    </td><td>primary    </td><td>0          </td><td>1156       </td><td>1          </td><td>0          </td><td>NA         </td><td>...        </td><td>14:49:03   </td><td>14:52:08   </td><td>0          </td><td>14         </td><td>49         </td><td> 3         </td><td>14         </td><td>52         </td><td> 8         </td><td>185        </td></tr>\n",
       "\t<tr><td>3          </td><td>29         </td><td>management </td><td>single     </td><td>tertiary   </td><td>0          </td><td> 637       </td><td>1          </td><td>0          </td><td>cellular   </td><td>...        </td><td>16:30:24   </td><td>16:36:04   </td><td>1          </td><td>16         </td><td>30         </td><td>24         </td><td>16         </td><td>36         </td><td> 4         </td><td>340        </td></tr>\n",
       "\t<tr><td>4          </td><td>25         </td><td>student    </td><td>single     </td><td>primary    </td><td>0          </td><td> 373       </td><td>1          </td><td>0          </td><td>cellular   </td><td>...        </td><td>12:06:43   </td><td>12:20:22   </td><td>1          </td><td>12         </td><td> 6         </td><td>43         </td><td>12         </td><td>20         </td><td>22         </td><td>819        </td></tr>\n",
       "\t<tr><td>5          </td><td>30         </td><td>management </td><td>married    </td><td>tertiary   </td><td>0          </td><td>2694       </td><td>0          </td><td>0          </td><td>cellular   </td><td>...        </td><td>14:35:44   </td><td>14:38:56   </td><td>0          </td><td>14         </td><td>35         </td><td>44         </td><td>14         </td><td>38         </td><td>56         </td><td>192        </td></tr>\n",
       "\t<tr><td>6          </td><td>32         </td><td>technician </td><td>single     </td><td>tertiary   </td><td>0          </td><td>1625       </td><td>0          </td><td>0          </td><td>cellular   </td><td>...        </td><td>14:58:08   </td><td>15:11:24   </td><td>1          </td><td>14         </td><td>58         </td><td> 8         </td><td>15         </td><td>11         </td><td>24         </td><td>796        </td></tr>\n",
       "</tbody>\n",
       "</table>\n"
      ],
      "text/latex": [
       "\\begin{tabular}{r|llllllllllllllllllllllllll}\n",
       " Id & Age & Job & Marital & Education & Default & Balance & HHInsurance & CarLoan & Communication & ... & CallStart & CallEnd & CarInsurance & starthour & startminute & startsecond & endhour & endminute & endsecond & dif\\\\\n",
       "\\hline\n",
       "\t 1           & 32          & management  & single      & tertiary    & 0           & 1218        & 1           & 0           & telephone   & ...         & 13:45:20    & 13:46:30    & 0           & 13          & 45          & 20          & 13          & 46          & 30          &  70        \\\\\n",
       "\t 2           & 32          & blue-collar & married     & primary     & 0           & 1156        & 1           & 0           & NA          & ...         & 14:49:03    & 14:52:08    & 0           & 14          & 49          &  3          & 14          & 52          &  8          & 185        \\\\\n",
       "\t 3           & 29          & management  & single      & tertiary    & 0           &  637        & 1           & 0           & cellular    & ...         & 16:30:24    & 16:36:04    & 1           & 16          & 30          & 24          & 16          & 36          &  4          & 340        \\\\\n",
       "\t 4           & 25          & student     & single      & primary     & 0           &  373        & 1           & 0           & cellular    & ...         & 12:06:43    & 12:20:22    & 1           & 12          &  6          & 43          & 12          & 20          & 22          & 819        \\\\\n",
       "\t 5           & 30          & management  & married     & tertiary    & 0           & 2694        & 0           & 0           & cellular    & ...         & 14:35:44    & 14:38:56    & 0           & 14          & 35          & 44          & 14          & 38          & 56          & 192        \\\\\n",
       "\t 6           & 32          & technician  & single      & tertiary    & 0           & 1625        & 0           & 0           & cellular    & ...         & 14:58:08    & 15:11:24    & 1           & 14          & 58          &  8          & 15          & 11          & 24          & 796        \\\\\n",
       "\\end{tabular}\n"
      ],
      "text/markdown": [
       "\n",
       "Id | Age | Job | Marital | Education | Default | Balance | HHInsurance | CarLoan | Communication | ... | CallStart | CallEnd | CarInsurance | starthour | startminute | startsecond | endhour | endminute | endsecond | dif | \n",
       "|---|---|---|---|---|---|\n",
       "| 1           | 32          | management  | single      | tertiary    | 0           | 1218        | 1           | 0           | telephone   | ...         | 13:45:20    | 13:46:30    | 0           | 13          | 45          | 20          | 13          | 46          | 30          |  70         | \n",
       "| 2           | 32          | blue-collar | married     | primary     | 0           | 1156        | 1           | 0           | NA          | ...         | 14:49:03    | 14:52:08    | 0           | 14          | 49          |  3          | 14          | 52          |  8          | 185         | \n",
       "| 3           | 29          | management  | single      | tertiary    | 0           |  637        | 1           | 0           | cellular    | ...         | 16:30:24    | 16:36:04    | 1           | 16          | 30          | 24          | 16          | 36          |  4          | 340         | \n",
       "| 4           | 25          | student     | single      | primary     | 0           |  373        | 1           | 0           | cellular    | ...         | 12:06:43    | 12:20:22    | 1           | 12          |  6          | 43          | 12          | 20          | 22          | 819         | \n",
       "| 5           | 30          | management  | married     | tertiary    | 0           | 2694        | 0           | 0           | cellular    | ...         | 14:35:44    | 14:38:56    | 0           | 14          | 35          | 44          | 14          | 38          | 56          | 192         | \n",
       "| 6           | 32          | technician  | single      | tertiary    | 0           | 1625        | 0           | 0           | cellular    | ...         | 14:58:08    | 15:11:24    | 1           | 14          | 58          |  8          | 15          | 11          | 24          | 796         | \n",
       "\n",
       "\n"
      ],
      "text/plain": [
       "  Id Age Job         Marital Education Default Balance HHInsurance CarLoan\n",
       "1 1  32  management  single  tertiary  0       1218    1           0      \n",
       "2 2  32  blue-collar married primary   0       1156    1           0      \n",
       "3 3  29  management  single  tertiary  0        637    1           0      \n",
       "4 4  25  student     single  primary   0        373    1           0      \n",
       "5 5  30  management  married tertiary  0       2694    0           0      \n",
       "6 6  32  technician  single  tertiary  0       1625    0           0      \n",
       "  Communication ... CallStart CallEnd  CarInsurance starthour startminute\n",
       "1 telephone     ... 13:45:20  13:46:30 0            13        45         \n",
       "2 NA            ... 14:49:03  14:52:08 0            14        49         \n",
       "3 cellular      ... 16:30:24  16:36:04 1            16        30         \n",
       "4 cellular      ... 12:06:43  12:20:22 1            12         6         \n",
       "5 cellular      ... 14:35:44  14:38:56 0            14        35         \n",
       "6 cellular      ... 14:58:08  15:11:24 1            14        58         \n",
       "  startsecond endhour endminute endsecond dif\n",
       "1 20          13      46        30         70\n",
       "2  3          14      52         8        185\n",
       "3 24          16      36         4        340\n",
       "4 43          12      20        22        819\n",
       "5 44          14      38        56        192\n",
       "6  8          15      11        24        796"
      ]
     },
     "metadata": {},
     "output_type": "display_data"
    }
   ],
   "source": [
    "cidata <- cbind(cidata, starttime, endtime)\n",
    "cidata$dif <- dif\n",
    "head(cidata)"
   ]
  },
  {
   "cell_type": "code",
   "execution_count": 32,
   "metadata": {},
   "outputs": [
    {
     "data": {
      "text/html": [
       "<table>\n",
       "<thead><tr><th scope=col>Id</th><th scope=col>Age</th><th scope=col>Job</th><th scope=col>Marital</th><th scope=col>Education</th><th scope=col>Default</th><th scope=col>Balance</th><th scope=col>HHInsurance</th><th scope=col>CarLoan</th><th scope=col>Communication</th><th scope=col>...</th><th scope=col>PrevAttempts</th><th scope=col>Outcome</th><th scope=col>CarInsurance</th><th scope=col>starthour</th><th scope=col>startminute</th><th scope=col>startsecond</th><th scope=col>endhour</th><th scope=col>endminute</th><th scope=col>endsecond</th><th scope=col>dif</th></tr></thead>\n",
       "<tbody>\n",
       "\t<tr><td>1          </td><td>32         </td><td>management </td><td>single     </td><td>tertiary   </td><td>0          </td><td>1218       </td><td>1          </td><td>0          </td><td>telephone  </td><td>...        </td><td>0          </td><td>NA         </td><td>0          </td><td>13         </td><td>45         </td><td>20         </td><td>13         </td><td>46         </td><td>30         </td><td> 70        </td></tr>\n",
       "\t<tr><td>2          </td><td>32         </td><td>blue-collar</td><td>married    </td><td>primary    </td><td>0          </td><td>1156       </td><td>1          </td><td>0          </td><td>NA         </td><td>...        </td><td>0          </td><td>NA         </td><td>0          </td><td>14         </td><td>49         </td><td> 3         </td><td>14         </td><td>52         </td><td> 8         </td><td>185        </td></tr>\n",
       "\t<tr><td>3          </td><td>29         </td><td>management </td><td>single     </td><td>tertiary   </td><td>0          </td><td> 637       </td><td>1          </td><td>0          </td><td>cellular   </td><td>...        </td><td>1          </td><td>failure    </td><td>1          </td><td>16         </td><td>30         </td><td>24         </td><td>16         </td><td>36         </td><td> 4         </td><td>340        </td></tr>\n",
       "\t<tr><td>4          </td><td>25         </td><td>student    </td><td>single     </td><td>primary    </td><td>0          </td><td> 373       </td><td>1          </td><td>0          </td><td>cellular   </td><td>...        </td><td>0          </td><td>NA         </td><td>1          </td><td>12         </td><td> 6         </td><td>43         </td><td>12         </td><td>20         </td><td>22         </td><td>819        </td></tr>\n",
       "\t<tr><td>5          </td><td>30         </td><td>management </td><td>married    </td><td>tertiary   </td><td>0          </td><td>2694       </td><td>0          </td><td>0          </td><td>cellular   </td><td>...        </td><td>0          </td><td>NA         </td><td>0          </td><td>14         </td><td>35         </td><td>44         </td><td>14         </td><td>38         </td><td>56         </td><td>192        </td></tr>\n",
       "\t<tr><td>6          </td><td>32         </td><td>technician </td><td>single     </td><td>tertiary   </td><td>0          </td><td>1625       </td><td>0          </td><td>0          </td><td>cellular   </td><td>...        </td><td>1          </td><td>failure    </td><td>1          </td><td>14         </td><td>58         </td><td> 8         </td><td>15         </td><td>11         </td><td>24         </td><td>796        </td></tr>\n",
       "</tbody>\n",
       "</table>\n"
      ],
      "text/latex": [
       "\\begin{tabular}{r|llllllllllllllllllllllll}\n",
       " Id & Age & Job & Marital & Education & Default & Balance & HHInsurance & CarLoan & Communication & ... & PrevAttempts & Outcome & CarInsurance & starthour & startminute & startsecond & endhour & endminute & endsecond & dif\\\\\n",
       "\\hline\n",
       "\t 1           & 32          & management  & single      & tertiary    & 0           & 1218        & 1           & 0           & telephone   & ...         & 0           & NA          & 0           & 13          & 45          & 20          & 13          & 46          & 30          &  70        \\\\\n",
       "\t 2           & 32          & blue-collar & married     & primary     & 0           & 1156        & 1           & 0           & NA          & ...         & 0           & NA          & 0           & 14          & 49          &  3          & 14          & 52          &  8          & 185        \\\\\n",
       "\t 3           & 29          & management  & single      & tertiary    & 0           &  637        & 1           & 0           & cellular    & ...         & 1           & failure     & 1           & 16          & 30          & 24          & 16          & 36          &  4          & 340        \\\\\n",
       "\t 4           & 25          & student     & single      & primary     & 0           &  373        & 1           & 0           & cellular    & ...         & 0           & NA          & 1           & 12          &  6          & 43          & 12          & 20          & 22          & 819        \\\\\n",
       "\t 5           & 30          & management  & married     & tertiary    & 0           & 2694        & 0           & 0           & cellular    & ...         & 0           & NA          & 0           & 14          & 35          & 44          & 14          & 38          & 56          & 192        \\\\\n",
       "\t 6           & 32          & technician  & single      & tertiary    & 0           & 1625        & 0           & 0           & cellular    & ...         & 1           & failure     & 1           & 14          & 58          &  8          & 15          & 11          & 24          & 796        \\\\\n",
       "\\end{tabular}\n"
      ],
      "text/markdown": [
       "\n",
       "Id | Age | Job | Marital | Education | Default | Balance | HHInsurance | CarLoan | Communication | ... | PrevAttempts | Outcome | CarInsurance | starthour | startminute | startsecond | endhour | endminute | endsecond | dif | \n",
       "|---|---|---|---|---|---|\n",
       "| 1           | 32          | management  | single      | tertiary    | 0           | 1218        | 1           | 0           | telephone   | ...         | 0           | NA          | 0           | 13          | 45          | 20          | 13          | 46          | 30          |  70         | \n",
       "| 2           | 32          | blue-collar | married     | primary     | 0           | 1156        | 1           | 0           | NA          | ...         | 0           | NA          | 0           | 14          | 49          |  3          | 14          | 52          |  8          | 185         | \n",
       "| 3           | 29          | management  | single      | tertiary    | 0           |  637        | 1           | 0           | cellular    | ...         | 1           | failure     | 1           | 16          | 30          | 24          | 16          | 36          |  4          | 340         | \n",
       "| 4           | 25          | student     | single      | primary     | 0           |  373        | 1           | 0           | cellular    | ...         | 0           | NA          | 1           | 12          |  6          | 43          | 12          | 20          | 22          | 819         | \n",
       "| 5           | 30          | management  | married     | tertiary    | 0           | 2694        | 0           | 0           | cellular    | ...         | 0           | NA          | 0           | 14          | 35          | 44          | 14          | 38          | 56          | 192         | \n",
       "| 6           | 32          | technician  | single      | tertiary    | 0           | 1625        | 0           | 0           | cellular    | ...         | 1           | failure     | 1           | 14          | 58          |  8          | 15          | 11          | 24          | 796         | \n",
       "\n",
       "\n"
      ],
      "text/plain": [
       "  Id Age Job         Marital Education Default Balance HHInsurance CarLoan\n",
       "1 1  32  management  single  tertiary  0       1218    1           0      \n",
       "2 2  32  blue-collar married primary   0       1156    1           0      \n",
       "3 3  29  management  single  tertiary  0        637    1           0      \n",
       "4 4  25  student     single  primary   0        373    1           0      \n",
       "5 5  30  management  married tertiary  0       2694    0           0      \n",
       "6 6  32  technician  single  tertiary  0       1625    0           0      \n",
       "  Communication ... PrevAttempts Outcome CarInsurance starthour startminute\n",
       "1 telephone     ... 0            NA      0            13        45         \n",
       "2 NA            ... 0            NA      0            14        49         \n",
       "3 cellular      ... 1            failure 1            16        30         \n",
       "4 cellular      ... 0            NA      1            12         6         \n",
       "5 cellular      ... 0            NA      0            14        35         \n",
       "6 cellular      ... 1            failure 1            14        58         \n",
       "  startsecond endhour endminute endsecond dif\n",
       "1 20          13      46        30         70\n",
       "2  3          14      52         8        185\n",
       "3 24          16      36         4        340\n",
       "4 43          12      20        22        819\n",
       "5 44          14      38        56        192\n",
       "6  8          15      11        24        796"
      ]
     },
     "metadata": {},
     "output_type": "display_data"
    }
   ],
   "source": [
    "cidata <- cidata[,-c(17,18)]\n",
    "head(cidata)"
   ]
  },
  {
   "cell_type": "markdown",
   "metadata": {},
   "source": [
    "### 3.4 Age"
   ]
  },
  {
   "cell_type": "markdown",
   "metadata": {},
   "source": [
    "Converting \"Age\" variable to categorical variable. The age ranges are cagetorised based on the \"United States Age structure\". You can check this out through the web page as follows: https://www.indexmundi.com/united_states/age_structure.html\n"
   ]
  },
  {
   "cell_type": "code",
   "execution_count": 33,
   "metadata": {},
   "outputs": [
    {
     "data": {
      "text/html": [
       "<table>\n",
       "<thead><tr><th scope=col>Id</th><th scope=col>Age</th><th scope=col>Job</th><th scope=col>Marital</th><th scope=col>Education</th><th scope=col>Default</th><th scope=col>Balance</th><th scope=col>HHInsurance</th><th scope=col>CarLoan</th><th scope=col>Communication</th><th scope=col>...</th><th scope=col>startminute</th><th scope=col>startsecond</th><th scope=col>endhour</th><th scope=col>endminute</th><th scope=col>endsecond</th><th scope=col>dif</th><th scope=col>early_working_age</th><th scope=col>prime_working_age</th><th scope=col>mature_working_age</th><th scope=col>elderly</th></tr></thead>\n",
       "<tbody>\n",
       "\t<tr><td>1          </td><td>32         </td><td>management </td><td>single     </td><td>tertiary   </td><td>0          </td><td>1218       </td><td>1          </td><td>0          </td><td>telephone  </td><td>...        </td><td>45         </td><td>20         </td><td>13         </td><td>46         </td><td>30         </td><td> 70        </td><td>0          </td><td>1          </td><td>0          </td><td>0          </td></tr>\n",
       "\t<tr><td>2          </td><td>32         </td><td>blue-collar</td><td>married    </td><td>primary    </td><td>0          </td><td>1156       </td><td>1          </td><td>0          </td><td>NA         </td><td>...        </td><td>49         </td><td> 3         </td><td>14         </td><td>52         </td><td> 8         </td><td>185        </td><td>0          </td><td>1          </td><td>0          </td><td>0          </td></tr>\n",
       "\t<tr><td>3          </td><td>29         </td><td>management </td><td>single     </td><td>tertiary   </td><td>0          </td><td> 637       </td><td>1          </td><td>0          </td><td>cellular   </td><td>...        </td><td>30         </td><td>24         </td><td>16         </td><td>36         </td><td> 4         </td><td>340        </td><td>0          </td><td>1          </td><td>0          </td><td>0          </td></tr>\n",
       "\t<tr><td>4          </td><td>25         </td><td>student    </td><td>single     </td><td>primary    </td><td>0          </td><td> 373       </td><td>1          </td><td>0          </td><td>cellular   </td><td>...        </td><td> 6         </td><td>43         </td><td>12         </td><td>20         </td><td>22         </td><td>819        </td><td>0          </td><td>1          </td><td>0          </td><td>0          </td></tr>\n",
       "\t<tr><td>5          </td><td>30         </td><td>management </td><td>married    </td><td>tertiary   </td><td>0          </td><td>2694       </td><td>0          </td><td>0          </td><td>cellular   </td><td>...        </td><td>35         </td><td>44         </td><td>14         </td><td>38         </td><td>56         </td><td>192        </td><td>0          </td><td>1          </td><td>0          </td><td>0          </td></tr>\n",
       "\t<tr><td>6          </td><td>32         </td><td>technician </td><td>single     </td><td>tertiary   </td><td>0          </td><td>1625       </td><td>0          </td><td>0          </td><td>cellular   </td><td>...        </td><td>58         </td><td> 8         </td><td>15         </td><td>11         </td><td>24         </td><td>796        </td><td>0          </td><td>1          </td><td>0          </td><td>0          </td></tr>\n",
       "</tbody>\n",
       "</table>\n"
      ],
      "text/latex": [
       "\\begin{tabular}{r|llllllllllllllllllllllllllll}\n",
       " Id & Age & Job & Marital & Education & Default & Balance & HHInsurance & CarLoan & Communication & ... & startminute & startsecond & endhour & endminute & endsecond & dif & early\\_working\\_age & prime\\_working\\_age & mature\\_working\\_age & elderly\\\\\n",
       "\\hline\n",
       "\t 1           & 32          & management  & single      & tertiary    & 0           & 1218        & 1           & 0           & telephone   & ...         & 45          & 20          & 13          & 46          & 30          &  70         & 0           & 1           & 0           & 0          \\\\\n",
       "\t 2           & 32          & blue-collar & married     & primary     & 0           & 1156        & 1           & 0           & NA          & ...         & 49          &  3          & 14          & 52          &  8          & 185         & 0           & 1           & 0           & 0          \\\\\n",
       "\t 3           & 29          & management  & single      & tertiary    & 0           &  637        & 1           & 0           & cellular    & ...         & 30          & 24          & 16          & 36          &  4          & 340         & 0           & 1           & 0           & 0          \\\\\n",
       "\t 4           & 25          & student     & single      & primary     & 0           &  373        & 1           & 0           & cellular    & ...         &  6          & 43          & 12          & 20          & 22          & 819         & 0           & 1           & 0           & 0          \\\\\n",
       "\t 5           & 30          & management  & married     & tertiary    & 0           & 2694        & 0           & 0           & cellular    & ...         & 35          & 44          & 14          & 38          & 56          & 192         & 0           & 1           & 0           & 0          \\\\\n",
       "\t 6           & 32          & technician  & single      & tertiary    & 0           & 1625        & 0           & 0           & cellular    & ...         & 58          &  8          & 15          & 11          & 24          & 796         & 0           & 1           & 0           & 0          \\\\\n",
       "\\end{tabular}\n"
      ],
      "text/markdown": [
       "\n",
       "Id | Age | Job | Marital | Education | Default | Balance | HHInsurance | CarLoan | Communication | ... | startminute | startsecond | endhour | endminute | endsecond | dif | early_working_age | prime_working_age | mature_working_age | elderly | \n",
       "|---|---|---|---|---|---|\n",
       "| 1           | 32          | management  | single      | tertiary    | 0           | 1218        | 1           | 0           | telephone   | ...         | 45          | 20          | 13          | 46          | 30          |  70         | 0           | 1           | 0           | 0           | \n",
       "| 2           | 32          | blue-collar | married     | primary     | 0           | 1156        | 1           | 0           | NA          | ...         | 49          |  3          | 14          | 52          |  8          | 185         | 0           | 1           | 0           | 0           | \n",
       "| 3           | 29          | management  | single      | tertiary    | 0           |  637        | 1           | 0           | cellular    | ...         | 30          | 24          | 16          | 36          |  4          | 340         | 0           | 1           | 0           | 0           | \n",
       "| 4           | 25          | student     | single      | primary     | 0           |  373        | 1           | 0           | cellular    | ...         |  6          | 43          | 12          | 20          | 22          | 819         | 0           | 1           | 0           | 0           | \n",
       "| 5           | 30          | management  | married     | tertiary    | 0           | 2694        | 0           | 0           | cellular    | ...         | 35          | 44          | 14          | 38          | 56          | 192         | 0           | 1           | 0           | 0           | \n",
       "| 6           | 32          | technician  | single      | tertiary    | 0           | 1625        | 0           | 0           | cellular    | ...         | 58          |  8          | 15          | 11          | 24          | 796         | 0           | 1           | 0           | 0           | \n",
       "\n",
       "\n"
      ],
      "text/plain": [
       "  Id Age Job         Marital Education Default Balance HHInsurance CarLoan\n",
       "1 1  32  management  single  tertiary  0       1218    1           0      \n",
       "2 2  32  blue-collar married primary   0       1156    1           0      \n",
       "3 3  29  management  single  tertiary  0        637    1           0      \n",
       "4 4  25  student     single  primary   0        373    1           0      \n",
       "5 5  30  management  married tertiary  0       2694    0           0      \n",
       "6 6  32  technician  single  tertiary  0       1625    0           0      \n",
       "  Communication ... startminute startsecond endhour endminute endsecond dif\n",
       "1 telephone     ... 45          20          13      46        30         70\n",
       "2 NA            ... 49           3          14      52         8        185\n",
       "3 cellular      ... 30          24          16      36         4        340\n",
       "4 cellular      ...  6          43          12      20        22        819\n",
       "5 cellular      ... 35          44          14      38        56        192\n",
       "6 cellular      ... 58           8          15      11        24        796\n",
       "  early_working_age prime_working_age mature_working_age elderly\n",
       "1 0                 1                 0                  0      \n",
       "2 0                 1                 0                  0      \n",
       "3 0                 1                 0                  0      \n",
       "4 0                 1                 0                  0      \n",
       "5 0                 1                 0                  0      \n",
       "6 0                 1                 0                  0      "
      ]
     },
     "metadata": {},
     "output_type": "display_data"
    }
   ],
   "source": [
    "cidata<- transform(cidata,\n",
    "                   early_working_age = as.factor(ifelse(cidata$Age<=24, 1, 0)),\n",
    "                   prime_working_age = as.factor(ifelse(cidata$Age>24 & cidata$Age<=54 , 1, 0)),\n",
    "                   mature_working_age = as.factor(ifelse(cidata$Age>54 & cidata$Age<=64, 1, 0)),\n",
    "                   elderly = as.factor(ifelse(cidata$Age>64, 1, 0)))\n",
    "head(cidata)"
   ]
  },
  {
   "cell_type": "code",
   "execution_count": 34,
   "metadata": {},
   "outputs": [
    {
     "data": {
      "text/html": [
       "<table>\n",
       "<thead><tr><th scope=col>Id</th><th scope=col>Job</th><th scope=col>Marital</th><th scope=col>Education</th><th scope=col>Default</th><th scope=col>Balance</th><th scope=col>HHInsurance</th><th scope=col>CarLoan</th><th scope=col>Communication</th><th scope=col>LastContactDay</th><th scope=col>...</th><th scope=col>startminute</th><th scope=col>startsecond</th><th scope=col>endhour</th><th scope=col>endminute</th><th scope=col>endsecond</th><th scope=col>dif</th><th scope=col>early_working_age</th><th scope=col>prime_working_age</th><th scope=col>mature_working_age</th><th scope=col>elderly</th></tr></thead>\n",
       "<tbody>\n",
       "\t<tr><td>1          </td><td>management </td><td>single     </td><td>tertiary   </td><td>0          </td><td>1218       </td><td>1          </td><td>0          </td><td>telephone  </td><td>28         </td><td>...        </td><td>45         </td><td>20         </td><td>13         </td><td>46         </td><td>30         </td><td> 70        </td><td>0          </td><td>1          </td><td>0          </td><td>0          </td></tr>\n",
       "\t<tr><td>2          </td><td>blue-collar</td><td>married    </td><td>primary    </td><td>0          </td><td>1156       </td><td>1          </td><td>0          </td><td>NA         </td><td>26         </td><td>...        </td><td>49         </td><td> 3         </td><td>14         </td><td>52         </td><td> 8         </td><td>185        </td><td>0          </td><td>1          </td><td>0          </td><td>0          </td></tr>\n",
       "\t<tr><td>3          </td><td>management </td><td>single     </td><td>tertiary   </td><td>0          </td><td> 637       </td><td>1          </td><td>0          </td><td>cellular   </td><td> 3         </td><td>...        </td><td>30         </td><td>24         </td><td>16         </td><td>36         </td><td> 4         </td><td>340        </td><td>0          </td><td>1          </td><td>0          </td><td>0          </td></tr>\n",
       "\t<tr><td>4          </td><td>student    </td><td>single     </td><td>primary    </td><td>0          </td><td> 373       </td><td>1          </td><td>0          </td><td>cellular   </td><td>11         </td><td>...        </td><td> 6         </td><td>43         </td><td>12         </td><td>20         </td><td>22         </td><td>819        </td><td>0          </td><td>1          </td><td>0          </td><td>0          </td></tr>\n",
       "\t<tr><td>5          </td><td>management </td><td>married    </td><td>tertiary   </td><td>0          </td><td>2694       </td><td>0          </td><td>0          </td><td>cellular   </td><td> 3         </td><td>...        </td><td>35         </td><td>44         </td><td>14         </td><td>38         </td><td>56         </td><td>192        </td><td>0          </td><td>1          </td><td>0          </td><td>0          </td></tr>\n",
       "\t<tr><td>6          </td><td>technician </td><td>single     </td><td>tertiary   </td><td>0          </td><td>1625       </td><td>0          </td><td>0          </td><td>cellular   </td><td>22         </td><td>...        </td><td>58         </td><td> 8         </td><td>15         </td><td>11         </td><td>24         </td><td>796        </td><td>0          </td><td>1          </td><td>0          </td><td>0          </td></tr>\n",
       "</tbody>\n",
       "</table>\n"
      ],
      "text/latex": [
       "\\begin{tabular}{r|lllllllllllllllllllllllllll}\n",
       " Id & Job & Marital & Education & Default & Balance & HHInsurance & CarLoan & Communication & LastContactDay & ... & startminute & startsecond & endhour & endminute & endsecond & dif & early\\_working\\_age & prime\\_working\\_age & mature\\_working\\_age & elderly\\\\\n",
       "\\hline\n",
       "\t 1           & management  & single      & tertiary    & 0           & 1218        & 1           & 0           & telephone   & 28          & ...         & 45          & 20          & 13          & 46          & 30          &  70         & 0           & 1           & 0           & 0          \\\\\n",
       "\t 2           & blue-collar & married     & primary     & 0           & 1156        & 1           & 0           & NA          & 26          & ...         & 49          &  3          & 14          & 52          &  8          & 185         & 0           & 1           & 0           & 0          \\\\\n",
       "\t 3           & management  & single      & tertiary    & 0           &  637        & 1           & 0           & cellular    &  3          & ...         & 30          & 24          & 16          & 36          &  4          & 340         & 0           & 1           & 0           & 0          \\\\\n",
       "\t 4           & student     & single      & primary     & 0           &  373        & 1           & 0           & cellular    & 11          & ...         &  6          & 43          & 12          & 20          & 22          & 819         & 0           & 1           & 0           & 0          \\\\\n",
       "\t 5           & management  & married     & tertiary    & 0           & 2694        & 0           & 0           & cellular    &  3          & ...         & 35          & 44          & 14          & 38          & 56          & 192         & 0           & 1           & 0           & 0          \\\\\n",
       "\t 6           & technician  & single      & tertiary    & 0           & 1625        & 0           & 0           & cellular    & 22          & ...         & 58          &  8          & 15          & 11          & 24          & 796         & 0           & 1           & 0           & 0          \\\\\n",
       "\\end{tabular}\n"
      ],
      "text/markdown": [
       "\n",
       "Id | Job | Marital | Education | Default | Balance | HHInsurance | CarLoan | Communication | LastContactDay | ... | startminute | startsecond | endhour | endminute | endsecond | dif | early_working_age | prime_working_age | mature_working_age | elderly | \n",
       "|---|---|---|---|---|---|\n",
       "| 1           | management  | single      | tertiary    | 0           | 1218        | 1           | 0           | telephone   | 28          | ...         | 45          | 20          | 13          | 46          | 30          |  70         | 0           | 1           | 0           | 0           | \n",
       "| 2           | blue-collar | married     | primary     | 0           | 1156        | 1           | 0           | NA          | 26          | ...         | 49          |  3          | 14          | 52          |  8          | 185         | 0           | 1           | 0           | 0           | \n",
       "| 3           | management  | single      | tertiary    | 0           |  637        | 1           | 0           | cellular    |  3          | ...         | 30          | 24          | 16          | 36          |  4          | 340         | 0           | 1           | 0           | 0           | \n",
       "| 4           | student     | single      | primary     | 0           |  373        | 1           | 0           | cellular    | 11          | ...         |  6          | 43          | 12          | 20          | 22          | 819         | 0           | 1           | 0           | 0           | \n",
       "| 5           | management  | married     | tertiary    | 0           | 2694        | 0           | 0           | cellular    |  3          | ...         | 35          | 44          | 14          | 38          | 56          | 192         | 0           | 1           | 0           | 0           | \n",
       "| 6           | technician  | single      | tertiary    | 0           | 1625        | 0           | 0           | cellular    | 22          | ...         | 58          |  8          | 15          | 11          | 24          | 796         | 0           | 1           | 0           | 0           | \n",
       "\n",
       "\n"
      ],
      "text/plain": [
       "  Id Job         Marital Education Default Balance HHInsurance CarLoan\n",
       "1 1  management  single  tertiary  0       1218    1           0      \n",
       "2 2  blue-collar married primary   0       1156    1           0      \n",
       "3 3  management  single  tertiary  0        637    1           0      \n",
       "4 4  student     single  primary   0        373    1           0      \n",
       "5 5  management  married tertiary  0       2694    0           0      \n",
       "6 6  technician  single  tertiary  0       1625    0           0      \n",
       "  Communication LastContactDay ... startminute startsecond endhour endminute\n",
       "1 telephone     28             ... 45          20          13      46       \n",
       "2 NA            26             ... 49           3          14      52       \n",
       "3 cellular       3             ... 30          24          16      36       \n",
       "4 cellular      11             ...  6          43          12      20       \n",
       "5 cellular       3             ... 35          44          14      38       \n",
       "6 cellular      22             ... 58           8          15      11       \n",
       "  endsecond dif early_working_age prime_working_age mature_working_age elderly\n",
       "1 30         70 0                 1                 0                  0      \n",
       "2  8        185 0                 1                 0                  0      \n",
       "3  4        340 0                 1                 0                  0      \n",
       "4 22        819 0                 1                 0                  0      \n",
       "5 56        192 0                 1                 0                  0      \n",
       "6 24        796 0                 1                 0                  0      "
      ]
     },
     "metadata": {},
     "output_type": "display_data"
    }
   ],
   "source": [
    "cidata <- cidata[,-2]\n",
    "head(cidata)"
   ]
  },
  {
   "cell_type": "markdown",
   "metadata": {},
   "source": [
    "### 3.5 Job"
   ]
  },
  {
   "cell_type": "markdown",
   "metadata": {},
   "source": [
    "Dropping missing values"
   ]
  },
  {
   "cell_type": "code",
   "execution_count": 35,
   "metadata": {},
   "outputs": [
    {
     "data": {
      "text/html": [
       "19"
      ],
      "text/latex": [
       "19"
      ],
      "text/markdown": [
       "19"
      ],
      "text/plain": [
       "[1] 19"
      ]
     },
     "metadata": {},
     "output_type": "display_data"
    }
   ],
   "source": [
    "sum(is.na(cidata$Job)) "
   ]
  },
  {
   "cell_type": "markdown",
   "metadata": {},
   "source": [
    "There are 19 missing values in \"Job\" column. We will drop the 19 rows from the dataset."
   ]
  },
  {
   "cell_type": "code",
   "execution_count": 36,
   "metadata": {},
   "outputs": [],
   "source": [
    "cidata <- cidata[!c(is.na(cidata$Job)),] # 4000 -> 3981 obs"
   ]
  },
  {
   "cell_type": "markdown",
   "metadata": {},
   "source": [
    "### 3.6 Education"
   ]
  },
  {
   "cell_type": "markdown",
   "metadata": {},
   "source": [
    "Filling the missing values with \"idk\""
   ]
  },
  {
   "cell_type": "code",
   "execution_count": 37,
   "metadata": {},
   "outputs": [
    {
     "data": {
      "text/html": [
       "161"
      ],
      "text/latex": [
       "161"
      ],
      "text/markdown": [
       "161"
      ],
      "text/plain": [
       "[1] 161"
      ]
     },
     "metadata": {},
     "output_type": "display_data"
    }
   ],
   "source": [
    "sum(is.na(cidata$Education))"
   ]
  },
  {
   "cell_type": "code",
   "execution_count": 38,
   "metadata": {},
   "outputs": [
    {
     "data": {
      "text/html": [
       "<ol class=list-inline>\n",
       "\t<li>tertiary</li>\n",
       "\t<li>primary</li>\n",
       "\t<li>tertiary</li>\n",
       "\t<li>primary</li>\n",
       "\t<li>tertiary</li>\n",
       "\t<li>tertiary</li>\n",
       "</ol>\n",
       "\n",
       "<details>\n",
       "\t<summary style=display:list-item;cursor:pointer>\n",
       "\t\t<strong>Levels</strong>:\n",
       "\t</summary>\n",
       "\t<ol class=list-inline>\n",
       "\t\t<li>'primary'</li>\n",
       "\t\t<li>'secondary'</li>\n",
       "\t\t<li>'tertiary'</li>\n",
       "\t</ol>\n",
       "</details>"
      ],
      "text/latex": [
       "\\begin{enumerate*}\n",
       "\\item tertiary\n",
       "\\item primary\n",
       "\\item tertiary\n",
       "\\item primary\n",
       "\\item tertiary\n",
       "\\item tertiary\n",
       "\\end{enumerate*}\n",
       "\n",
       "\\emph{Levels}: \\begin{enumerate*}\n",
       "\\item 'primary'\n",
       "\\item 'secondary'\n",
       "\\item 'tertiary'\n",
       "\\end{enumerate*}\n"
      ],
      "text/markdown": [
       "1. tertiary\n",
       "2. primary\n",
       "3. tertiary\n",
       "4. primary\n",
       "5. tertiary\n",
       "6. tertiary\n",
       "\n",
       "\n",
       "\n",
       "**Levels**: 1. 'primary'\n",
       "2. 'secondary'\n",
       "3. 'tertiary'\n",
       "\n",
       "\n"
      ],
      "text/plain": [
       "[1] tertiary primary  tertiary primary  tertiary tertiary\n",
       "Levels: primary secondary tertiary"
      ]
     },
     "metadata": {},
     "output_type": "display_data"
    }
   ],
   "source": [
    "cidata$Education_ <- addNA(cidata$Education)\n",
    "head(cidata$Education)"
   ]
  },
  {
   "cell_type": "code",
   "execution_count": 39,
   "metadata": {},
   "outputs": [
    {
     "data": {
      "text/html": [
       "<ol class=list-inline>\n",
       "\t<li>tertiary</li>\n",
       "\t<li>primary</li>\n",
       "\t<li>tertiary</li>\n",
       "\t<li>primary</li>\n",
       "\t<li>tertiary</li>\n",
       "\t<li>tertiary</li>\n",
       "</ol>\n",
       "\n",
       "<details>\n",
       "\t<summary style=display:list-item;cursor:pointer>\n",
       "\t\t<strong>Levels</strong>:\n",
       "\t</summary>\n",
       "\t<ol class=list-inline>\n",
       "\t\t<li>'primary'</li>\n",
       "\t\t<li>'secondary'</li>\n",
       "\t\t<li>'tertiary'</li>\n",
       "\t</ol>\n",
       "</details>"
      ],
      "text/latex": [
       "\\begin{enumerate*}\n",
       "\\item tertiary\n",
       "\\item primary\n",
       "\\item tertiary\n",
       "\\item primary\n",
       "\\item tertiary\n",
       "\\item tertiary\n",
       "\\end{enumerate*}\n",
       "\n",
       "\\emph{Levels}: \\begin{enumerate*}\n",
       "\\item 'primary'\n",
       "\\item 'secondary'\n",
       "\\item 'tertiary'\n",
       "\\end{enumerate*}\n"
      ],
      "text/markdown": [
       "1. tertiary\n",
       "2. primary\n",
       "3. tertiary\n",
       "4. primary\n",
       "5. tertiary\n",
       "6. tertiary\n",
       "\n",
       "\n",
       "\n",
       "**Levels**: 1. 'primary'\n",
       "2. 'secondary'\n",
       "3. 'tertiary'\n",
       "\n",
       "\n"
      ],
      "text/plain": [
       "[1] tertiary primary  tertiary primary  tertiary tertiary\n",
       "Levels: primary secondary tertiary"
      ]
     },
     "metadata": {},
     "output_type": "display_data"
    }
   ],
   "source": [
    "levels(cidata$Education_) <- c(levels(cidata$Education), 'idk')\n",
    "head(cidata$Education)"
   ]
  },
  {
   "cell_type": "code",
   "execution_count": 40,
   "metadata": {},
   "outputs": [
    {
     "data": {
      "text/html": [
       "<table>\n",
       "<thead><tr><th></th><th scope=col>Id</th><th scope=col>Job</th><th scope=col>Marital</th><th scope=col>Default</th><th scope=col>Balance</th><th scope=col>HHInsurance</th><th scope=col>CarLoan</th><th scope=col>Communication</th><th scope=col>LastContactDay</th><th scope=col>LastContactMonth</th><th scope=col>...</th><th scope=col>startsecond</th><th scope=col>endhour</th><th scope=col>endminute</th><th scope=col>endsecond</th><th scope=col>dif</th><th scope=col>early_working_age</th><th scope=col>prime_working_age</th><th scope=col>mature_working_age</th><th scope=col>elderly</th><th scope=col>Education_</th></tr></thead>\n",
       "<tbody>\n",
       "\t<tr><th scope=row>1</th><td> 1           </td><td>management   </td><td>single       </td><td>0            </td><td>1218         </td><td>1            </td><td>0            </td><td>telephone    </td><td>28           </td><td>jan          </td><td>...          </td><td>20           </td><td>13           </td><td>46           </td><td>30           </td><td> 70          </td><td>0            </td><td>1            </td><td>0            </td><td>0            </td><td>tertiary     </td></tr>\n",
       "\t<tr><th scope=row>2</th><td> 2           </td><td>blue-collar  </td><td>married      </td><td>0            </td><td>1156         </td><td>1            </td><td>0            </td><td>NA           </td><td>26           </td><td>may          </td><td>...          </td><td> 3           </td><td>14           </td><td>52           </td><td> 8           </td><td>185          </td><td>0            </td><td>1            </td><td>0            </td><td>0            </td><td>primary      </td></tr>\n",
       "\t<tr><th scope=row>3</th><td> 3           </td><td>management   </td><td>single       </td><td>0            </td><td> 637         </td><td>1            </td><td>0            </td><td>cellular     </td><td> 3           </td><td>jun          </td><td>...          </td><td>24           </td><td>16           </td><td>36           </td><td> 4           </td><td>340          </td><td>0            </td><td>1            </td><td>0            </td><td>0            </td><td>tertiary     </td></tr>\n",
       "\t<tr><th scope=row>4</th><td> 4           </td><td>student      </td><td>single       </td><td>0            </td><td> 373         </td><td>1            </td><td>0            </td><td>cellular     </td><td>11           </td><td>may          </td><td>...          </td><td>43           </td><td>12           </td><td>20           </td><td>22           </td><td>819          </td><td>0            </td><td>1            </td><td>0            </td><td>0            </td><td>primary      </td></tr>\n",
       "\t<tr><th scope=row>5</th><td> 5           </td><td>management   </td><td>married      </td><td>0            </td><td>2694         </td><td>0            </td><td>0            </td><td>cellular     </td><td> 3           </td><td>jun          </td><td>...          </td><td>44           </td><td>14           </td><td>38           </td><td>56           </td><td>192          </td><td>0            </td><td>1            </td><td>0            </td><td>0            </td><td>tertiary     </td></tr>\n",
       "\t<tr><th scope=row>6</th><td> 6           </td><td>technician   </td><td>single       </td><td>0            </td><td>1625         </td><td>0            </td><td>0            </td><td>cellular     </td><td>22           </td><td>may          </td><td>...          </td><td> 8           </td><td>15           </td><td>11           </td><td>24           </td><td>796          </td><td>0            </td><td>1            </td><td>0            </td><td>0            </td><td>tertiary     </td></tr>\n",
       "\t<tr><th scope=row>7</th><td> 7           </td><td>admin.       </td><td>single       </td><td>0            </td><td>1000         </td><td>1            </td><td>0            </td><td>cellular     </td><td>17           </td><td>mar          </td><td>...          </td><td> 2           </td><td>13           </td><td> 3           </td><td>17           </td><td>195          </td><td>0            </td><td>1            </td><td>0            </td><td>0            </td><td>tertiary     </td></tr>\n",
       "\t<tr><th scope=row>8</th><td> 8           </td><td>management   </td><td>divorced     </td><td>0            </td><td> 538         </td><td>1            </td><td>0            </td><td>NA           </td><td>12           </td><td>may          </td><td>...          </td><td>43           </td><td>15           </td><td>40           </td><td>49           </td><td> 66          </td><td>0            </td><td>1            </td><td>0            </td><td>0            </td><td>tertiary     </td></tr>\n",
       "\t<tr><th scope=row>9</th><td> 9           </td><td>admin.       </td><td>married      </td><td>0            </td><td> 187         </td><td>1            </td><td>0            </td><td>cellular     </td><td>18           </td><td>nov          </td><td>...          </td><td>56           </td><td>12           </td><td>22           </td><td>42           </td><td>106          </td><td>0            </td><td>1            </td><td>0            </td><td>0            </td><td>secondary    </td></tr>\n",
       "\t<tr><th scope=row>10</th><td>10           </td><td>blue-collar  </td><td>married      </td><td>0            </td><td>   3         </td><td>1            </td><td>1            </td><td>cellular     </td><td>12           </td><td>may          </td><td>...          </td><td>20           </td><td> 9           </td><td>27           </td><td>46           </td><td>326          </td><td>0            </td><td>1            </td><td>0            </td><td>0            </td><td>secondary    </td></tr>\n",
       "\t<tr><th scope=row>11</th><td>11           </td><td>services     </td><td>single       </td><td>0            </td><td>   0         </td><td>0            </td><td>0            </td><td>cellular     </td><td> 1           </td><td>jun          </td><td>...          </td><td>28           </td><td>13           </td><td> 7           </td><td>29           </td><td>181          </td><td>0            </td><td>1            </td><td>0            </td><td>0            </td><td>secondary    </td></tr>\n",
       "\t<tr><th scope=row>12</th><td>12           </td><td>blue-collar  </td><td>married      </td><td>1            </td><td>-462         </td><td>0            </td><td>0            </td><td>cellular     </td><td>29           </td><td>jan          </td><td>...          </td><td>50           </td><td>16           </td><td>53           </td><td>40           </td><td>470          </td><td>0            </td><td>1            </td><td>0            </td><td>0            </td><td>primary      </td></tr>\n",
       "\t<tr><th scope=row>13</th><td>13           </td><td>technician   </td><td>married      </td><td>0            </td><td>2776         </td><td>1            </td><td>0            </td><td>cellular     </td><td>27           </td><td>jan          </td><td>...          </td><td>41           </td><td>16           </td><td>31           </td><td>22           </td><td>701          </td><td>0            </td><td>1            </td><td>0            </td><td>0            </td><td>secondary    </td></tr>\n",
       "\t<tr><th scope=row>14</th><td>14           </td><td>self-employed</td><td>divorced     </td><td>0            </td><td>2674         </td><td>1            </td><td>0            </td><td>NA           </td><td>19           </td><td>jun          </td><td>...          </td><td>56           </td><td>10           </td><td>32           </td><td>39           </td><td>163          </td><td>0            </td><td>1            </td><td>0            </td><td>0            </td><td>secondary    </td></tr>\n",
       "\t<tr><th scope=row>15</th><td>15           </td><td>services     </td><td>single       </td><td>0            </td><td>2022         </td><td>0            </td><td>0            </td><td>cellular     </td><td>29           </td><td>jul          </td><td>...          </td><td> 9           </td><td>14           </td><td>19           </td><td>45           </td><td>276          </td><td>0            </td><td>1            </td><td>0            </td><td>0            </td><td>idk          </td></tr>\n",
       "\t<tr><th scope=row>16</th><td>16           </td><td>management   </td><td>single       </td><td>0            </td><td>   2         </td><td>0            </td><td>0            </td><td>cellular     </td><td>12           </td><td>aug          </td><td>...          </td><td>48           </td><td>16           </td><td>20           </td><td>59           </td><td>131          </td><td>0            </td><td>0            </td><td>1            </td><td>0            </td><td>tertiary     </td></tr>\n",
       "\t<tr><th scope=row>17</th><td>17           </td><td>admin.       </td><td>single       </td><td>0            </td><td>  69         </td><td>1            </td><td>0            </td><td>telephone    </td><td> 6           </td><td>may          </td><td>...          </td><td>45           </td><td>11           </td><td>50           </td><td>17           </td><td> 92          </td><td>0            </td><td>1            </td><td>0            </td><td>0            </td><td>secondary    </td></tr>\n",
       "\t<tr><th scope=row>18</th><td>18           </td><td>management   </td><td>married      </td><td>0            </td><td>7331         </td><td>0            </td><td>0            </td><td>cellular     </td><td>11           </td><td>sep          </td><td>...          </td><td>26           </td><td>11           </td><td>34           </td><td>24           </td><td>658          </td><td>0            </td><td>1            </td><td>0            </td><td>0            </td><td>tertiary     </td></tr>\n",
       "\t<tr><th scope=row>19</th><td>19           </td><td>blue-collar  </td><td>married      </td><td>0            </td><td>2039         </td><td>1            </td><td>0            </td><td>cellular     </td><td> 6           </td><td>may          </td><td>...          </td><td>54           </td><td>12           </td><td>50           </td><td>25           </td><td>451          </td><td>0            </td><td>1            </td><td>0            </td><td>0            </td><td>secondary    </td></tr>\n",
       "\t<tr><th scope=row>20</th><td>20           </td><td>blue-collar  </td><td>married      </td><td>0            </td><td>  82         </td><td>0            </td><td>0            </td><td>telephone    </td><td> 5           </td><td>apr          </td><td>...          </td><td> 8           </td><td>10           </td><td>41           </td><td>44           </td><td>456          </td><td>0            </td><td>1            </td><td>0            </td><td>0            </td><td>primary      </td></tr>\n",
       "\t<tr><th scope=row>21</th><td>21           </td><td>blue-collar  </td><td>married      </td><td>0            </td><td> 773         </td><td>1            </td><td>1            </td><td>NA           </td><td>18           </td><td>jun          </td><td>...          </td><td>50           </td><td> 9           </td><td> 7           </td><td>27           </td><td> 97          </td><td>0            </td><td>0            </td><td>1            </td><td>0            </td><td>secondary    </td></tr>\n",
       "\t<tr><th scope=row>22</th><td>22           </td><td>retired      </td><td>married      </td><td>0            </td><td>8304         </td><td>0            </td><td>0            </td><td>telephone    </td><td> 8           </td><td>sep          </td><td>...          </td><td>41           </td><td>17           </td><td>47           </td><td>47           </td><td>606          </td><td>0            </td><td>0            </td><td>0            </td><td>1            </td><td>secondary    </td></tr>\n",
       "\t<tr><th scope=row>23</th><td>23           </td><td>management   </td><td>single       </td><td>0            </td><td>   0         </td><td>0            </td><td>0            </td><td>cellular     </td><td>21           </td><td>aug          </td><td>...          </td><td>54           </td><td>14           </td><td>32           </td><td>32           </td><td>218          </td><td>0            </td><td>1            </td><td>0            </td><td>0            </td><td>tertiary     </td></tr>\n",
       "\t<tr><th scope=row>24</th><td>24           </td><td>retired      </td><td>married      </td><td>0            </td><td>2896         </td><td>0            </td><td>0            </td><td>cellular     </td><td> 1           </td><td>jul          </td><td>...          </td><td>19           </td><td>15           </td><td>42           </td><td>23           </td><td>304          </td><td>0            </td><td>0            </td><td>1            </td><td>0            </td><td>secondary    </td></tr>\n",
       "\t<tr><th scope=row>25</th><td>25           </td><td>technician   </td><td>married      </td><td>0            </td><td> 824         </td><td>1            </td><td>0            </td><td>cellular     </td><td> 9           </td><td>feb          </td><td>...          </td><td>52           </td><td>16           </td><td>32           </td><td>59           </td><td>127          </td><td>0            </td><td>0            </td><td>1            </td><td>0            </td><td>secondary    </td></tr>\n",
       "\t<tr><th scope=row>26</th><td>26           </td><td>management   </td><td>married      </td><td>0            </td><td> 900         </td><td>0            </td><td>0            </td><td>cellular     </td><td>17           </td><td>jul          </td><td>...          </td><td>47           </td><td>17           </td><td>11           </td><td>22           </td><td>275          </td><td>0            </td><td>1            </td><td>0            </td><td>0            </td><td>tertiary     </td></tr>\n",
       "\t<tr><th scope=row>27</th><td>27           </td><td>management   </td><td>married      </td><td>0            </td><td>3859         </td><td>0            </td><td>1            </td><td>cellular     </td><td>20           </td><td>nov          </td><td>...          </td><td> 2           </td><td>10           </td><td>10           </td><td>46           </td><td>104          </td><td>0            </td><td>1            </td><td>0            </td><td>0            </td><td>primary      </td></tr>\n",
       "\t<tr><th scope=row>29</th><td>29           </td><td>services     </td><td>married      </td><td>0            </td><td> -62         </td><td>1            </td><td>0            </td><td>NA           </td><td>16           </td><td>jun          </td><td>...          </td><td>40           </td><td>13           </td><td>52           </td><td>29           </td><td>109          </td><td>0            </td><td>1            </td><td>0            </td><td>0            </td><td>secondary    </td></tr>\n",
       "\t<tr><th scope=row>30</th><td>30           </td><td>blue-collar  </td><td>married      </td><td>0            </td><td> 832         </td><td>0            </td><td>0            </td><td>NA           </td><td>20           </td><td>jun          </td><td>...          </td><td>52           </td><td>10           </td><td>37           </td><td> 5           </td><td> 13          </td><td>0            </td><td>1            </td><td>0            </td><td>0            </td><td>primary      </td></tr>\n",
       "\t<tr><th scope=row>31</th><td>31           </td><td>technician   </td><td>married      </td><td>0            </td><td>   0         </td><td>0            </td><td>0            </td><td>telephone    </td><td>30           </td><td>apr          </td><td>...          </td><td>24           </td><td>12           </td><td> 2           </td><td>10           </td><td>766          </td><td>0            </td><td>1            </td><td>0            </td><td>0            </td><td>secondary    </td></tr>\n",
       "\t<tr><th scope=row>...</th><td>...</td><td>...</td><td>...</td><td>...</td><td>...</td><td>...</td><td>...</td><td>...</td><td>...</td><td>...</td><td>   </td><td>...</td><td>...</td><td>...</td><td>...</td><td>...</td><td>...</td><td>...</td><td>...</td><td>...</td><td>...</td></tr>\n",
       "\t<tr><th scope=row>3971</th><td>3971        </td><td>retired     </td><td>married     </td><td>0           </td><td> 445        </td><td>0           </td><td>0           </td><td>cellular    </td><td>18          </td><td>feb         </td><td>...         </td><td>20          </td><td>15          </td><td> 4          </td><td>15          </td><td>475         </td><td>0           </td><td>0           </td><td>0           </td><td>1           </td><td>secondary   </td></tr>\n",
       "\t<tr><th scope=row>3972</th><td>3972        </td><td>admin.      </td><td>divorced    </td><td>0           </td><td> 410        </td><td>1           </td><td>0           </td><td>cellular    </td><td>14          </td><td>apr         </td><td>...         </td><td> 3          </td><td>17          </td><td>27          </td><td>12          </td><td>129         </td><td>0           </td><td>1           </td><td>0           </td><td>0           </td><td>secondary   </td></tr>\n",
       "\t<tr><th scope=row>3973</th><td>3973        </td><td>services    </td><td>single      </td><td>0           </td><td> 222        </td><td>1           </td><td>0           </td><td>cellular    </td><td>13          </td><td>may         </td><td>...         </td><td> 9          </td><td>10          </td><td>42          </td><td>57          </td><td>168         </td><td>0           </td><td>1           </td><td>0           </td><td>0           </td><td>secondary   </td></tr>\n",
       "\t<tr><th scope=row>3974</th><td>3974        </td><td>blue-collar </td><td>divorced    </td><td>0           </td><td>1613        </td><td>1           </td><td>0           </td><td>cellular    </td><td> 7          </td><td>jul         </td><td>...         </td><td>37          </td><td>12          </td><td>21          </td><td>45          </td><td>128         </td><td>0           </td><td>1           </td><td>0           </td><td>0           </td><td>secondary   </td></tr>\n",
       "\t<tr><th scope=row>3975</th><td>3975        </td><td>management  </td><td>single      </td><td>0           </td><td> 763        </td><td>0           </td><td>0           </td><td>cellular    </td><td>22          </td><td>feb         </td><td>...         </td><td> 5          </td><td>14          </td><td>14          </td><td> 8          </td><td>543         </td><td>0           </td><td>1           </td><td>0           </td><td>0           </td><td>tertiary    </td></tr>\n",
       "\t<tr><th scope=row>3976</th><td>3976        </td><td>blue-collar </td><td>single      </td><td>0           </td><td>4229        </td><td>1           </td><td>1           </td><td>cellular    </td><td> 5          </td><td>may         </td><td>...         </td><td>34          </td><td>16          </td><td>25          </td><td>59          </td><td>205         </td><td>0           </td><td>1           </td><td>0           </td><td>0           </td><td>secondary   </td></tr>\n",
       "\t<tr><th scope=row>3977</th><td>3977        </td><td>blue-collar </td><td>married     </td><td>0           </td><td>1261        </td><td>1           </td><td>0           </td><td>NA          </td><td>23          </td><td>may         </td><td>...         </td><td>27          </td><td>10          </td><td>20          </td><td>39          </td><td>132         </td><td>0           </td><td>1           </td><td>0           </td><td>0           </td><td>primary     </td></tr>\n",
       "\t<tr><th scope=row>3978</th><td>3978        </td><td>admin.      </td><td>married     </td><td>0           </td><td>3268        </td><td>0           </td><td>0           </td><td>cellular    </td><td> 9          </td><td>apr         </td><td>...         </td><td>10          </td><td>17          </td><td>42          </td><td>19          </td><td>429         </td><td>0           </td><td>1           </td><td>0           </td><td>0           </td><td>secondary   </td></tr>\n",
       "\t<tr><th scope=row>3979</th><td>3979        </td><td>technician  </td><td>divorced    </td><td>0           </td><td> 982        </td><td>1           </td><td>0           </td><td>NA          </td><td>20          </td><td>may         </td><td>...         </td><td>38          </td><td>12          </td><td>19          </td><td>28          </td><td>650         </td><td>0           </td><td>1           </td><td>0           </td><td>0           </td><td>secondary   </td></tr>\n",
       "\t<tr><th scope=row>3980</th><td>3980        </td><td>management  </td><td>married     </td><td>0           </td><td>   0        </td><td>0           </td><td>0           </td><td>cellular    </td><td>15          </td><td>apr         </td><td>...         </td><td>30          </td><td> 9          </td><td>22          </td><td>35          </td><td>125         </td><td>0           </td><td>1           </td><td>0           </td><td>0           </td><td>tertiary    </td></tr>\n",
       "\t<tr><th scope=row>3981</th><td>3981        </td><td>blue-collar </td><td>single      </td><td>0           </td><td>  87        </td><td>1           </td><td>0           </td><td>telephone   </td><td>14          </td><td>may         </td><td>...         </td><td>46          </td><td>10          </td><td>15          </td><td>28          </td><td>162         </td><td>0           </td><td>1           </td><td>0           </td><td>0           </td><td>primary     </td></tr>\n",
       "\t<tr><th scope=row>3982</th><td>3982        </td><td>entrepreneur</td><td>single      </td><td>0           </td><td> 484        </td><td>1           </td><td>0           </td><td>cellular    </td><td>29          </td><td>jan         </td><td>...         </td><td>38          </td><td>12          </td><td>39          </td><td>35          </td><td>537         </td><td>0           </td><td>1           </td><td>0           </td><td>0           </td><td>tertiary    </td></tr>\n",
       "\t<tr><th scope=row>3983</th><td>3983        </td><td>technician  </td><td>married     </td><td>0           </td><td>4930        </td><td>0           </td><td>1           </td><td>cellular    </td><td> 2          </td><td>feb         </td><td>...         </td><td>15          </td><td>12          </td><td>55          </td><td> 3          </td><td>228         </td><td>0           </td><td>1           </td><td>0           </td><td>0           </td><td>secondary   </td></tr>\n",
       "\t<tr><th scope=row>3984</th><td>3984        </td><td>management  </td><td>single      </td><td>0           </td><td>   0        </td><td>1           </td><td>1           </td><td>cellular    </td><td> 2          </td><td>apr         </td><td>...         </td><td>53          </td><td>15          </td><td>49          </td><td>23          </td><td>450         </td><td>0           </td><td>1           </td><td>0           </td><td>0           </td><td>secondary   </td></tr>\n",
       "\t<tr><th scope=row>3985</th><td>3985        </td><td>services    </td><td>single      </td><td>0           </td><td>2954        </td><td>1           </td><td>0           </td><td>NA          </td><td>28          </td><td>may         </td><td>...         </td><td>14          </td><td>11          </td><td>32          </td><td>43          </td><td>149         </td><td>0           </td><td>1           </td><td>0           </td><td>0           </td><td>secondary   </td></tr>\n",
       "\t<tr><th scope=row>3986</th><td>3986        </td><td>technician  </td><td>married     </td><td>0           </td><td> 644        </td><td>1           </td><td>0           </td><td>cellular    </td><td>16          </td><td>apr         </td><td>...         </td><td>27          </td><td>10          </td><td>51          </td><td>25          </td><td>118         </td><td>0           </td><td>1           </td><td>0           </td><td>0           </td><td>primary     </td></tr>\n",
       "\t<tr><th scope=row>3987</th><td>3987        </td><td>technician  </td><td>single      </td><td>0           </td><td> 382        </td><td>0           </td><td>0           </td><td>cellular    </td><td> 5          </td><td>aug         </td><td>...         </td><td>21          </td><td>16          </td><td>50          </td><td>10          </td><td>409         </td><td>0           </td><td>1           </td><td>0           </td><td>0           </td><td>secondary   </td></tr>\n",
       "\t<tr><th scope=row>3988</th><td>3988        </td><td>admin.      </td><td>married     </td><td>0           </td><td>2855        </td><td>0           </td><td>0           </td><td>cellular    </td><td>25          </td><td>jan         </td><td>...         </td><td>44          </td><td> 9          </td><td>59          </td><td>44          </td><td>240         </td><td>0           </td><td>1           </td><td>0           </td><td>0           </td><td>tertiary    </td></tr>\n",
       "\t<tr><th scope=row>3989</th><td>3989        </td><td>retired     </td><td>divorced    </td><td>0           </td><td> 631        </td><td>0           </td><td>0           </td><td>telephone   </td><td>11          </td><td>aug         </td><td>...         </td><td> 8          </td><td>14          </td><td>56          </td><td>43          </td><td> 95         </td><td>0           </td><td>0           </td><td>0           </td><td>1           </td><td>secondary   </td></tr>\n",
       "\t<tr><th scope=row>3990</th><td>3990        </td><td>housemaid   </td><td>married     </td><td>0           </td><td>  91        </td><td>1           </td><td>0           </td><td>cellular    </td><td>16          </td><td>jul         </td><td>...         </td><td>43          </td><td>15          </td><td> 7          </td><td>33          </td><td>110         </td><td>0           </td><td>1           </td><td>0           </td><td>0           </td><td>primary     </td></tr>\n",
       "\t<tr><th scope=row>3991</th><td>3991        </td><td>technician  </td><td>single      </td><td>0           </td><td> 126        </td><td>1           </td><td>1           </td><td>cellular    </td><td> 5          </td><td>feb         </td><td>...         </td><td>49          </td><td>13          </td><td>33          </td><td>16          </td><td>147         </td><td>0           </td><td>1           </td><td>0           </td><td>0           </td><td>secondary   </td></tr>\n",
       "\t<tr><th scope=row>3992</th><td>3992        </td><td>unemployed  </td><td>single      </td><td>0           </td><td>1513        </td><td>1           </td><td>0           </td><td>NA          </td><td> 8          </td><td>may         </td><td>...         </td><td>58          </td><td>17          </td><td> 3          </td><td>58          </td><td> 60         </td><td>0           </td><td>0           </td><td>1           </td><td>0           </td><td>tertiary    </td></tr>\n",
       "\t<tr><th scope=row>3993</th><td>3993        </td><td>technician  </td><td>married     </td><td>0           </td><td>   0        </td><td>1           </td><td>0           </td><td>cellular    </td><td> 5          </td><td>aug         </td><td>...         </td><td>19          </td><td>10          </td><td>55          </td><td>10          </td><td>231         </td><td>0           </td><td>1           </td><td>0           </td><td>0           </td><td>secondary   </td></tr>\n",
       "\t<tr><th scope=row>3994</th><td>3994        </td><td>technician  </td><td>single      </td><td>0           </td><td> 417        </td><td>0           </td><td>0           </td><td>cellular    </td><td>21          </td><td>jul         </td><td>...         </td><td>56          </td><td> 9          </td><td>16          </td><td>53          </td><td>177         </td><td>0           </td><td>1           </td><td>0           </td><td>0           </td><td>secondary   </td></tr>\n",
       "\t<tr><th scope=row>3995</th><td>3995        </td><td>blue-collar </td><td>married     </td><td>0           </td><td>   1        </td><td>0           </td><td>0           </td><td>NA          </td><td> 5          </td><td>may         </td><td>...         </td><td>12          </td><td>15          </td><td>21          </td><td>21          </td><td>669         </td><td>0           </td><td>1           </td><td>0           </td><td>0           </td><td>secondary   </td></tr>\n",
       "\t<tr><th scope=row>3996</th><td>3996        </td><td>technician  </td><td>single      </td><td>0           </td><td>   0        </td><td>1           </td><td>0           </td><td>cellular    </td><td>25          </td><td>may         </td><td>...         </td><td>28          </td><td>17          </td><td>50          </td><td>57          </td><td>269         </td><td>0           </td><td>1           </td><td>0           </td><td>0           </td><td>tertiary    </td></tr>\n",
       "\t<tr><th scope=row>3997</th><td>3997        </td><td>admin.      </td><td>divorced    </td><td>0           </td><td> 124        </td><td>1           </td><td>1           </td><td>cellular    </td><td>29          </td><td>jul         </td><td>...         </td><td>16          </td><td>14          </td><td>51          </td><td>21          </td><td>125         </td><td>0           </td><td>1           </td><td>0           </td><td>0           </td><td>secondary   </td></tr>\n",
       "\t<tr><th scope=row>3998</th><td>3998        </td><td>admin.      </td><td>single      </td><td>0           </td><td>-400        </td><td>0           </td><td>1           </td><td>cellular    </td><td> 8          </td><td>jul         </td><td>...         </td><td> 3          </td><td>12          </td><td>23          </td><td>53          </td><td>290         </td><td>0           </td><td>1           </td><td>0           </td><td>0           </td><td>secondary   </td></tr>\n",
       "\t<tr><th scope=row>3999</th><td>3999        </td><td>entrepreneur</td><td>single      </td><td>0           </td><td> 658        </td><td>1           </td><td>0           </td><td>cellular    </td><td>29          </td><td>jan         </td><td>...         </td><td>35          </td><td>11          </td><td>29          </td><td>14          </td><td> 99         </td><td>0           </td><td>1           </td><td>0           </td><td>0           </td><td>tertiary    </td></tr>\n",
       "\t<tr><th scope=row>4000</th><td>4000        </td><td>services    </td><td>married     </td><td>0           </td><td> 137        </td><td>1           </td><td>0           </td><td>NA          </td><td> 9          </td><td>may         </td><td>...         </td><td>48          </td><td>13          </td><td>36          </td><td>22          </td><td>274         </td><td>0           </td><td>1           </td><td>0           </td><td>0           </td><td>primary     </td></tr>\n",
       "</tbody>\n",
       "</table>\n"
      ],
      "text/latex": [
       "\\begin{tabular}{r|lllllllllllllllllllllllllll}\n",
       "  & Id & Job & Marital & Default & Balance & HHInsurance & CarLoan & Communication & LastContactDay & LastContactMonth & ... & startsecond & endhour & endminute & endsecond & dif & early\\_working\\_age & prime\\_working\\_age & mature\\_working\\_age & elderly & Education\\_\\\\\n",
       "\\hline\n",
       "\t1 &  1            & management    & single        & 0             & 1218          & 1             & 0             & telephone     & 28            & jan           & ...           & 20            & 13            & 46            & 30            &  70           & 0             & 1             & 0             & 0             & tertiary     \\\\\n",
       "\t2 &  2            & blue-collar   & married       & 0             & 1156          & 1             & 0             & NA            & 26            & may           & ...           &  3            & 14            & 52            &  8            & 185           & 0             & 1             & 0             & 0             & primary      \\\\\n",
       "\t3 &  3            & management    & single        & 0             &  637          & 1             & 0             & cellular      &  3            & jun           & ...           & 24            & 16            & 36            &  4            & 340           & 0             & 1             & 0             & 0             & tertiary     \\\\\n",
       "\t4 &  4            & student       & single        & 0             &  373          & 1             & 0             & cellular      & 11            & may           & ...           & 43            & 12            & 20            & 22            & 819           & 0             & 1             & 0             & 0             & primary      \\\\\n",
       "\t5 &  5            & management    & married       & 0             & 2694          & 0             & 0             & cellular      &  3            & jun           & ...           & 44            & 14            & 38            & 56            & 192           & 0             & 1             & 0             & 0             & tertiary     \\\\\n",
       "\t6 &  6            & technician    & single        & 0             & 1625          & 0             & 0             & cellular      & 22            & may           & ...           &  8            & 15            & 11            & 24            & 796           & 0             & 1             & 0             & 0             & tertiary     \\\\\n",
       "\t7 &  7            & admin.        & single        & 0             & 1000          & 1             & 0             & cellular      & 17            & mar           & ...           &  2            & 13            &  3            & 17            & 195           & 0             & 1             & 0             & 0             & tertiary     \\\\\n",
       "\t8 &  8            & management    & divorced      & 0             &  538          & 1             & 0             & NA            & 12            & may           & ...           & 43            & 15            & 40            & 49            &  66           & 0             & 1             & 0             & 0             & tertiary     \\\\\n",
       "\t9 &  9            & admin.        & married       & 0             &  187          & 1             & 0             & cellular      & 18            & nov           & ...           & 56            & 12            & 22            & 42            & 106           & 0             & 1             & 0             & 0             & secondary    \\\\\n",
       "\t10 & 10            & blue-collar   & married       & 0             &    3          & 1             & 1             & cellular      & 12            & may           & ...           & 20            &  9            & 27            & 46            & 326           & 0             & 1             & 0             & 0             & secondary    \\\\\n",
       "\t11 & 11            & services      & single        & 0             &    0          & 0             & 0             & cellular      &  1            & jun           & ...           & 28            & 13            &  7            & 29            & 181           & 0             & 1             & 0             & 0             & secondary    \\\\\n",
       "\t12 & 12            & blue-collar   & married       & 1             & -462          & 0             & 0             & cellular      & 29            & jan           & ...           & 50            & 16            & 53            & 40            & 470           & 0             & 1             & 0             & 0             & primary      \\\\\n",
       "\t13 & 13            & technician    & married       & 0             & 2776          & 1             & 0             & cellular      & 27            & jan           & ...           & 41            & 16            & 31            & 22            & 701           & 0             & 1             & 0             & 0             & secondary    \\\\\n",
       "\t14 & 14            & self-employed & divorced      & 0             & 2674          & 1             & 0             & NA            & 19            & jun           & ...           & 56            & 10            & 32            & 39            & 163           & 0             & 1             & 0             & 0             & secondary    \\\\\n",
       "\t15 & 15            & services      & single        & 0             & 2022          & 0             & 0             & cellular      & 29            & jul           & ...           &  9            & 14            & 19            & 45            & 276           & 0             & 1             & 0             & 0             & idk          \\\\\n",
       "\t16 & 16            & management    & single        & 0             &    2          & 0             & 0             & cellular      & 12            & aug           & ...           & 48            & 16            & 20            & 59            & 131           & 0             & 0             & 1             & 0             & tertiary     \\\\\n",
       "\t17 & 17            & admin.        & single        & 0             &   69          & 1             & 0             & telephone     &  6            & may           & ...           & 45            & 11            & 50            & 17            &  92           & 0             & 1             & 0             & 0             & secondary    \\\\\n",
       "\t18 & 18            & management    & married       & 0             & 7331          & 0             & 0             & cellular      & 11            & sep           & ...           & 26            & 11            & 34            & 24            & 658           & 0             & 1             & 0             & 0             & tertiary     \\\\\n",
       "\t19 & 19            & blue-collar   & married       & 0             & 2039          & 1             & 0             & cellular      &  6            & may           & ...           & 54            & 12            & 50            & 25            & 451           & 0             & 1             & 0             & 0             & secondary    \\\\\n",
       "\t20 & 20            & blue-collar   & married       & 0             &   82          & 0             & 0             & telephone     &  5            & apr           & ...           &  8            & 10            & 41            & 44            & 456           & 0             & 1             & 0             & 0             & primary      \\\\\n",
       "\t21 & 21            & blue-collar   & married       & 0             &  773          & 1             & 1             & NA            & 18            & jun           & ...           & 50            &  9            &  7            & 27            &  97           & 0             & 0             & 1             & 0             & secondary    \\\\\n",
       "\t22 & 22            & retired       & married       & 0             & 8304          & 0             & 0             & telephone     &  8            & sep           & ...           & 41            & 17            & 47            & 47            & 606           & 0             & 0             & 0             & 1             & secondary    \\\\\n",
       "\t23 & 23            & management    & single        & 0             &    0          & 0             & 0             & cellular      & 21            & aug           & ...           & 54            & 14            & 32            & 32            & 218           & 0             & 1             & 0             & 0             & tertiary     \\\\\n",
       "\t24 & 24            & retired       & married       & 0             & 2896          & 0             & 0             & cellular      &  1            & jul           & ...           & 19            & 15            & 42            & 23            & 304           & 0             & 0             & 1             & 0             & secondary    \\\\\n",
       "\t25 & 25            & technician    & married       & 0             &  824          & 1             & 0             & cellular      &  9            & feb           & ...           & 52            & 16            & 32            & 59            & 127           & 0             & 0             & 1             & 0             & secondary    \\\\\n",
       "\t26 & 26            & management    & married       & 0             &  900          & 0             & 0             & cellular      & 17            & jul           & ...           & 47            & 17            & 11            & 22            & 275           & 0             & 1             & 0             & 0             & tertiary     \\\\\n",
       "\t27 & 27            & management    & married       & 0             & 3859          & 0             & 1             & cellular      & 20            & nov           & ...           &  2            & 10            & 10            & 46            & 104           & 0             & 1             & 0             & 0             & primary      \\\\\n",
       "\t29 & 29            & services      & married       & 0             &  -62          & 1             & 0             & NA            & 16            & jun           & ...           & 40            & 13            & 52            & 29            & 109           & 0             & 1             & 0             & 0             & secondary    \\\\\n",
       "\t30 & 30            & blue-collar   & married       & 0             &  832          & 0             & 0             & NA            & 20            & jun           & ...           & 52            & 10            & 37            &  5            &  13           & 0             & 1             & 0             & 0             & primary      \\\\\n",
       "\t31 & 31            & technician    & married       & 0             &    0          & 0             & 0             & telephone     & 30            & apr           & ...           & 24            & 12            &  2            & 10            & 766           & 0             & 1             & 0             & 0             & secondary    \\\\\n",
       "\t... & ... & ... & ... & ... & ... & ... & ... & ... & ... & ... &     & ... & ... & ... & ... & ... & ... & ... & ... & ... & ...\\\\\n",
       "\t3971 & 3971         & retired      & married      & 0            &  445         & 0            & 0            & cellular     & 18           & feb          & ...          & 20           & 15           &  4           & 15           & 475          & 0            & 0            & 0            & 1            & secondary   \\\\\n",
       "\t3972 & 3972         & admin.       & divorced     & 0            &  410         & 1            & 0            & cellular     & 14           & apr          & ...          &  3           & 17           & 27           & 12           & 129          & 0            & 1            & 0            & 0            & secondary   \\\\\n",
       "\t3973 & 3973         & services     & single       & 0            &  222         & 1            & 0            & cellular     & 13           & may          & ...          &  9           & 10           & 42           & 57           & 168          & 0            & 1            & 0            & 0            & secondary   \\\\\n",
       "\t3974 & 3974         & blue-collar  & divorced     & 0            & 1613         & 1            & 0            & cellular     &  7           & jul          & ...          & 37           & 12           & 21           & 45           & 128          & 0            & 1            & 0            & 0            & secondary   \\\\\n",
       "\t3975 & 3975         & management   & single       & 0            &  763         & 0            & 0            & cellular     & 22           & feb          & ...          &  5           & 14           & 14           &  8           & 543          & 0            & 1            & 0            & 0            & tertiary    \\\\\n",
       "\t3976 & 3976         & blue-collar  & single       & 0            & 4229         & 1            & 1            & cellular     &  5           & may          & ...          & 34           & 16           & 25           & 59           & 205          & 0            & 1            & 0            & 0            & secondary   \\\\\n",
       "\t3977 & 3977         & blue-collar  & married      & 0            & 1261         & 1            & 0            & NA           & 23           & may          & ...          & 27           & 10           & 20           & 39           & 132          & 0            & 1            & 0            & 0            & primary     \\\\\n",
       "\t3978 & 3978         & admin.       & married      & 0            & 3268         & 0            & 0            & cellular     &  9           & apr          & ...          & 10           & 17           & 42           & 19           & 429          & 0            & 1            & 0            & 0            & secondary   \\\\\n",
       "\t3979 & 3979         & technician   & divorced     & 0            &  982         & 1            & 0            & NA           & 20           & may          & ...          & 38           & 12           & 19           & 28           & 650          & 0            & 1            & 0            & 0            & secondary   \\\\\n",
       "\t3980 & 3980         & management   & married      & 0            &    0         & 0            & 0            & cellular     & 15           & apr          & ...          & 30           &  9           & 22           & 35           & 125          & 0            & 1            & 0            & 0            & tertiary    \\\\\n",
       "\t3981 & 3981         & blue-collar  & single       & 0            &   87         & 1            & 0            & telephone    & 14           & may          & ...          & 46           & 10           & 15           & 28           & 162          & 0            & 1            & 0            & 0            & primary     \\\\\n",
       "\t3982 & 3982         & entrepreneur & single       & 0            &  484         & 1            & 0            & cellular     & 29           & jan          & ...          & 38           & 12           & 39           & 35           & 537          & 0            & 1            & 0            & 0            & tertiary    \\\\\n",
       "\t3983 & 3983         & technician   & married      & 0            & 4930         & 0            & 1            & cellular     &  2           & feb          & ...          & 15           & 12           & 55           &  3           & 228          & 0            & 1            & 0            & 0            & secondary   \\\\\n",
       "\t3984 & 3984         & management   & single       & 0            &    0         & 1            & 1            & cellular     &  2           & apr          & ...          & 53           & 15           & 49           & 23           & 450          & 0            & 1            & 0            & 0            & secondary   \\\\\n",
       "\t3985 & 3985         & services     & single       & 0            & 2954         & 1            & 0            & NA           & 28           & may          & ...          & 14           & 11           & 32           & 43           & 149          & 0            & 1            & 0            & 0            & secondary   \\\\\n",
       "\t3986 & 3986         & technician   & married      & 0            &  644         & 1            & 0            & cellular     & 16           & apr          & ...          & 27           & 10           & 51           & 25           & 118          & 0            & 1            & 0            & 0            & primary     \\\\\n",
       "\t3987 & 3987         & technician   & single       & 0            &  382         & 0            & 0            & cellular     &  5           & aug          & ...          & 21           & 16           & 50           & 10           & 409          & 0            & 1            & 0            & 0            & secondary   \\\\\n",
       "\t3988 & 3988         & admin.       & married      & 0            & 2855         & 0            & 0            & cellular     & 25           & jan          & ...          & 44           &  9           & 59           & 44           & 240          & 0            & 1            & 0            & 0            & tertiary    \\\\\n",
       "\t3989 & 3989         & retired      & divorced     & 0            &  631         & 0            & 0            & telephone    & 11           & aug          & ...          &  8           & 14           & 56           & 43           &  95          & 0            & 0            & 0            & 1            & secondary   \\\\\n",
       "\t3990 & 3990         & housemaid    & married      & 0            &   91         & 1            & 0            & cellular     & 16           & jul          & ...          & 43           & 15           &  7           & 33           & 110          & 0            & 1            & 0            & 0            & primary     \\\\\n",
       "\t3991 & 3991         & technician   & single       & 0            &  126         & 1            & 1            & cellular     &  5           & feb          & ...          & 49           & 13           & 33           & 16           & 147          & 0            & 1            & 0            & 0            & secondary   \\\\\n",
       "\t3992 & 3992         & unemployed   & single       & 0            & 1513         & 1            & 0            & NA           &  8           & may          & ...          & 58           & 17           &  3           & 58           &  60          & 0            & 0            & 1            & 0            & tertiary    \\\\\n",
       "\t3993 & 3993         & technician   & married      & 0            &    0         & 1            & 0            & cellular     &  5           & aug          & ...          & 19           & 10           & 55           & 10           & 231          & 0            & 1            & 0            & 0            & secondary   \\\\\n",
       "\t3994 & 3994         & technician   & single       & 0            &  417         & 0            & 0            & cellular     & 21           & jul          & ...          & 56           &  9           & 16           & 53           & 177          & 0            & 1            & 0            & 0            & secondary   \\\\\n",
       "\t3995 & 3995         & blue-collar  & married      & 0            &    1         & 0            & 0            & NA           &  5           & may          & ...          & 12           & 15           & 21           & 21           & 669          & 0            & 1            & 0            & 0            & secondary   \\\\\n",
       "\t3996 & 3996         & technician   & single       & 0            &    0         & 1            & 0            & cellular     & 25           & may          & ...          & 28           & 17           & 50           & 57           & 269          & 0            & 1            & 0            & 0            & tertiary    \\\\\n",
       "\t3997 & 3997         & admin.       & divorced     & 0            &  124         & 1            & 1            & cellular     & 29           & jul          & ...          & 16           & 14           & 51           & 21           & 125          & 0            & 1            & 0            & 0            & secondary   \\\\\n",
       "\t3998 & 3998         & admin.       & single       & 0            & -400         & 0            & 1            & cellular     &  8           & jul          & ...          &  3           & 12           & 23           & 53           & 290          & 0            & 1            & 0            & 0            & secondary   \\\\\n",
       "\t3999 & 3999         & entrepreneur & single       & 0            &  658         & 1            & 0            & cellular     & 29           & jan          & ...          & 35           & 11           & 29           & 14           &  99          & 0            & 1            & 0            & 0            & tertiary    \\\\\n",
       "\t4000 & 4000         & services     & married      & 0            &  137         & 1            & 0            & NA           &  9           & may          & ...          & 48           & 13           & 36           & 22           & 274          & 0            & 1            & 0            & 0            & primary     \\\\\n",
       "\\end{tabular}\n"
      ],
      "text/markdown": [
       "\n",
       "| <!--/--> | Id | Job | Marital | Default | Balance | HHInsurance | CarLoan | Communication | LastContactDay | LastContactMonth | ... | startsecond | endhour | endminute | endsecond | dif | early_working_age | prime_working_age | mature_working_age | elderly | Education_ | \n",
       "|---|---|---|---|---|---|---|---|---|---|---|---|---|---|---|---|---|---|---|---|---|---|---|---|---|---|---|---|---|---|---|---|---|---|---|---|---|---|---|---|---|---|---|---|---|---|---|---|---|---|---|---|---|---|---|---|---|---|---|---|---|\n",
       "| 1 |  1            | management    | single        | 0             | 1218          | 1             | 0             | telephone     | 28            | jan           | ...           | 20            | 13            | 46            | 30            |  70           | 0             | 1             | 0             | 0             | tertiary      | \n",
       "| 2 |  2            | blue-collar   | married       | 0             | 1156          | 1             | 0             | NA            | 26            | may           | ...           |  3            | 14            | 52            |  8            | 185           | 0             | 1             | 0             | 0             | primary       | \n",
       "| 3 |  3            | management    | single        | 0             |  637          | 1             | 0             | cellular      |  3            | jun           | ...           | 24            | 16            | 36            |  4            | 340           | 0             | 1             | 0             | 0             | tertiary      | \n",
       "| 4 |  4            | student       | single        | 0             |  373          | 1             | 0             | cellular      | 11            | may           | ...           | 43            | 12            | 20            | 22            | 819           | 0             | 1             | 0             | 0             | primary       | \n",
       "| 5 |  5            | management    | married       | 0             | 2694          | 0             | 0             | cellular      |  3            | jun           | ...           | 44            | 14            | 38            | 56            | 192           | 0             | 1             | 0             | 0             | tertiary      | \n",
       "| 6 |  6            | technician    | single        | 0             | 1625          | 0             | 0             | cellular      | 22            | may           | ...           |  8            | 15            | 11            | 24            | 796           | 0             | 1             | 0             | 0             | tertiary      | \n",
       "| 7 |  7            | admin.        | single        | 0             | 1000          | 1             | 0             | cellular      | 17            | mar           | ...           |  2            | 13            |  3            | 17            | 195           | 0             | 1             | 0             | 0             | tertiary      | \n",
       "| 8 |  8            | management    | divorced      | 0             |  538          | 1             | 0             | NA            | 12            | may           | ...           | 43            | 15            | 40            | 49            |  66           | 0             | 1             | 0             | 0             | tertiary      | \n",
       "| 9 |  9            | admin.        | married       | 0             |  187          | 1             | 0             | cellular      | 18            | nov           | ...           | 56            | 12            | 22            | 42            | 106           | 0             | 1             | 0             | 0             | secondary     | \n",
       "| 10 | 10            | blue-collar   | married       | 0             |    3          | 1             | 1             | cellular      | 12            | may           | ...           | 20            |  9            | 27            | 46            | 326           | 0             | 1             | 0             | 0             | secondary     | \n",
       "| 11 | 11            | services      | single        | 0             |    0          | 0             | 0             | cellular      |  1            | jun           | ...           | 28            | 13            |  7            | 29            | 181           | 0             | 1             | 0             | 0             | secondary     | \n",
       "| 12 | 12            | blue-collar   | married       | 1             | -462          | 0             | 0             | cellular      | 29            | jan           | ...           | 50            | 16            | 53            | 40            | 470           | 0             | 1             | 0             | 0             | primary       | \n",
       "| 13 | 13            | technician    | married       | 0             | 2776          | 1             | 0             | cellular      | 27            | jan           | ...           | 41            | 16            | 31            | 22            | 701           | 0             | 1             | 0             | 0             | secondary     | \n",
       "| 14 | 14            | self-employed | divorced      | 0             | 2674          | 1             | 0             | NA            | 19            | jun           | ...           | 56            | 10            | 32            | 39            | 163           | 0             | 1             | 0             | 0             | secondary     | \n",
       "| 15 | 15            | services      | single        | 0             | 2022          | 0             | 0             | cellular      | 29            | jul           | ...           |  9            | 14            | 19            | 45            | 276           | 0             | 1             | 0             | 0             | idk           | \n",
       "| 16 | 16            | management    | single        | 0             |    2          | 0             | 0             | cellular      | 12            | aug           | ...           | 48            | 16            | 20            | 59            | 131           | 0             | 0             | 1             | 0             | tertiary      | \n",
       "| 17 | 17            | admin.        | single        | 0             |   69          | 1             | 0             | telephone     |  6            | may           | ...           | 45            | 11            | 50            | 17            |  92           | 0             | 1             | 0             | 0             | secondary     | \n",
       "| 18 | 18            | management    | married       | 0             | 7331          | 0             | 0             | cellular      | 11            | sep           | ...           | 26            | 11            | 34            | 24            | 658           | 0             | 1             | 0             | 0             | tertiary      | \n",
       "| 19 | 19            | blue-collar   | married       | 0             | 2039          | 1             | 0             | cellular      |  6            | may           | ...           | 54            | 12            | 50            | 25            | 451           | 0             | 1             | 0             | 0             | secondary     | \n",
       "| 20 | 20            | blue-collar   | married       | 0             |   82          | 0             | 0             | telephone     |  5            | apr           | ...           |  8            | 10            | 41            | 44            | 456           | 0             | 1             | 0             | 0             | primary       | \n",
       "| 21 | 21            | blue-collar   | married       | 0             |  773          | 1             | 1             | NA            | 18            | jun           | ...           | 50            |  9            |  7            | 27            |  97           | 0             | 0             | 1             | 0             | secondary     | \n",
       "| 22 | 22            | retired       | married       | 0             | 8304          | 0             | 0             | telephone     |  8            | sep           | ...           | 41            | 17            | 47            | 47            | 606           | 0             | 0             | 0             | 1             | secondary     | \n",
       "| 23 | 23            | management    | single        | 0             |    0          | 0             | 0             | cellular      | 21            | aug           | ...           | 54            | 14            | 32            | 32            | 218           | 0             | 1             | 0             | 0             | tertiary      | \n",
       "| 24 | 24            | retired       | married       | 0             | 2896          | 0             | 0             | cellular      |  1            | jul           | ...           | 19            | 15            | 42            | 23            | 304           | 0             | 0             | 1             | 0             | secondary     | \n",
       "| 25 | 25            | technician    | married       | 0             |  824          | 1             | 0             | cellular      |  9            | feb           | ...           | 52            | 16            | 32            | 59            | 127           | 0             | 0             | 1             | 0             | secondary     | \n",
       "| 26 | 26            | management    | married       | 0             |  900          | 0             | 0             | cellular      | 17            | jul           | ...           | 47            | 17            | 11            | 22            | 275           | 0             | 1             | 0             | 0             | tertiary      | \n",
       "| 27 | 27            | management    | married       | 0             | 3859          | 0             | 1             | cellular      | 20            | nov           | ...           |  2            | 10            | 10            | 46            | 104           | 0             | 1             | 0             | 0             | primary       | \n",
       "| 29 | 29            | services      | married       | 0             |  -62          | 1             | 0             | NA            | 16            | jun           | ...           | 40            | 13            | 52            | 29            | 109           | 0             | 1             | 0             | 0             | secondary     | \n",
       "| 30 | 30            | blue-collar   | married       | 0             |  832          | 0             | 0             | NA            | 20            | jun           | ...           | 52            | 10            | 37            |  5            |  13           | 0             | 1             | 0             | 0             | primary       | \n",
       "| 31 | 31            | technician    | married       | 0             |    0          | 0             | 0             | telephone     | 30            | apr           | ...           | 24            | 12            |  2            | 10            | 766           | 0             | 1             | 0             | 0             | secondary     | \n",
       "| ... | ... | ... | ... | ... | ... | ... | ... | ... | ... | ... |     | ... | ... | ... | ... | ... | ... | ... | ... | ... | ... | \n",
       "| 3971 | 3971         | retired      | married      | 0            |  445         | 0            | 0            | cellular     | 18           | feb          | ...          | 20           | 15           |  4           | 15           | 475          | 0            | 0            | 0            | 1            | secondary    | \n",
       "| 3972 | 3972         | admin.       | divorced     | 0            |  410         | 1            | 0            | cellular     | 14           | apr          | ...          |  3           | 17           | 27           | 12           | 129          | 0            | 1            | 0            | 0            | secondary    | \n",
       "| 3973 | 3973         | services     | single       | 0            |  222         | 1            | 0            | cellular     | 13           | may          | ...          |  9           | 10           | 42           | 57           | 168          | 0            | 1            | 0            | 0            | secondary    | \n",
       "| 3974 | 3974         | blue-collar  | divorced     | 0            | 1613         | 1            | 0            | cellular     |  7           | jul          | ...          | 37           | 12           | 21           | 45           | 128          | 0            | 1            | 0            | 0            | secondary    | \n",
       "| 3975 | 3975         | management   | single       | 0            |  763         | 0            | 0            | cellular     | 22           | feb          | ...          |  5           | 14           | 14           |  8           | 543          | 0            | 1            | 0            | 0            | tertiary     | \n",
       "| 3976 | 3976         | blue-collar  | single       | 0            | 4229         | 1            | 1            | cellular     |  5           | may          | ...          | 34           | 16           | 25           | 59           | 205          | 0            | 1            | 0            | 0            | secondary    | \n",
       "| 3977 | 3977         | blue-collar  | married      | 0            | 1261         | 1            | 0            | NA           | 23           | may          | ...          | 27           | 10           | 20           | 39           | 132          | 0            | 1            | 0            | 0            | primary      | \n",
       "| 3978 | 3978         | admin.       | married      | 0            | 3268         | 0            | 0            | cellular     |  9           | apr          | ...          | 10           | 17           | 42           | 19           | 429          | 0            | 1            | 0            | 0            | secondary    | \n",
       "| 3979 | 3979         | technician   | divorced     | 0            |  982         | 1            | 0            | NA           | 20           | may          | ...          | 38           | 12           | 19           | 28           | 650          | 0            | 1            | 0            | 0            | secondary    | \n",
       "| 3980 | 3980         | management   | married      | 0            |    0         | 0            | 0            | cellular     | 15           | apr          | ...          | 30           |  9           | 22           | 35           | 125          | 0            | 1            | 0            | 0            | tertiary     | \n",
       "| 3981 | 3981         | blue-collar  | single       | 0            |   87         | 1            | 0            | telephone    | 14           | may          | ...          | 46           | 10           | 15           | 28           | 162          | 0            | 1            | 0            | 0            | primary      | \n",
       "| 3982 | 3982         | entrepreneur | single       | 0            |  484         | 1            | 0            | cellular     | 29           | jan          | ...          | 38           | 12           | 39           | 35           | 537          | 0            | 1            | 0            | 0            | tertiary     | \n",
       "| 3983 | 3983         | technician   | married      | 0            | 4930         | 0            | 1            | cellular     |  2           | feb          | ...          | 15           | 12           | 55           |  3           | 228          | 0            | 1            | 0            | 0            | secondary    | \n",
       "| 3984 | 3984         | management   | single       | 0            |    0         | 1            | 1            | cellular     |  2           | apr          | ...          | 53           | 15           | 49           | 23           | 450          | 0            | 1            | 0            | 0            | secondary    | \n",
       "| 3985 | 3985         | services     | single       | 0            | 2954         | 1            | 0            | NA           | 28           | may          | ...          | 14           | 11           | 32           | 43           | 149          | 0            | 1            | 0            | 0            | secondary    | \n",
       "| 3986 | 3986         | technician   | married      | 0            |  644         | 1            | 0            | cellular     | 16           | apr          | ...          | 27           | 10           | 51           | 25           | 118          | 0            | 1            | 0            | 0            | primary      | \n",
       "| 3987 | 3987         | technician   | single       | 0            |  382         | 0            | 0            | cellular     |  5           | aug          | ...          | 21           | 16           | 50           | 10           | 409          | 0            | 1            | 0            | 0            | secondary    | \n",
       "| 3988 | 3988         | admin.       | married      | 0            | 2855         | 0            | 0            | cellular     | 25           | jan          | ...          | 44           |  9           | 59           | 44           | 240          | 0            | 1            | 0            | 0            | tertiary     | \n",
       "| 3989 | 3989         | retired      | divorced     | 0            |  631         | 0            | 0            | telephone    | 11           | aug          | ...          |  8           | 14           | 56           | 43           |  95          | 0            | 0            | 0            | 1            | secondary    | \n",
       "| 3990 | 3990         | housemaid    | married      | 0            |   91         | 1            | 0            | cellular     | 16           | jul          | ...          | 43           | 15           |  7           | 33           | 110          | 0            | 1            | 0            | 0            | primary      | \n",
       "| 3991 | 3991         | technician   | single       | 0            |  126         | 1            | 1            | cellular     |  5           | feb          | ...          | 49           | 13           | 33           | 16           | 147          | 0            | 1            | 0            | 0            | secondary    | \n",
       "| 3992 | 3992         | unemployed   | single       | 0            | 1513         | 1            | 0            | NA           |  8           | may          | ...          | 58           | 17           |  3           | 58           |  60          | 0            | 0            | 1            | 0            | tertiary     | \n",
       "| 3993 | 3993         | technician   | married      | 0            |    0         | 1            | 0            | cellular     |  5           | aug          | ...          | 19           | 10           | 55           | 10           | 231          | 0            | 1            | 0            | 0            | secondary    | \n",
       "| 3994 | 3994         | technician   | single       | 0            |  417         | 0            | 0            | cellular     | 21           | jul          | ...          | 56           |  9           | 16           | 53           | 177          | 0            | 1            | 0            | 0            | secondary    | \n",
       "| 3995 | 3995         | blue-collar  | married      | 0            |    1         | 0            | 0            | NA           |  5           | may          | ...          | 12           | 15           | 21           | 21           | 669          | 0            | 1            | 0            | 0            | secondary    | \n",
       "| 3996 | 3996         | technician   | single       | 0            |    0         | 1            | 0            | cellular     | 25           | may          | ...          | 28           | 17           | 50           | 57           | 269          | 0            | 1            | 0            | 0            | tertiary     | \n",
       "| 3997 | 3997         | admin.       | divorced     | 0            |  124         | 1            | 1            | cellular     | 29           | jul          | ...          | 16           | 14           | 51           | 21           | 125          | 0            | 1            | 0            | 0            | secondary    | \n",
       "| 3998 | 3998         | admin.       | single       | 0            | -400         | 0            | 1            | cellular     |  8           | jul          | ...          |  3           | 12           | 23           | 53           | 290          | 0            | 1            | 0            | 0            | secondary    | \n",
       "| 3999 | 3999         | entrepreneur | single       | 0            |  658         | 1            | 0            | cellular     | 29           | jan          | ...          | 35           | 11           | 29           | 14           |  99          | 0            | 1            | 0            | 0            | tertiary     | \n",
       "| 4000 | 4000         | services     | married      | 0            |  137         | 1            | 0            | NA           |  9           | may          | ...          | 48           | 13           | 36           | 22           | 274          | 0            | 1            | 0            | 0            | primary      | \n",
       "\n",
       "\n"
      ],
      "text/plain": [
       "     Id   Job           Marital  Default Balance HHInsurance CarLoan\n",
       "1     1   management    single   0       1218    1           0      \n",
       "2     2   blue-collar   married  0       1156    1           0      \n",
       "3     3   management    single   0        637    1           0      \n",
       "4     4   student       single   0        373    1           0      \n",
       "5     5   management    married  0       2694    0           0      \n",
       "6     6   technician    single   0       1625    0           0      \n",
       "7     7   admin.        single   0       1000    1           0      \n",
       "8     8   management    divorced 0        538    1           0      \n",
       "9     9   admin.        married  0        187    1           0      \n",
       "10   10   blue-collar   married  0          3    1           1      \n",
       "11   11   services      single   0          0    0           0      \n",
       "12   12   blue-collar   married  1       -462    0           0      \n",
       "13   13   technician    married  0       2776    1           0      \n",
       "14   14   self-employed divorced 0       2674    1           0      \n",
       "15   15   services      single   0       2022    0           0      \n",
       "16   16   management    single   0          2    0           0      \n",
       "17   17   admin.        single   0         69    1           0      \n",
       "18   18   management    married  0       7331    0           0      \n",
       "19   19   blue-collar   married  0       2039    1           0      \n",
       "20   20   blue-collar   married  0         82    0           0      \n",
       "21   21   blue-collar   married  0        773    1           1      \n",
       "22   22   retired       married  0       8304    0           0      \n",
       "23   23   management    single   0          0    0           0      \n",
       "24   24   retired       married  0       2896    0           0      \n",
       "25   25   technician    married  0        824    1           0      \n",
       "26   26   management    married  0        900    0           0      \n",
       "27   27   management    married  0       3859    0           1      \n",
       "29   29   services      married  0        -62    1           0      \n",
       "30   30   blue-collar   married  0        832    0           0      \n",
       "31   31   technician    married  0          0    0           0      \n",
       "...  ...  ...           ...      ...     ...     ...         ...    \n",
       "3971 3971 retired       married  0        445    0           0      \n",
       "3972 3972 admin.        divorced 0        410    1           0      \n",
       "3973 3973 services      single   0        222    1           0      \n",
       "3974 3974 blue-collar   divorced 0       1613    1           0      \n",
       "3975 3975 management    single   0        763    0           0      \n",
       "3976 3976 blue-collar   single   0       4229    1           1      \n",
       "3977 3977 blue-collar   married  0       1261    1           0      \n",
       "3978 3978 admin.        married  0       3268    0           0      \n",
       "3979 3979 technician    divorced 0        982    1           0      \n",
       "3980 3980 management    married  0          0    0           0      \n",
       "3981 3981 blue-collar   single   0         87    1           0      \n",
       "3982 3982 entrepreneur  single   0        484    1           0      \n",
       "3983 3983 technician    married  0       4930    0           1      \n",
       "3984 3984 management    single   0          0    1           1      \n",
       "3985 3985 services      single   0       2954    1           0      \n",
       "3986 3986 technician    married  0        644    1           0      \n",
       "3987 3987 technician    single   0        382    0           0      \n",
       "3988 3988 admin.        married  0       2855    0           0      \n",
       "3989 3989 retired       divorced 0        631    0           0      \n",
       "3990 3990 housemaid     married  0         91    1           0      \n",
       "3991 3991 technician    single   0        126    1           1      \n",
       "3992 3992 unemployed    single   0       1513    1           0      \n",
       "3993 3993 technician    married  0          0    1           0      \n",
       "3994 3994 technician    single   0        417    0           0      \n",
       "3995 3995 blue-collar   married  0          1    0           0      \n",
       "3996 3996 technician    single   0          0    1           0      \n",
       "3997 3997 admin.        divorced 0        124    1           1      \n",
       "3998 3998 admin.        single   0       -400    0           1      \n",
       "3999 3999 entrepreneur  single   0        658    1           0      \n",
       "4000 4000 services      married  0        137    1           0      \n",
       "     Communication LastContactDay LastContactMonth ... startsecond endhour\n",
       "1    telephone     28             jan              ... 20          13     \n",
       "2    NA            26             may              ...  3          14     \n",
       "3    cellular       3             jun              ... 24          16     \n",
       "4    cellular      11             may              ... 43          12     \n",
       "5    cellular       3             jun              ... 44          14     \n",
       "6    cellular      22             may              ...  8          15     \n",
       "7    cellular      17             mar              ...  2          13     \n",
       "8    NA            12             may              ... 43          15     \n",
       "9    cellular      18             nov              ... 56          12     \n",
       "10   cellular      12             may              ... 20           9     \n",
       "11   cellular       1             jun              ... 28          13     \n",
       "12   cellular      29             jan              ... 50          16     \n",
       "13   cellular      27             jan              ... 41          16     \n",
       "14   NA            19             jun              ... 56          10     \n",
       "15   cellular      29             jul              ...  9          14     \n",
       "16   cellular      12             aug              ... 48          16     \n",
       "17   telephone      6             may              ... 45          11     \n",
       "18   cellular      11             sep              ... 26          11     \n",
       "19   cellular       6             may              ... 54          12     \n",
       "20   telephone      5             apr              ...  8          10     \n",
       "21   NA            18             jun              ... 50           9     \n",
       "22   telephone      8             sep              ... 41          17     \n",
       "23   cellular      21             aug              ... 54          14     \n",
       "24   cellular       1             jul              ... 19          15     \n",
       "25   cellular       9             feb              ... 52          16     \n",
       "26   cellular      17             jul              ... 47          17     \n",
       "27   cellular      20             nov              ...  2          10     \n",
       "29   NA            16             jun              ... 40          13     \n",
       "30   NA            20             jun              ... 52          10     \n",
       "31   telephone     30             apr              ... 24          12     \n",
       "...  ...           ...            ...                  ...         ...    \n",
       "3971 cellular      18             feb              ... 20          15     \n",
       "3972 cellular      14             apr              ...  3          17     \n",
       "3973 cellular      13             may              ...  9          10     \n",
       "3974 cellular       7             jul              ... 37          12     \n",
       "3975 cellular      22             feb              ...  5          14     \n",
       "3976 cellular       5             may              ... 34          16     \n",
       "3977 NA            23             may              ... 27          10     \n",
       "3978 cellular       9             apr              ... 10          17     \n",
       "3979 NA            20             may              ... 38          12     \n",
       "3980 cellular      15             apr              ... 30           9     \n",
       "3981 telephone     14             may              ... 46          10     \n",
       "3982 cellular      29             jan              ... 38          12     \n",
       "3983 cellular       2             feb              ... 15          12     \n",
       "3984 cellular       2             apr              ... 53          15     \n",
       "3985 NA            28             may              ... 14          11     \n",
       "3986 cellular      16             apr              ... 27          10     \n",
       "3987 cellular       5             aug              ... 21          16     \n",
       "3988 cellular      25             jan              ... 44           9     \n",
       "3989 telephone     11             aug              ...  8          14     \n",
       "3990 cellular      16             jul              ... 43          15     \n",
       "3991 cellular       5             feb              ... 49          13     \n",
       "3992 NA             8             may              ... 58          17     \n",
       "3993 cellular       5             aug              ... 19          10     \n",
       "3994 cellular      21             jul              ... 56           9     \n",
       "3995 NA             5             may              ... 12          15     \n",
       "3996 cellular      25             may              ... 28          17     \n",
       "3997 cellular      29             jul              ... 16          14     \n",
       "3998 cellular       8             jul              ...  3          12     \n",
       "3999 cellular      29             jan              ... 35          11     \n",
       "4000 NA             9             may              ... 48          13     \n",
       "     endminute endsecond dif early_working_age prime_working_age\n",
       "1    46        30         70 0                 1                \n",
       "2    52         8        185 0                 1                \n",
       "3    36         4        340 0                 1                \n",
       "4    20        22        819 0                 1                \n",
       "5    38        56        192 0                 1                \n",
       "6    11        24        796 0                 1                \n",
       "7     3        17        195 0                 1                \n",
       "8    40        49         66 0                 1                \n",
       "9    22        42        106 0                 1                \n",
       "10   27        46        326 0                 1                \n",
       "11    7        29        181 0                 1                \n",
       "12   53        40        470 0                 1                \n",
       "13   31        22        701 0                 1                \n",
       "14   32        39        163 0                 1                \n",
       "15   19        45        276 0                 1                \n",
       "16   20        59        131 0                 0                \n",
       "17   50        17         92 0                 1                \n",
       "18   34        24        658 0                 1                \n",
       "19   50        25        451 0                 1                \n",
       "20   41        44        456 0                 1                \n",
       "21    7        27         97 0                 0                \n",
       "22   47        47        606 0                 0                \n",
       "23   32        32        218 0                 1                \n",
       "24   42        23        304 0                 0                \n",
       "25   32        59        127 0                 0                \n",
       "26   11        22        275 0                 1                \n",
       "27   10        46        104 0                 1                \n",
       "29   52        29        109 0                 1                \n",
       "30   37         5         13 0                 1                \n",
       "31    2        10        766 0                 1                \n",
       "...  ...       ...       ... ...               ...              \n",
       "3971  4        15        475 0                 0                \n",
       "3972 27        12        129 0                 1                \n",
       "3973 42        57        168 0                 1                \n",
       "3974 21        45        128 0                 1                \n",
       "3975 14         8        543 0                 1                \n",
       "3976 25        59        205 0                 1                \n",
       "3977 20        39        132 0                 1                \n",
       "3978 42        19        429 0                 1                \n",
       "3979 19        28        650 0                 1                \n",
       "3980 22        35        125 0                 1                \n",
       "3981 15        28        162 0                 1                \n",
       "3982 39        35        537 0                 1                \n",
       "3983 55         3        228 0                 1                \n",
       "3984 49        23        450 0                 1                \n",
       "3985 32        43        149 0                 1                \n",
       "3986 51        25        118 0                 1                \n",
       "3987 50        10        409 0                 1                \n",
       "3988 59        44        240 0                 1                \n",
       "3989 56        43         95 0                 0                \n",
       "3990  7        33        110 0                 1                \n",
       "3991 33        16        147 0                 1                \n",
       "3992  3        58         60 0                 0                \n",
       "3993 55        10        231 0                 1                \n",
       "3994 16        53        177 0                 1                \n",
       "3995 21        21        669 0                 1                \n",
       "3996 50        57        269 0                 1                \n",
       "3997 51        21        125 0                 1                \n",
       "3998 23        53        290 0                 1                \n",
       "3999 29        14         99 0                 1                \n",
       "4000 36        22        274 0                 1                \n",
       "     mature_working_age elderly Education_\n",
       "1    0                  0       tertiary  \n",
       "2    0                  0       primary   \n",
       "3    0                  0       tertiary  \n",
       "4    0                  0       primary   \n",
       "5    0                  0       tertiary  \n",
       "6    0                  0       tertiary  \n",
       "7    0                  0       tertiary  \n",
       "8    0                  0       tertiary  \n",
       "9    0                  0       secondary \n",
       "10   0                  0       secondary \n",
       "11   0                  0       secondary \n",
       "12   0                  0       primary   \n",
       "13   0                  0       secondary \n",
       "14   0                  0       secondary \n",
       "15   0                  0       idk       \n",
       "16   1                  0       tertiary  \n",
       "17   0                  0       secondary \n",
       "18   0                  0       tertiary  \n",
       "19   0                  0       secondary \n",
       "20   0                  0       primary   \n",
       "21   1                  0       secondary \n",
       "22   0                  1       secondary \n",
       "23   0                  0       tertiary  \n",
       "24   1                  0       secondary \n",
       "25   1                  0       secondary \n",
       "26   0                  0       tertiary  \n",
       "27   0                  0       primary   \n",
       "29   0                  0       secondary \n",
       "30   0                  0       primary   \n",
       "31   0                  0       secondary \n",
       "...  ...                ...     ...       \n",
       "3971 0                  1       secondary \n",
       "3972 0                  0       secondary \n",
       "3973 0                  0       secondary \n",
       "3974 0                  0       secondary \n",
       "3975 0                  0       tertiary  \n",
       "3976 0                  0       secondary \n",
       "3977 0                  0       primary   \n",
       "3978 0                  0       secondary \n",
       "3979 0                  0       secondary \n",
       "3980 0                  0       tertiary  \n",
       "3981 0                  0       primary   \n",
       "3982 0                  0       tertiary  \n",
       "3983 0                  0       secondary \n",
       "3984 0                  0       secondary \n",
       "3985 0                  0       secondary \n",
       "3986 0                  0       primary   \n",
       "3987 0                  0       secondary \n",
       "3988 0                  0       tertiary  \n",
       "3989 0                  1       secondary \n",
       "3990 0                  0       primary   \n",
       "3991 0                  0       secondary \n",
       "3992 1                  0       tertiary  \n",
       "3993 0                  0       secondary \n",
       "3994 0                  0       secondary \n",
       "3995 0                  0       secondary \n",
       "3996 0                  0       tertiary  \n",
       "3997 0                  0       secondary \n",
       "3998 0                  0       secondary \n",
       "3999 0                  0       tertiary  \n",
       "4000 0                  0       primary   "
      ]
     },
     "metadata": {},
     "output_type": "display_data"
    }
   ],
   "source": [
    "cidata$Education <- NULL\n",
    "cidata"
   ]
  },
  {
   "cell_type": "markdown",
   "metadata": {},
   "source": [
    "### 3.7 DaysPassed"
   ]
  },
  {
   "cell_type": "markdown",
   "metadata": {},
   "source": [
    "Based on the practical cases, we decided to consider the values that over 365 days passed from the first contact day as 365. And the value \"-1\" will be considered as 365 as well."
   ]
  },
  {
   "cell_type": "code",
   "execution_count": 41,
   "metadata": {},
   "outputs": [
    {
     "data": {
      "text/plain": [
       "   Min. 1st Qu.  Median    Mean 3rd Qu.    Max. \n",
       "  -1.00   -1.00   -1.00   48.62   -1.00  854.00 "
      ]
     },
     "metadata": {},
     "output_type": "display_data"
    }
   ],
   "source": [
    "summary(cidata$DaysPassed)"
   ]
  },
  {
   "cell_type": "code",
   "execution_count": 42,
   "metadata": {},
   "outputs": [
    {
     "data": {},
     "metadata": {},
     "output_type": "display_data"
    },
    {
     "data": {},
     "metadata": {},
     "output_type": "display_data"
    },
    {
     "data": {
      "image/png": "[encoded data removed]",
      "text/plain": [
       "plot without title"
      ]
     },
     "metadata": {},
     "output_type": "display_data"
    },
    {
     "data": {
      "image/png": "[encoded data removed]",
      "text/plain": [
       "plot without title"
      ]
     },
     "metadata": {},
     "output_type": "display_data"
    }
   ],
   "source": [
    "ggplot(cidata, aes(y=cidata$DaysPassed, x=1)) + geom_violin()\n",
    "ggplot(data = cidata) + geom_density(aes(x= cidata$DaysPassed), fill = \"grey50\")"
   ]
  },
  {
   "cell_type": "code",
   "execution_count": 43,
   "metadata": {},
   "outputs": [],
   "source": [
    "cidata$DaysPassed[c(cidata$DaysPassed > 365)] <- 365\n",
    "cidata$DaysPassed[c(cidata$DaysPassed == -1)] <- 365"
   ]
  },
  {
   "cell_type": "code",
   "execution_count": 44,
   "metadata": {},
   "outputs": [
    {
     "data": {
      "text/plain": [
       "   Min. 1st Qu.  Median    Mean 3rd Qu.    Max. \n",
       "    1.0   365.0   365.0   325.3   365.0   365.0 "
      ]
     },
     "metadata": {},
     "output_type": "display_data"
    },
    {
     "data": {},
     "metadata": {},
     "output_type": "display_data"
    },
    {
     "data": {
      "image/png": "[encoded data removed]",
      "text/plain": [
       "plot without title"
      ]
     },
     "metadata": {},
     "output_type": "display_data"
    }
   ],
   "source": [
    "summary(cidata$DaysPassed)\n",
    "ggplot(data = cidata) + geom_density(aes(x= cidata$DaysPassed), fill = \"grey50\")"
   ]
  },
  {
   "cell_type": "markdown",
   "metadata": {},
   "source": [
    "### 3.8 Defalut, CarLoan, CarInsurance, HHInsurance\n",
    "Converting the binary variables to factor variables"
   ]
  },
  {
   "cell_type": "code",
   "execution_count": 45,
   "metadata": {},
   "outputs": [
    {
     "data": {
      "text/plain": [
       "   Min. 1st Qu.  Median    Mean 3rd Qu.    Max. \n",
       "0.00000 0.00000 0.00000 0.01457 0.00000 1.00000 "
      ]
     },
     "metadata": {},
     "output_type": "display_data"
    }
   ],
   "source": [
    "summary(cidata$Default)"
   ]
  },
  {
   "cell_type": "code",
   "execution_count": 46,
   "metadata": {},
   "outputs": [],
   "source": [
    "cidata$Default <- as.factor(cidata$Default)\n",
    "cidata$CarLoan <- as.factor(cidata$CarLoan)\n",
    "cidata$CarInsurance <- as.factor(cidata$CarInsurance)\n",
    "cidata$HHInsurance <- as.factor(cidata$HHInsurance)"
   ]
  },
  {
   "cell_type": "markdown",
   "metadata": {},
   "source": [
    "### 3.9 LastContactDay, LastContactMonth"
   ]
  },
  {
   "cell_type": "markdown",
   "metadata": {},
   "source": [
    "The values of these sections are not tally with the values of the DayPassed. We decided to drop this columns and will use the DayPassed only."
   ]
  },
  {
   "cell_type": "code",
   "execution_count": 47,
   "metadata": {},
   "outputs": [],
   "source": [
    "cidata$LastContactDay <- NULL\n",
    "cidata$LastContactMonth <- NULL"
   ]
  },
  {
   "cell_type": "markdown",
   "metadata": {},
   "source": [
    "### 3.10 Communication"
   ]
  },
  {
   "cell_type": "markdown",
   "metadata": {},
   "source": [
    "There are missing values on the communication column. the \"NA\" will be changed to \"Missing\""
   ]
  },
  {
   "cell_type": "code",
   "execution_count": 48,
   "metadata": {},
   "outputs": [],
   "source": [
    "cidata$Communication_ <- addNA(cidata$Communication)\n",
    "levels(cidata$Communication_) <- c(levels(cidata$Communication), 'Missing')\n",
    "\n",
    "cidata$Communication <- NULL"
   ]
  },
  {
   "cell_type": "markdown",
   "metadata": {},
   "source": [
    "### 3.11 startminute, startsecond, endminute, endsecond\\\n",
    "Delete the data that we don't need to use."
   ]
  },
  {
   "cell_type": "code",
   "execution_count": 49,
   "metadata": {},
   "outputs": [],
   "source": [
    "cidata$startminute <- NULL\n",
    "cidata$startsecond <- NULL\n",
    "cidata$endminute <- NULL\n",
    "cidata$endsecond <- NULL"
   ]
  },
  {
   "cell_type": "markdown",
   "metadata": {},
   "source": [
    "### 3.12 starthour, endhour\n",
    "Convert the variables to factor"
   ]
  },
  {
   "cell_type": "code",
   "execution_count": 50,
   "metadata": {},
   "outputs": [],
   "source": [
    "cidata$starthour <- as.factor(cidata$starthour)\n",
    "cidata$endhour <- as.factor(cidata$endhour)"
   ]
  },
  {
   "cell_type": "markdown",
   "metadata": {},
   "source": [
    "### 3.13 Outcome\n",
    "There are missing values on the communication column. the \"NA\" will be changed to \"Missing\""
   ]
  },
  {
   "cell_type": "code",
   "execution_count": 51,
   "metadata": {},
   "outputs": [],
   "source": [
    "cidata$Outcome_ <- addNA(cidata$Outcome)\n",
    "levels(cidata$Outcome_) <- c(levels(cidata$Outcome), 'Missing')\n",
    "\n",
    "cidata$Outcome <- NULL"
   ]
  },
  {
   "cell_type": "markdown",
   "metadata": {},
   "source": [
    "### 3.14 Balance"
   ]
  },
  {
   "cell_type": "markdown",
   "metadata": {},
   "source": [
    "As you can see from the density chart below, the values are biased. There are even negative values. Let's create a \"minusBalance\" variable and put the negative balance and zero balance as \"1\". And the others as \"0.\n",
    "If the Balance is 1 or less than 1, change it to 1.\n",
    "At last, take log."
   ]
  },
  {
   "cell_type": "markdown",
   "metadata": {},
   "source": [
    "minusBalance 데이터 추가: Balance가 0 및 음수인 경우 1, 아닌경우 0\n",
    "Balance <= 1인경우 1로 초기화 후 Log변환하여 값을 모음"
   ]
  },
  {
   "cell_type": "code",
   "execution_count": 52,
   "metadata": {},
   "outputs": [
    {
     "data": {
      "text/plain": [
       "   Min. 1st Qu.  Median    Mean 3rd Qu.    Max. \n",
       "  -3058     111     549    1535    1618   98417 "
      ]
     },
     "metadata": {},
     "output_type": "display_data"
    }
   ],
   "source": [
    "summary(cidata$Balance)"
   ]
  },
  {
   "cell_type": "code",
   "execution_count": 53,
   "metadata": {},
   "outputs": [
    {
     "data": {},
     "metadata": {},
     "output_type": "display_data"
    },
    {
     "data": {
      "image/png": "[encoded data removed]",
      "text/plain": [
       "plot without title"
      ]
     },
     "metadata": {},
     "output_type": "display_data"
    }
   ],
   "source": [
    "ggplot(data = cidata) + geom_density(aes(x= cidata$Balance), fill = \"grey50\")"
   ]
  },
  {
   "cell_type": "code",
   "execution_count": 54,
   "metadata": {},
   "outputs": [],
   "source": [
    "cidata<- transform(cidata,\n",
    "                   minusbalance = as.factor(ifelse(cidata$Balance<=1, 1, 0)))\n",
    "                "
   ]
  },
  {
   "cell_type": "code",
   "execution_count": 55,
   "metadata": {},
   "outputs": [
    {
     "data": {
      "text/plain": [
       "   Min. 1st Qu.  Median    Mean 3rd Qu.    Max. \n",
       "      1     111     549    1553    1618   98417 "
      ]
     },
     "metadata": {},
     "output_type": "display_data"
    }
   ],
   "source": [
    "cidata$logBalance <- cidata$Balance   \n",
    "cidata$logBalance[c(cidata$Balance <= 1)] <- 1\n",
    "summary(cidata$logBalance)"
   ]
  },
  {
   "cell_type": "code",
   "execution_count": 56,
   "metadata": {},
   "outputs": [
    {
     "data": {},
     "metadata": {},
     "output_type": "display_data"
    },
    {
     "data": {
      "image/png": "[encoded data removed]",
      "text/plain": [
       "plot without title"
      ]
     },
     "metadata": {},
     "output_type": "display_data"
    }
   ],
   "source": [
    "cidata$logBalance <- log10(cidata$logBalance)\n",
    "ggplot(data = cidata) + geom_density(aes(x= cidata$logBalance), fill = \"grey50\")\n",
    "cidata$Balance <- NULL"
   ]
  },
  {
   "cell_type": "markdown",
   "metadata": {},
   "source": [
    "### 3.15 Dummy Variables\n",
    "\n",
    "Lastly, we have to create dummy variables for the logistic regression model since all regression models are not resistant to categorical variables."
   ]
  },
  {
   "cell_type": "code",
   "execution_count": 57,
   "metadata": {},
   "outputs": [
    {
     "data": {
      "text/plain": [
       " Default  HHInsurance CarLoan   NoOfContacts      DaysPassed   \n",
       " 0:3923   0:2012      0:3450   Min.   : 1.000   Min.   :  1.0  \n",
       " 1:  58   1:1969      1: 531   1st Qu.: 1.000   1st Qu.:365.0  \n",
       "                               Median : 2.000   Median :365.0  \n",
       "                               Mean   : 2.609   Mean   :325.3  \n",
       "                               3rd Qu.: 3.000   3rd Qu.:365.0  \n",
       "                               Max.   :43.000   Max.   :365.0  \n",
       "  PrevAttempts     CarInsurance      dif         early_working_age\n",
       " Min.   : 0.0000   0:2386       Min.   :   5.0   0:3874           \n",
       " 1st Qu.: 0.0000   1:1595       1st Qu.: 126.0   1: 107           \n",
       " Median : 0.0000                Median : 231.0                    \n",
       " Mean   : 0.7174                Mean   : 350.9                    \n",
       " 3rd Qu.: 0.0000                3rd Qu.: 460.0                    \n",
       " Max.   :58.0000                Max.   :3253.0                    \n",
       " prime_working_age mature_working_age elderly  minusbalance   logBalance   \n",
       " 0: 688            0:3517             0:3864   0:3397       Min.   :0.000  \n",
       " 1:3293            1: 464             1: 117   1: 584       1st Qu.:2.045  \n",
       "                                                            Median :2.740  \n",
       "                                                            Mean   :2.404  \n",
       "                                                            3rd Qu.:3.209  \n",
       "                                                            Max.   :4.993  \n",
       "  starthour.9     starthour.10     starthour.11      starthour.12   \n",
       " Min.   :0.000   Min.   :0.0000   Min.   :0.00000   Min.   :0.0000  \n",
       " 1st Qu.:0.000   1st Qu.:0.0000   1st Qu.:0.00000   1st Qu.:0.0000  \n",
       " Median :0.000   Median :0.0000   Median :0.00000   Median :0.0000  \n",
       " Mean   :0.114   Mean   :0.1138   Mean   :0.09294   Mean   :0.1108  \n",
       " 3rd Qu.:0.000   3rd Qu.:0.0000   3rd Qu.:0.00000   3rd Qu.:0.0000  \n",
       " Max.   :1.000   Max.   :1.0000   Max.   :1.00000   Max.   :1.0000  \n",
       "  starthour.13     starthour.14     starthour.15     starthour.16   \n",
       " Min.   :0.0000   Min.   :0.0000   Min.   :0.0000   Min.   :0.0000  \n",
       " 1st Qu.:0.0000   1st Qu.:0.0000   1st Qu.:0.0000   1st Qu.:0.0000  \n",
       " Median :0.0000   Median :0.0000   Median :0.0000   Median :0.0000  \n",
       " Mean   :0.1163   Mean   :0.1138   Mean   :0.1125   Mean   :0.1135  \n",
       " 3rd Qu.:0.0000   3rd Qu.:0.0000   3rd Qu.:0.0000   3rd Qu.:0.0000  \n",
       " Max.   :1.0000   Max.   :1.0000   Max.   :1.0000   Max.   :1.0000  \n",
       "  starthour.17      endhour.9        endhour.10       endhour.11     \n",
       " Min.   :0.0000   Min.   :0.0000   Min.   :0.0000   Min.   :0.00000  \n",
       " 1st Qu.:0.0000   1st Qu.:0.0000   1st Qu.:0.0000   1st Qu.:0.00000  \n",
       " Median :0.0000   Median :0.0000   Median :0.0000   Median :0.00000  \n",
       " Mean   :0.1123   Mean   :0.1022   Mean   :0.1153   Mean   :0.09319  \n",
       " 3rd Qu.:0.0000   3rd Qu.:0.0000   3rd Qu.:0.0000   3rd Qu.:0.00000  \n",
       " Max.   :1.0000   Max.   :1.0000   Max.   :1.0000   Max.   :1.00000  \n",
       "   endhour.12       endhour.13      endhour.14       endhour.15    \n",
       " Min.   :0.0000   Min.   :0.000   Min.   :0.0000   Min.   :0.0000  \n",
       " 1st Qu.:0.0000   1st Qu.:0.000   1st Qu.:0.0000   1st Qu.:0.0000  \n",
       " Median :0.0000   Median :0.000   Median :0.0000   Median :0.0000  \n",
       " Mean   :0.1095   Mean   :0.114   Mean   :0.1158   Mean   :0.1135  \n",
       " 3rd Qu.:0.0000   3rd Qu.:0.000   3rd Qu.:0.0000   3rd Qu.:0.0000  \n",
       " Max.   :1.0000   Max.   :1.000   Max.   :1.0000   Max.   :1.0000  \n",
       "   endhour.16       endhour.17       endhour.18        Job.admin.    \n",
       " Min.   :0.0000   Min.   :0.0000   Min.   :0.00000   Min.   :0.0000  \n",
       " 1st Qu.:0.0000   1st Qu.:0.0000   1st Qu.:0.00000   1st Qu.:0.0000  \n",
       " Median :0.0000   Median :0.0000   Median :0.00000   Median :0.0000  \n",
       " Mean   :0.1115   Mean   :0.1133   Mean   :0.01155   Mean   :0.1153  \n",
       " 3rd Qu.:0.0000   3rd Qu.:0.0000   3rd Qu.:0.00000   3rd Qu.:0.0000  \n",
       " Max.   :1.0000   Max.   :1.0000   Max.   :1.00000   Max.   :1.0000  \n",
       " Job.blue-collar  Job.entrepreneur  Job.housemaid     Job.management  \n",
       " Min.   :0.0000   Min.   :0.00000   Min.   :0.00000   Min.   :0.0000  \n",
       " 1st Qu.:0.0000   1st Qu.:0.00000   1st Qu.:0.00000   1st Qu.:0.0000  \n",
       " Median :0.0000   Median :0.00000   Median :0.00000   Median :0.0000  \n",
       " Mean   :0.1907   Mean   :0.03039   Mean   :0.02738   Mean   :0.2243  \n",
       " 3rd Qu.:0.0000   3rd Qu.:0.00000   3rd Qu.:0.00000   3rd Qu.:0.0000  \n",
       " Max.   :1.0000   Max.   :1.00000   Max.   :1.00000   Max.   :1.0000  \n",
       "  Job.retired      Job.self-employed  Job.services      Job.student     \n",
       " Min.   :0.00000   Min.   :0.00000   Min.   :0.00000   Min.   :0.00000  \n",
       " 1st Qu.:0.00000   1st Qu.:0.00000   1st Qu.:0.00000   1st Qu.:0.00000  \n",
       " Median :0.00000   Median :0.00000   Median :0.00000   Median :0.00000  \n",
       " Mean   :0.06255   Mean   :0.03517   Mean   :0.08289   Mean   :0.03291  \n",
       " 3rd Qu.:0.00000   3rd Qu.:0.00000   3rd Qu.:0.00000   3rd Qu.:0.00000  \n",
       " Max.   :1.00000   Max.   :1.00000   Max.   :1.00000   Max.   :1.00000  \n",
       " Job.technician   Job.unemployed    Marital.divorced Marital.married \n",
       " Min.   :0.0000   Min.   :0.00000   Min.   :0.0000   Min.   :0.0000  \n",
       " 1st Qu.:0.0000   1st Qu.:0.00000   1st Qu.:0.0000   1st Qu.:0.0000  \n",
       " Median :0.0000   Median :0.00000   Median :0.0000   Median :1.0000  \n",
       " Mean   :0.1658   Mean   :0.03266   Mean   :0.1208   Mean   :0.5765  \n",
       " 3rd Qu.:0.0000   3rd Qu.:0.00000   3rd Qu.:0.0000   3rd Qu.:1.0000  \n",
       " Max.   :1.0000   Max.   :1.00000   Max.   :1.0000   Max.   :1.0000  \n",
       " Marital.single   Education_.primary Education_.secondary Education_.tertiary\n",
       " Min.   :0.0000   Min.   :0.0000     Min.   :0.0000       Min.   :0.0000     \n",
       " 1st Qu.:0.0000   1st Qu.:0.0000     1st Qu.:0.0000       1st Qu.:0.0000     \n",
       " Median :0.0000   Median :0.0000     Median :0.0000       Median :0.0000     \n",
       " Mean   :0.3027   Mean   :0.1399     Mean   :0.4981       Mean   :0.3215     \n",
       " 3rd Qu.:1.0000   3rd Qu.:0.0000     3rd Qu.:1.0000       3rd Qu.:1.0000     \n",
       " Max.   :1.0000   Max.   :1.0000     Max.   :1.0000       Max.   :1.0000     \n",
       " Education_.idk    Outcome_.failure Outcome_.other    Outcome_.success \n",
       " Min.   :0.00000   Min.   :0.0000   Min.   :0.00000   Min.   :0.00000  \n",
       " 1st Qu.:0.00000   1st Qu.:0.0000   1st Qu.:0.00000   1st Qu.:0.00000  \n",
       " Median :0.00000   Median :0.0000   Median :0.00000   Median :0.00000  \n",
       " Mean   :0.04044   Mean   :0.1093   Mean   :0.04898   Mean   :0.08114  \n",
       " 3rd Qu.:0.00000   3rd Qu.:0.0000   3rd Qu.:0.00000   3rd Qu.:0.00000  \n",
       " Max.   :1.00000   Max.   :1.0000   Max.   :1.00000   Max.   :1.00000  \n",
       " Outcome_.Missing Communication_.cellular Communication_.telephone\n",
       " Min.   :0.0000   Min.   :0.0000          Min.   :0.00000         \n",
       " 1st Qu.:1.0000   1st Qu.:0.0000          1st Qu.:0.00000         \n",
       " Median :1.0000   Median :1.0000          Median :0.00000         \n",
       " Mean   :0.7606   Mean   :0.7081          Mean   :0.06606         \n",
       " 3rd Qu.:1.0000   3rd Qu.:1.0000          3rd Qu.:0.00000         \n",
       " Max.   :1.0000   Max.   :1.0000          Max.   :1.00000         \n",
       " Communication_.Missing\n",
       " Min.   :0.0000        \n",
       " 1st Qu.:0.0000        \n",
       " Median :0.0000        \n",
       " Mean   :0.2258        \n",
       " 3rd Qu.:0.0000        \n",
       " Max.   :1.0000        "
      ]
     },
     "metadata": {},
     "output_type": "display_data"
    }
   ],
   "source": [
    "startdummy <- predict(dummyVars(~starthour, data = cidata), newdata = cidata)\n",
    "startdummy <- as.data.frame(startdummy)\n",
    "\n",
    "enddummy <- predict(dummyVars(~endhour, data = cidata), newdata = cidata)\n",
    "enddummy <- as.data.frame(enddummy)\n",
    "\n",
    "jobdummy <- predict(dummyVars(~Job, data = cidata), newdata = cidata)\n",
    "jobdummy <- as.data.frame(jobdummy)\n",
    "\n",
    "maritaldummy <- predict(dummyVars(~Marital, data = cidata), newdata = cidata)\n",
    "maritaldummy <- as.data.frame(maritaldummy)\n",
    "\n",
    "edudummy <- predict(dummyVars(~Education_, data = cidata), newdata = cidata)\n",
    "edudummy <- as.data.frame(edudummy)\n",
    "\n",
    "OCdummy <- predict(dummyVars(~Outcome_, data = cidata), newdata = cidata)\n",
    "OCdummy <- as.data.frame(OCdummy)\n",
    "\n",
    "CCdummy <- predict(dummyVars(~Communication_, data = cidata), newdata = cidata)\n",
    "CCdummy <- as.data.frame(CCdummy)\n",
    "\n",
    "cidata <- cbind(cidata,startdummy,enddummy,jobdummy,maritaldummy,edudummy,OCdummy,CCdummy)\n",
    "\n",
    "cidata$Id <- NULL\n",
    "cidata$Job <- NULL\n",
    "cidata$Marital <- NULL\n",
    "cidata$starthour <- NULL\n",
    "cidata$endhour <- NULL\n",
    "cidata$Education_ <- NULL\n",
    "cidata$Communication_ <- NULL\n",
    "cidata$Outcome_ <- NULL\n",
    "\n",
    "summary(cidata)"
   ]
  },
  {
   "cell_type": "code",
   "execution_count": 58,
   "metadata": {},
   "outputs": [
    {
     "data": {
      "text/html": [
       "8"
      ],
      "text/latex": [
       "8"
      ],
      "text/markdown": [
       "8"
      ],
      "text/plain": [
       "[1] 8"
      ]
     },
     "metadata": {},
     "output_type": "display_data"
    }
   ],
   "source": [
    "cluster <- makeCluster(8)\n",
    "registerDoParallel(cluster)\n",
    "foreach::getDoParWorkers()"
   ]
  },
  {
   "cell_type": "markdown",
   "metadata": {},
   "source": [
    "### 3.16 Split data into training and test set"
   ]
  },
  {
   "cell_type": "code",
   "execution_count": 59,
   "metadata": {},
   "outputs": [],
   "source": [
    "cidata_success <- cidata[cidata$CarInsurance ==0,]\n",
    "cidata_fail <- cidata[cidata$CarInsurance ==1,]\n",
    "\n",
    "set.seed(0105)\n",
    "sample_success <- sample(1:nrow(cidata_success), nrow(cidata_success)*0.75)\n",
    "set.seed(0105)\n",
    "sample_fail <- sample(1:nrow(cidata_fail), nrow(cidata_fail)*0.75)\n",
    "\n",
    "cidata_train <- rbind(cidata_fail[sample_fail,], cidata_success[sample_success,])  # 2386 obs\n",
    "cidata_test  <- rbind(cidata_fail[-sample_fail,], cidata_success[-sample_success,])#  996 obs"
   ]
  },
  {
   "cell_type": "markdown",
   "metadata": {},
   "source": [
    "## 4. Modeling"
   ]
  },
  {
   "cell_type": "markdown",
   "metadata": {},
   "source": [
    "### 4.1 Model Selection"
   ]
  },
  {
   "cell_type": "markdown",
   "metadata": {},
   "source": [
    "#### 4.1.1 Naïve Bayes Classifier\n",
    "Let's start with Naive Bayes Classifier."
   ]
  },
  {
   "cell_type": "code",
   "execution_count": 60,
   "metadata": {},
   "outputs": [
    {
     "data": {
      "text/plain": [
       "\n",
       "Naive Bayes Classifier for Discrete Predictors\n",
       "\n",
       "Call:\n",
       "naiveBayes.default(x = X, y = Y, laplace = laplace)\n",
       "\n",
       "A-priori probabilities:\n",
       "Y\n",
       "      0       1 \n",
       "0.59933 0.40067 \n",
       "\n",
       "Conditional probabilities:\n",
       "   Default\n",
       "Y             0           1\n",
       "  0 0.979877026 0.020122974\n",
       "  1 0.990802676 0.009197324\n",
       "\n",
       "   HHInsurance\n",
       "Y           0         1\n",
       "  0 0.4197876 0.5802124\n",
       "  1 0.6379599 0.3620401\n",
       "\n",
       "   CarLoan\n",
       "Y            0          1\n",
       "  0 0.84125210 0.15874790\n",
       "  1 0.90050167 0.09949833\n",
       "\n",
       "   NoOfContacts\n",
       "Y       [,1]     [,2]\n",
       "  0 2.882057 3.566413\n",
       "  1 2.200669 2.156209\n",
       "\n",
       "   DaysPassed\n",
       "Y       [,1]     [,2]\n",
       "  0 341.0263  67.7145\n",
       "  1 301.2717 105.5062\n",
       "\n",
       "   PrevAttempts\n",
       "Y        [,1]     [,2]\n",
       "  0 0.4745668 1.583982\n",
       "  1 1.0852843 2.692513\n",
       "\n",
       "   dif\n",
       "Y       [,1]     [,2]\n",
       "  0 216.9195 205.5256\n",
       "  1 545.6681 403.1870\n",
       "\n",
       "   early_working_age\n",
       "Y            0          1\n",
       "  0 0.98155394 0.01844606\n",
       "  1 0.95652174 0.04347826\n",
       "\n",
       "   prime_working_age\n",
       "Y           0         1\n",
       "  0 0.1347121 0.8652879\n",
       "  1 0.2290970 0.7709030\n",
       "\n",
       "   mature_working_age\n",
       "Y           0         1\n",
       "  0 0.8943544 0.1056456\n",
       "  1 0.8678930 0.1321070\n",
       "\n",
       "   elderly\n",
       "Y            0          1\n",
       "  0 0.98937954 0.01062046\n",
       "  1 0.94648829 0.05351171\n",
       "\n",
       "   minusbalance\n",
       "Y           0         1\n",
       "  0 0.8228060 0.1771940\n",
       "  1 0.8946488 0.1053512\n",
       "\n",
       "   logBalance\n",
       "Y       [,1]     [,2]\n",
       "  0 2.291567 1.232693\n",
       "  1 2.574287 1.081309\n",
       "\n",
       "   starthour.9\n",
       "Y        [,1]      [,2]\n",
       "  0 0.1050866 0.3067508\n",
       "  1 0.1237458 0.3294291\n",
       "\n",
       "   starthour.10\n",
       "Y         [,1]      [,2]\n",
       "  0 0.11403018 0.3179368\n",
       "  1 0.09866221 0.2983327\n",
       "\n",
       "   starthour.11\n",
       "Y         [,1]      [,2]\n",
       "  0 0.09502515 0.2933317\n",
       "  1 0.09280936 0.2902865\n",
       "\n",
       "   starthour.12\n",
       "Y        [,1]      [,2]\n",
       "  0 0.1134712 0.3172566\n",
       "  1 0.1145485 0.3186095\n",
       "\n",
       "   starthour.13\n",
       "Y        [,1]      [,2]\n",
       "  0 0.1252096 0.3310490\n",
       "  1 0.1212375 0.3265396\n",
       "\n",
       "   starthour.14\n",
       "Y         [,1]      [,2]\n",
       "  0 0.12185579 0.3272106\n",
       "  1 0.09782609 0.2972036\n",
       "\n",
       "   starthour.15\n",
       "Y        [,1]      [,2]\n",
       "  0 0.1129122 0.3165740\n",
       "  1 0.1162207 0.3206235\n",
       "\n",
       "   starthour.16\n",
       "Y        [,1]      [,2]\n",
       "  0 0.1006149 0.3009022\n",
       "  1 0.1270903 0.3332134\n",
       "\n",
       "   starthour.17\n",
       "Y        [,1]      [,2]\n",
       "  0 0.1117943 0.3152013\n",
       "  1 0.1078595 0.3103327\n",
       "\n",
       "   endhour.9\n",
       "Y        [,1]      [,2]\n",
       "  0 0.0961431 0.2948698\n",
       "  1 0.1053512 0.3071338\n",
       "\n",
       "   endhour.10\n",
       "Y         [,1]      [,2]\n",
       "  0 0.11794298 0.3226308\n",
       "  1 0.09949833 0.2994552\n",
       "\n",
       "   endhour.11\n",
       "Y         [,1]      [,2]\n",
       "  0 0.09334824 0.2910012\n",
       "  1 0.09615385 0.2949254\n",
       "\n",
       "   endhour.12\n",
       "Y        [,1]      [,2]\n",
       "  0 0.1129122 0.3165740\n",
       "  1 0.1078595 0.3103327\n",
       "\n",
       "   endhour.13\n",
       "Y        [,1]      [,2]\n",
       "  0 0.1240917 0.3297783\n",
       "  1 0.1204013 0.3255664\n",
       "\n",
       "   endhour.14\n",
       "Y        [,1]      [,2]\n",
       "  0 0.1274455 0.3335646\n",
       "  1 0.1011706 0.3016806\n",
       "\n",
       "   endhour.15\n",
       "Y        [,1]      [,2]\n",
       "  0 0.1101174 0.3131235\n",
       "  1 0.1153846 0.3196192\n",
       "\n",
       "   endhour.16\n",
       "Y        [,1]      [,2]\n",
       "  0 0.1011738 0.3016431\n",
       "  1 0.1262542 0.3322745\n",
       "\n",
       "   endhour.17\n",
       "Y        [,1]      [,2]\n",
       "  0 0.1095584 0.3124259\n",
       "  1 0.1120401 0.3155478\n",
       "\n",
       "   endhour.18\n",
       "Y          [,1]       [,2]\n",
       "  0 0.007266629 0.08495799\n",
       "  1 0.015886288 0.12508795\n",
       "\n",
       "   Job.admin.\n",
       "Y        [,1]      [,2]\n",
       "  0 0.1129122 0.3165740\n",
       "  1 0.1237458 0.3294291\n",
       "\n",
       "   Job.blue-collar\n",
       "Y        [,1]      [,2]\n",
       "  0 0.2364449 0.4250173\n",
       "  1 0.1404682 0.3476175\n",
       "\n",
       "   Job.entrepreneur\n",
       "Y         [,1]     [,2]\n",
       "  0 0.03186138 0.175680\n",
       "  1 0.02424749 0.153881\n",
       "\n",
       "   Job.housemaid\n",
       "Y         [,1]      [,2]\n",
       "  0 0.03242035 0.1771632\n",
       "  1 0.02341137 0.1512693\n",
       "\n",
       "   Job.management\n",
       "Y        [,1]      [,2]\n",
       "  0 0.2023477 0.4018624\n",
       "  1 0.2466555 0.4312448\n",
       "\n",
       "   Job.retired\n",
       "Y         [,1]      [,2]\n",
       "  0 0.04471772 0.2067412\n",
       "  1 0.08779264 0.2831115\n",
       "\n",
       "   Job.self-employed\n",
       "Y         [,1]      [,2]\n",
       "  0 0.03801006 0.1912740\n",
       "  1 0.03344482 0.1798703\n",
       "\n",
       "   Job.services\n",
       "Y         [,1]      [,2]\n",
       "  0 0.08943544 0.2854510\n",
       "  1 0.07023411 0.2556481\n",
       "\n",
       "   Job.student\n",
       "Y         [,1]      [,2]\n",
       "  0 0.01844606 0.1345954\n",
       "  1 0.05267559 0.2234785\n",
       "\n",
       "   Job.technician\n",
       "Y        [,1]      [,2]\n",
       "  0 0.1676914 0.3736965\n",
       "  1 0.1605351 0.3672552\n",
       "\n",
       "   Job.unemployed\n",
       "Y         [,1]      [,2]\n",
       "  0 0.02571269 0.1583211\n",
       "  1 0.03678930 0.1883229\n",
       "\n",
       "   Marital.divorced\n",
       "Y        [,1]      [,2]\n",
       "  0 0.1056456 0.3074694\n",
       "  1 0.1287625 0.3350770\n",
       "\n",
       "   Marital.married\n",
       "Y        [,1]      [,2]\n",
       "  0 0.6143097 0.4868940\n",
       "  1 0.5301003 0.4993019\n",
       "\n",
       "   Marital.single\n",
       "Y        [,1]      [,2]\n",
       "  0 0.2800447 0.4491463\n",
       "  1 0.3411371 0.4742897\n",
       "\n",
       "   Education_.primary\n",
       "Y        [,1]      [,2]\n",
       "  0 0.1559530 0.3629123\n",
       "  1 0.1245819 0.3303824\n",
       "\n",
       "   Education_.secondary\n",
       "Y        [,1]      [,2]\n",
       "  0 0.5371716 0.4987558\n",
       "  1 0.4648829 0.4989739\n",
       "\n",
       "   Education_.tertiary\n",
       "Y        [,1]      [,2]\n",
       "  0 0.2694243 0.4437848\n",
       "  1 0.3662207 0.4819723\n",
       "\n",
       "   Education_.idk\n",
       "Y         [,1]      [,2]\n",
       "  0 0.03745109 0.1899175\n",
       "  1 0.04431438 0.2058787\n",
       "\n",
       "   Outcome_.failure\n",
       "Y        [,1]      [,2]\n",
       "  0 0.1050866 0.3067508\n",
       "  1 0.1011706 0.3016806\n",
       "\n",
       "   Outcome_.other\n",
       "Y         [,1]      [,2]\n",
       "  0 0.04415875 0.2055051\n",
       "  1 0.05936455 0.2364046\n",
       "\n",
       "   Outcome_.success\n",
       "Y         [,1]      [,2]\n",
       "  0 0.01621017 0.1263183\n",
       "  1 0.18478261 0.3882835\n",
       "\n",
       "   Outcome_.Missing\n",
       "Y        [,1]      [,2]\n",
       "  0 0.8345444 0.3716951\n",
       "  1 0.6546823 0.4756707\n",
       "\n",
       "   Communication_.cellular\n",
       "Y        [,1]      [,2]\n",
       "  0 0.6327557 0.4821886\n",
       "  1 0.8135452 0.3896362\n",
       "\n",
       "   Communication_.telephone\n",
       "Y         [,1]      [,2]\n",
       "  0 0.06428172 0.2453227\n",
       "  1 0.08110368 0.2731085\n",
       "\n",
       "   Communication_.Missing\n",
       "Y        [,1]      [,2]\n",
       "  0 0.3029625 0.4596677\n",
       "  1 0.1053512 0.3071338\n"
      ]
     },
     "metadata": {},
     "output_type": "display_data"
    }
   ],
   "source": [
    "cidata_naive <- naiveBayes(CarInsurance~., data = cidata_train)\n",
    "cidata_naive"
   ]
  },
  {
   "cell_type": "code",
   "execution_count": 61,
   "metadata": {},
   "outputs": [
    {
     "data": {
      "text/plain": [
       "      predicted\n",
       "actual    0    1\n",
       "     0 1488  301\n",
       "     1  518  678"
      ]
     },
     "metadata": {},
     "output_type": "display_data"
    }
   ],
   "source": [
    "pred_cidata_naive_tr <- predict(cidata_naive, newdata = cidata_train)\n",
    "cidata_naive_tr_CM <- table(actual = cidata_train$CarInsurance, predicted = pred_cidata_naive_tr)\n",
    "cidata_naive_tr_CM"
   ]
  },
  {
   "cell_type": "code",
   "execution_count": 62,
   "metadata": {},
   "outputs": [
    {
     "data": {
      "text/html": [
       "0.725628140703518"
      ],
      "text/latex": [
       "0.725628140703518"
      ],
      "text/markdown": [
       "0.725628140703518"
      ],
      "text/plain": [
       "[1] 0.7256281"
      ]
     },
     "metadata": {},
     "output_type": "display_data"
    }
   ],
   "source": [
    "naive_tr_acc <- (cidata_naive_tr_CM[1,1] + cidata_naive_tr_CM[2,2])/length(cidata_train$CarInsurance)\n",
    "naive_tr_acc\n",
    "# Train Accuracy: 72.6 %"
   ]
  },
  {
   "cell_type": "code",
   "execution_count": 63,
   "metadata": {},
   "outputs": [
    {
     "data": {
      "text/plain": [
       "      predicted\n",
       "actual   0   1\n",
       "     0 506  91\n",
       "     1 147 252"
      ]
     },
     "metadata": {},
     "output_type": "display_data"
    }
   ],
   "source": [
    "pred_cidata_naive_te <- predict(cidata_naive, newdata = cidata_test)\n",
    "cidata_naive_te_CM <- table(actual = cidata_test$CarInsurance, predicted = pred_cidata_naive_te)\n",
    "cidata_naive_te_CM"
   ]
  },
  {
   "cell_type": "code",
   "execution_count": 64,
   "metadata": {},
   "outputs": [
    {
     "data": {
      "text/html": [
       "0.761044176706827"
      ],
      "text/latex": [
       "0.761044176706827"
      ],
      "text/markdown": [
       "0.761044176706827"
      ],
      "text/plain": [
       "[1] 0.7610442"
      ]
     },
     "metadata": {},
     "output_type": "display_data"
    }
   ],
   "source": [
    "naive_te_acc <- (cidata_naive_te_CM[1,1] + cidata_naive_te_CM[2,2])/length(cidata_test$CarInsurance)\n",
    "naive_te_acc\n",
    "# Test Accuracy: 76.1 %"
   ]
  },
  {
   "cell_type": "code",
   "execution_count": 65,
   "metadata": {},
   "outputs": [],
   "source": [
    "result_naive <- as.data.frame(cbind(naive_tr_acc, naive_te_acc))\n",
    "colnames(result_naive) <- c(\"tr_acc\", \"te_acc\")\n",
    "rownames(result_naive) <- c(\"Naïve Bayes\")"
   ]
  },
  {
   "cell_type": "markdown",
   "metadata": {},
   "source": [
    "#### 4.1.2 KNN"
   ]
  },
  {
   "cell_type": "code",
   "execution_count": 66,
   "metadata": {},
   "outputs": [
    {
     "data": {
      "text/plain": [
       "\n",
       "Parameter tuning of 'knn.wrapper':\n",
       "\n",
       "- sampling method: 10-fold cross validation \n",
       "\n",
       "- best parameters:\n",
       " k\n",
       " 9\n",
       "\n",
       "- best performance: 0.2177516 \n"
      ]
     },
     "metadata": {},
     "output_type": "display_data"
    }
   ],
   "source": [
    "set.seed(0105)\n",
    "tuning_knn <- tune.knn(x=cidata_train[,-7], y=cidata_train$CarInsurance, k=seq(3,19,by=2))\n",
    "tuning_knn"
   ]
  },
  {
   "cell_type": "code",
   "execution_count": 67,
   "metadata": {},
   "outputs": [
    {
     "data": {
      "text/html": [
       "<dl>\n",
       "\t<dt>$method</dt>\n",
       "\t\t<dd>'cv'</dd>\n",
       "\t<dt>$number</dt>\n",
       "\t\t<dd>10</dd>\n",
       "\t<dt>$repeats</dt>\n",
       "\t\t<dd>&lt;NA&gt;</dd>\n",
       "\t<dt>$search</dt>\n",
       "\t\t<dd>'grid'</dd>\n",
       "\t<dt>$p</dt>\n",
       "\t\t<dd>0.75</dd>\n",
       "\t<dt>$initialWindow</dt>\n",
       "\t\t<dd>NULL</dd>\n",
       "\t<dt>$horizon</dt>\n",
       "\t\t<dd>1</dd>\n",
       "\t<dt>$fixedWindow</dt>\n",
       "\t\t<dd>TRUE</dd>\n",
       "\t<dt>$skip</dt>\n",
       "\t\t<dd>0</dd>\n",
       "\t<dt>$verboseIter</dt>\n",
       "\t\t<dd>FALSE</dd>\n",
       "\t<dt>$returnData</dt>\n",
       "\t\t<dd>TRUE</dd>\n",
       "\t<dt>$returnResamp</dt>\n",
       "\t\t<dd>'final'</dd>\n",
       "\t<dt>$savePredictions</dt>\n",
       "\t\t<dd>FALSE</dd>\n",
       "\t<dt>$classProbs</dt>\n",
       "\t\t<dd>FALSE</dd>\n",
       "\t<dt>$summaryFunction</dt>\n",
       "\t\t<dd><pre class=language-r><code>function (data, lev = NULL, model = NULL) \n",
       "{\n",
       "<span style=white-space:pre-wrap>    if (is.character(data$obs)) </span>\n",
       "<span style=white-space:pre-wrap>        data$obs &lt;- factor(data$obs, levels = lev)</span>\n",
       "<span style=white-space:pre-wrap>    postResample(data[, \"pred\"], data[, \"obs\"])</span>\n",
       "}</code></pre></dd>\n",
       "\t<dt>$selectionFunction</dt>\n",
       "\t\t<dd>'best'</dd>\n",
       "\t<dt>$preProcOptions</dt>\n",
       "\t\t<dd><dl>\n",
       "\t<dt>$thresh</dt>\n",
       "\t\t<dd>0.95</dd>\n",
       "\t<dt>$ICAcomp</dt>\n",
       "\t\t<dd>3</dd>\n",
       "\t<dt>$k</dt>\n",
       "\t\t<dd>5</dd>\n",
       "\t<dt>$freqCut</dt>\n",
       "\t\t<dd>19</dd>\n",
       "\t<dt>$uniqueCut</dt>\n",
       "\t\t<dd>10</dd>\n",
       "\t<dt>$cutoff</dt>\n",
       "\t\t<dd>0.9</dd>\n",
       "</dl>\n",
       "</dd>\n",
       "\t<dt>$sampling</dt>\n",
       "\t\t<dd>NULL</dd>\n",
       "\t<dt>$index</dt>\n",
       "\t\t<dd>NULL</dd>\n",
       "\t<dt>$indexOut</dt>\n",
       "\t\t<dd>NULL</dd>\n",
       "\t<dt>$indexFinal</dt>\n",
       "\t\t<dd>NULL</dd>\n",
       "\t<dt>$timingSamps</dt>\n",
       "\t\t<dd>0</dd>\n",
       "\t<dt>$predictionBounds</dt>\n",
       "\t\t<dd><ol class=list-inline>\n",
       "\t<li>FALSE</li>\n",
       "\t<li>FALSE</li>\n",
       "</ol>\n",
       "</dd>\n",
       "\t<dt>$seeds</dt>\n",
       "\t\t<dd>&lt;NA&gt;</dd>\n",
       "\t<dt>$adaptive</dt>\n",
       "\t\t<dd><dl>\n",
       "\t<dt>$min</dt>\n",
       "\t\t<dd>5</dd>\n",
       "\t<dt>$alpha</dt>\n",
       "\t\t<dd>0.05</dd>\n",
       "\t<dt>$method</dt>\n",
       "\t\t<dd>'gls'</dd>\n",
       "\t<dt>$complete</dt>\n",
       "\t\t<dd>TRUE</dd>\n",
       "</dl>\n",
       "</dd>\n",
       "\t<dt>$trim</dt>\n",
       "\t\t<dd>FALSE</dd>\n",
       "\t<dt>$allowParallel</dt>\n",
       "\t\t<dd>TRUE</dd>\n",
       "</dl>\n"
      ],
      "text/latex": [
       "\\begin{description}\n",
       "\\item[\\$method] 'cv'\n",
       "\\item[\\$number] 10\n",
       "\\item[\\$repeats] <NA>\n",
       "\\item[\\$search] 'grid'\n",
       "\\item[\\$p] 0.75\n",
       "\\item[\\$initialWindow] NULL\n",
       "\\item[\\$horizon] 1\n",
       "\\item[\\$fixedWindow] TRUE\n",
       "\\item[\\$skip] 0\n",
       "\\item[\\$verboseIter] FALSE\n",
       "\\item[\\$returnData] TRUE\n",
       "\\item[\\$returnResamp] 'final'\n",
       "\\item[\\$savePredictions] FALSE\n",
       "\\item[\\$classProbs] FALSE\n",
       "\\item[\\$summaryFunction] \\begin{minted}{r}\n",
       "function (data, lev = NULL, model = NULL) \n",
       "\\{\n",
       "    if (is.character(data\\$obs)) \n",
       "        data\\$obs <- factor(data\\$obs, levels = lev)\n",
       "    postResample(data{[}, \"pred\"{]}, data{[}, \"obs\"{]})\n",
       "\\}\n",
       "\\end{minted}\n",
       "\\item[\\$selectionFunction] 'best'\n",
       "\\item[\\$preProcOptions] \\begin{description}\n",
       "\\item[\\$thresh] 0.95\n",
       "\\item[\\$ICAcomp] 3\n",
       "\\item[\\$k] 5\n",
       "\\item[\\$freqCut] 19\n",
       "\\item[\\$uniqueCut] 10\n",
       "\\item[\\$cutoff] 0.9\n",
       "\\end{description}\n",
       "\n",
       "\\item[\\$sampling] NULL\n",
       "\\item[\\$index] NULL\n",
       "\\item[\\$indexOut] NULL\n",
       "\\item[\\$indexFinal] NULL\n",
       "\\item[\\$timingSamps] 0\n",
       "\\item[\\$predictionBounds] \\begin{enumerate*}\n",
       "\\item FALSE\n",
       "\\item FALSE\n",
       "\\end{enumerate*}\n",
       "\n",
       "\\item[\\$seeds] <NA>\n",
       "\\item[\\$adaptive] \\begin{description}\n",
       "\\item[\\$min] 5\n",
       "\\item[\\$alpha] 0.05\n",
       "\\item[\\$method] 'gls'\n",
       "\\item[\\$complete] TRUE\n",
       "\\end{description}\n",
       "\n",
       "\\item[\\$trim] FALSE\n",
       "\\item[\\$allowParallel] TRUE\n",
       "\\end{description}\n"
      ],
      "text/markdown": [
       "$method\n",
       ":   'cv'\n",
       "$number\n",
       ":   10\n",
       "$repeats\n",
       ":   &lt;NA&gt;\n",
       "$search\n",
       ":   'grid'\n",
       "$p\n",
       ":   0.75\n",
       "$initialWindow\n",
       ":   NULL\n",
       "$horizon\n",
       ":   1\n",
       "$fixedWindow\n",
       ":   TRUE\n",
       "$skip\n",
       ":   0\n",
       "$verboseIter\n",
       ":   FALSE\n",
       "$returnData\n",
       ":   TRUE\n",
       "$returnResamp\n",
       ":   'final'\n",
       "$savePredictions\n",
       ":   FALSE\n",
       "$classProbs\n",
       ":   FALSE\n",
       "$summaryFunction\n",
       ":   ```r\n",
       "function (data, lev = NULL, model = NULL) \n",
       "{\n",
       "    if (is.character(data$obs)) \n",
       "        data$obs <- factor(data$obs, levels = lev)\n",
       "    postResample(data[, \"pred\"], data[, \"obs\"])\n",
       "}\n",
       "```\n",
       "$selectionFunction\n",
       ":   'best'\n",
       "$preProcOptions\n",
       ":   $thresh\n",
       ":   0.95\n",
       "$ICAcomp\n",
       ":   3\n",
       "$k\n",
       ":   5\n",
       "$freqCut\n",
       ":   19\n",
       "$uniqueCut\n",
       ":   10\n",
       "$cutoff\n",
       ":   0.9\n",
       "\n",
       "\n",
       "\n",
       "$sampling\n",
       ":   NULL\n",
       "$index\n",
       ":   NULL\n",
       "$indexOut\n",
       ":   NULL\n",
       "$indexFinal\n",
       ":   NULL\n",
       "$timingSamps\n",
       ":   0\n",
       "$predictionBounds\n",
       ":   1. FALSE\n",
       "2. FALSE\n",
       "\n",
       "\n",
       "\n",
       "$seeds\n",
       ":   &lt;NA&gt;\n",
       "$adaptive\n",
       ":   $min\n",
       ":   5\n",
       "$alpha\n",
       ":   0.05\n",
       "$method\n",
       ":   'gls'\n",
       "$complete\n",
       ":   TRUE\n",
       "\n",
       "\n",
       "\n",
       "$trim\n",
       ":   FALSE\n",
       "$allowParallel\n",
       ":   TRUE\n",
       "\n",
       "\n"
      ],
      "text/plain": [
       "$method\n",
       "[1] \"cv\"\n",
       "\n",
       "$number\n",
       "[1] 10\n",
       "\n",
       "$repeats\n",
       "[1] NA\n",
       "\n",
       "$search\n",
       "[1] \"grid\"\n",
       "\n",
       "$p\n",
       "[1] 0.75\n",
       "\n",
       "$initialWindow\n",
       "NULL\n",
       "\n",
       "$horizon\n",
       "[1] 1\n",
       "\n",
       "$fixedWindow\n",
       "[1] TRUE\n",
       "\n",
       "$skip\n",
       "[1] 0\n",
       "\n",
       "$verboseIter\n",
       "[1] FALSE\n",
       "\n",
       "$returnData\n",
       "[1] TRUE\n",
       "\n",
       "$returnResamp\n",
       "[1] \"final\"\n",
       "\n",
       "$savePredictions\n",
       "[1] FALSE\n",
       "\n",
       "$classProbs\n",
       "[1] FALSE\n",
       "\n",
       "$summaryFunction\n",
       "function (data, lev = NULL, model = NULL) \n",
       "{\n",
       "    if (is.character(data$obs)) \n",
       "        data$obs <- factor(data$obs, levels = lev)\n",
       "    postResample(data[, \"pred\"], data[, \"obs\"])\n",
       "}\n",
       "<bytecode: 0x000000002fc31d10>\n",
       "<environment: namespace:caret>\n",
       "\n",
       "$selectionFunction\n",
       "[1] \"best\"\n",
       "\n",
       "$preProcOptions\n",
       "$preProcOptions$thresh\n",
       "[1] 0.95\n",
       "\n",
       "$preProcOptions$ICAcomp\n",
       "[1] 3\n",
       "\n",
       "$preProcOptions$k\n",
       "[1] 5\n",
       "\n",
       "$preProcOptions$freqCut\n",
       "[1] 19\n",
       "\n",
       "$preProcOptions$uniqueCut\n",
       "[1] 10\n",
       "\n",
       "$preProcOptions$cutoff\n",
       "[1] 0.9\n",
       "\n",
       "\n",
       "$sampling\n",
       "NULL\n",
       "\n",
       "$index\n",
       "NULL\n",
       "\n",
       "$indexOut\n",
       "NULL\n",
       "\n",
       "$indexFinal\n",
       "NULL\n",
       "\n",
       "$timingSamps\n",
       "[1] 0\n",
       "\n",
       "$predictionBounds\n",
       "[1] FALSE FALSE\n",
       "\n",
       "$seeds\n",
       "[1] NA\n",
       "\n",
       "$adaptive\n",
       "$adaptive$min\n",
       "[1] 5\n",
       "\n",
       "$adaptive$alpha\n",
       "[1] 0.05\n",
       "\n",
       "$adaptive$method\n",
       "[1] \"gls\"\n",
       "\n",
       "$adaptive$complete\n",
       "[1] TRUE\n",
       "\n",
       "\n",
       "$trim\n",
       "[1] FALSE\n",
       "\n",
       "$allowParallel\n",
       "[1] TRUE\n"
      ]
     },
     "metadata": {},
     "output_type": "display_data"
    }
   ],
   "source": [
    "set.seed(0105)\n",
    "trControl <- trainControl(method  = \"cv\",\n",
    "                          number  = 10)\n",
    "trControl"
   ]
  },
  {
   "cell_type": "code",
   "execution_count": 68,
   "metadata": {},
   "outputs": [
    {
     "data": {
      "text/html": [
       "0.704175409909288"
      ],
      "text/latex": [
       "0.704175409909288"
      ],
      "text/markdown": [
       "0.704175409909288"
      ],
      "text/plain": [
       "[1] 0.7041754"
      ]
     },
     "metadata": {},
     "output_type": "display_data"
    }
   ],
   "source": [
    "set.seed(0105)\n",
    "cidata_knn <- train(x=cidata_train[,-7], y=cidata_train[,7],\n",
    "                 method     = \"knn\",\n",
    "                 tuneGrid   = expand.grid(k = 7:13),\n",
    "                 trControl  = trControl,\n",
    "                 metric     = \"Accuracy\",\n",
    "                 preProcess = c(\"center\", \"scale\")\n",
    "                 )\n",
    "\n",
    "KNN_tr_acc <- max(cidata_knn$results$Accuracy)\n",
    "KNN_tr_acc\n",
    "# Train Accuracy: 70.4%, k=11"
   ]
  },
  {
   "cell_type": "code",
   "execution_count": 69,
   "metadata": {},
   "outputs": [
    {
     "data": {
      "text/plain": [
       "      predicted\n",
       "actual   0   1\n",
       "     0 506  91\n",
       "     1 147 252"
      ]
     },
     "metadata": {},
     "output_type": "display_data"
    }
   ],
   "source": [
    "pred_cidata_KNN_te <- predict(cidata_knn, newdata = cidata_test)\n",
    "cidata_KNN_te_CM <- table(actual = cidata_test$CarInsurance, predicted = pred_cidata_naive_te)\n",
    "cidata_KNN_te_CM"
   ]
  },
  {
   "cell_type": "code",
   "execution_count": 70,
   "metadata": {},
   "outputs": [
    {
     "data": {
      "text/html": [
       "0.761044176706827"
      ],
      "text/latex": [
       "0.761044176706827"
      ],
      "text/markdown": [
       "0.761044176706827"
      ],
      "text/plain": [
       "[1] 0.7610442"
      ]
     },
     "metadata": {},
     "output_type": "display_data"
    }
   ],
   "source": [
    "KNN_te_acc <- (cidata_KNN_te_CM[1,1] + cidata_KNN_te_CM[2,2])/length(cidata_test$CarInsurance)\n",
    "KNN_te_acc\n",
    "# Test Accuracy: 76.1%"
   ]
  },
  {
   "cell_type": "code",
   "execution_count": 71,
   "metadata": {},
   "outputs": [],
   "source": [
    "result_KNN <- as.data.frame(cbind(KNN_tr_acc, KNN_te_acc))\n",
    "colnames(result_KNN) <- c(\"tr_acc\", \"te_acc\")\n",
    "rownames(result_KNN) <- c(\"K(11)-NN\")"
   ]
  },
  {
   "cell_type": "markdown",
   "metadata": {},
   "source": [
    "#### 4.1.3 LDA"
   ]
  },
  {
   "cell_type": "code",
   "execution_count": 72,
   "metadata": {},
   "outputs": [
    {
     "name": "stderr",
     "output_type": "stream",
     "text": [
      "Warning message in lda.default(x, grouping, ...):\n",
      "\"variables are collinear\""
     ]
    },
    {
     "data": {
      "text/plain": [
       "Call:\n",
       "lda(CarInsurance ~ ., data = cidata_train, cv = TRUE)\n",
       "\n",
       "Prior probabilities of groups:\n",
       "      0       1 \n",
       "0.59933 0.40067 \n",
       "\n",
       "Group means:\n",
       "     Default1 HHInsurance1   CarLoan1 NoOfContacts DaysPassed PrevAttempts\n",
       "0 0.020122974    0.5802124 0.15874790     2.882057   341.0263    0.4745668\n",
       "1 0.009197324    0.3620401 0.09949833     2.200669   301.2717    1.0852843\n",
       "       dif early_working_age1 prime_working_age1 mature_working_age1   elderly1\n",
       "0 216.9195         0.01844606          0.8652879           0.1056456 0.01062046\n",
       "1 545.6681         0.04347826          0.7709030           0.1321070 0.05351171\n",
       "  minusbalance1 logBalance starthour.9 starthour.10 starthour.11 starthour.12\n",
       "0     0.1771940   2.291567   0.1050866   0.11403018   0.09502515    0.1134712\n",
       "1     0.1053512   2.574287   0.1237458   0.09866221   0.09280936    0.1145485\n",
       "  starthour.13 starthour.14 starthour.15 starthour.16 starthour.17 endhour.9\n",
       "0    0.1252096   0.12185579    0.1129122    0.1006149    0.1117943 0.0961431\n",
       "1    0.1212375   0.09782609    0.1162207    0.1270903    0.1078595 0.1053512\n",
       "  endhour.10 endhour.11 endhour.12 endhour.13 endhour.14 endhour.15 endhour.16\n",
       "0 0.11794298 0.09334824  0.1129122  0.1240917  0.1274455  0.1101174  0.1011738\n",
       "1 0.09949833 0.09615385  0.1078595  0.1204013  0.1011706  0.1153846  0.1262542\n",
       "  endhour.17  endhour.18 Job.admin. `Job.blue-collar` Job.entrepreneur\n",
       "0  0.1095584 0.007266629  0.1129122         0.2364449       0.03186138\n",
       "1  0.1120401 0.015886288  0.1237458         0.1404682       0.02424749\n",
       "  Job.housemaid Job.management Job.retired `Job.self-employed` Job.services\n",
       "0    0.03242035      0.2023477  0.04471772          0.03801006   0.08943544\n",
       "1    0.02341137      0.2466555  0.08779264          0.03344482   0.07023411\n",
       "  Job.student Job.technician Job.unemployed Marital.divorced Marital.married\n",
       "0  0.01844606      0.1676914     0.02571269        0.1056456       0.6143097\n",
       "1  0.05267559      0.1605351     0.03678930        0.1287625       0.5301003\n",
       "  Marital.single Education_.primary Education_.secondary Education_.tertiary\n",
       "0      0.2800447          0.1559530            0.5371716           0.2694243\n",
       "1      0.3411371          0.1245819            0.4648829           0.3662207\n",
       "  Education_.idk Outcome_.failure Outcome_.other Outcome_.success\n",
       "0     0.03745109        0.1050866     0.04415875       0.01621017\n",
       "1     0.04431438        0.1011706     0.05936455       0.18478261\n",
       "  Outcome_.Missing Communication_.cellular Communication_.telephone\n",
       "0        0.8345444               0.6327557               0.06428172\n",
       "1        0.6546823               0.8135452               0.08110368\n",
       "  Communication_.Missing\n",
       "0              0.3029625\n",
       "1              0.1053512\n",
       "\n",
       "Coefficients of linear discriminants:\n",
       "                                   LD1\n",
       "Default1                 -0.0497488427\n",
       "HHInsurance1             -0.5123885606\n",
       "CarLoan1                 -0.3028360331\n",
       "NoOfContacts             -0.0331449450\n",
       "DaysPassed               -0.0002651939\n",
       "PrevAttempts              0.0256314887\n",
       "dif                       0.0028259850\n",
       "early_working_age1        0.3726732338\n",
       "prime_working_age1       -0.1916932902\n",
       "mature_working_age1      -0.0541395325\n",
       "elderly1                  0.8369683825\n",
       "minusbalance1            -0.1212470698\n",
       "logBalance                0.0390344284\n",
       "starthour.9               0.2757577085\n",
       "starthour.10              0.3252348535\n",
       "starthour.11             -0.2291108533\n",
       "starthour.12              0.2835984537\n",
       "starthour.13              0.5441669674\n",
       "starthour.14              0.2670566881\n",
       "starthour.15             -0.4746969924\n",
       "starthour.16             -0.3142359595\n",
       "starthour.17             -0.7583601322\n",
       "endhour.9                -0.1812620712\n",
       "endhour.10               -0.3532776588\n",
       "endhour.11                0.2463128511\n",
       "endhour.12               -0.3409816364\n",
       "endhour.13               -0.6310305506\n",
       "endhour.14               -0.4528480670\n",
       "endhour.15                0.4670540342\n",
       "endhour.16                0.5070419731\n",
       "endhour.17                0.7368186258\n",
       "endhour.18                0.8573027466\n",
       "Job.admin.                0.2503690630\n",
       "`Job.blue-collar`        -0.1101037635\n",
       "Job.entrepreneur         -0.1243857611\n",
       "Job.housemaid            -0.2428553047\n",
       "Job.management           -0.0191113963\n",
       "Job.retired              -0.0491487975\n",
       "`Job.self-employed`      -0.1778142148\n",
       "Job.services             -0.0037596227\n",
       "Job.student               0.4750262691\n",
       "Job.technician            0.0133535178\n",
       "Job.unemployed           -0.0787322741\n",
       "Marital.divorced          0.0979872311\n",
       "Marital.married          -0.1010121981\n",
       "Marital.single            0.0686236501\n",
       "Education_.primary       -0.1349703036\n",
       "Education_.secondary     -0.0958255102\n",
       "Education_.tertiary       0.1880583301\n",
       "Education_.idk            0.0181885914\n",
       "Outcome_.failure         -0.2189554084\n",
       "Outcome_.other           -0.2166725528\n",
       "Outcome_.success          1.2906782651\n",
       "Outcome_.Missing         -0.3437756424\n",
       "Communication_.cellular   0.2537922870\n",
       "Communication_.telephone  0.1578034461\n",
       "Communication_.Missing   -0.3722500981"
      ]
     },
     "metadata": {},
     "output_type": "display_data"
    }
   ],
   "source": [
    "cidata_LDA <- lda(CarInsurance~., data=cidata_train, cv=TRUE)\n",
    "cidata_LDA"
   ]
  },
  {
   "cell_type": "code",
   "execution_count": 73,
   "metadata": {
    "scrolled": true
   },
   "outputs": [
    {
     "data": {
      "text/plain": [
       "      predicted\n",
       "actual    0    1\n",
       "     0 1619  170\n",
       "     1  409  787"
      ]
     },
     "metadata": {},
     "output_type": "display_data"
    }
   ],
   "source": [
    "pred_cidata_LDA_tr <- predict(cidata_LDA, newdata = cidata_train)\n",
    "cidata_LDA_tr_CM <- table(actual = cidata_train$CarInsurance, predicted = pred_cidata_LDA_tr$class)\n",
    "cidata_LDA_tr_CM"
   ]
  },
  {
   "cell_type": "code",
   "execution_count": 74,
   "metadata": {},
   "outputs": [
    {
     "data": {
      "text/html": [
       "0.806030150753769"
      ],
      "text/latex": [
       "0.806030150753769"
      ],
      "text/markdown": [
       "0.806030150753769"
      ],
      "text/plain": [
       "[1] 0.8060302"
      ]
     },
     "metadata": {},
     "output_type": "display_data"
    }
   ],
   "source": [
    "LDA_tr_acc <- (cidata_LDA_tr_CM[1,1] + cidata_LDA_tr_CM[2,2])/length(cidata_train$CarInsurance)\n",
    "LDA_tr_acc \n",
    "# Train Accuracy: 80.6%"
   ]
  },
  {
   "cell_type": "code",
   "execution_count": 75,
   "metadata": {},
   "outputs": [
    {
     "data": {
      "text/plain": [
       "      predicted\n",
       "actual   0   1\n",
       "     0 541  56\n",
       "     1 126 273"
      ]
     },
     "metadata": {},
     "output_type": "display_data"
    }
   ],
   "source": [
    "pred_cidata_LDA_te <- predict(cidata_LDA, newdata = cidata_test)\n",
    "cidata_LDA_te_CM <- table(actual = cidata_test$CarInsurance, predicted = pred_cidata_LDA_te$class)\n",
    "cidata_LDA_te_CM"
   ]
  },
  {
   "cell_type": "code",
   "execution_count": 76,
   "metadata": {},
   "outputs": [
    {
     "data": {
      "text/html": [
       "0.817269076305221"
      ],
      "text/latex": [
       "0.817269076305221"
      ],
      "text/markdown": [
       "0.817269076305221"
      ],
      "text/plain": [
       "[1] 0.8172691"
      ]
     },
     "metadata": {},
     "output_type": "display_data"
    }
   ],
   "source": [
    "LDA_te_acc <- (cidata_LDA_te_CM[1,1] + cidata_LDA_te_CM[2,2])/length(cidata_test$CarInsurance)\n",
    "LDA_te_acc\n",
    "# Test Accuracy: 81.7%"
   ]
  },
  {
   "cell_type": "code",
   "execution_count": 77,
   "metadata": {},
   "outputs": [],
   "source": [
    "result_LDA <- as.data.frame(cbind(LDA_tr_acc, LDA_te_acc))\n",
    "colnames(result_LDA) <- c(\"tr_acc\", \"te_acc\")\n",
    "rownames(result_LDA) <- c(\"LDA\")"
   ]
  },
  {
   "cell_type": "markdown",
   "metadata": {},
   "source": [
    "#### 4.1.4 Logistic Regression"
   ]
  },
  {
   "cell_type": "code",
   "execution_count": 78,
   "metadata": {},
   "outputs": [
    {
     "data": {
      "text/plain": [
       "\n",
       "Call:\n",
       "glm(formula = CarInsurance ~ ., family = \"binomial\", data = cidata_train)\n",
       "\n",
       "Deviance Residuals: \n",
       "    Min       1Q   Median       3Q      Max  \n",
       "-5.3998  -0.6006  -0.2796   0.5629   2.7391  \n",
       "\n",
       "Coefficients: (8 not defined because of singularities)\n",
       "                           Estimate Std. Error z value Pr(>|z|)    \n",
       "(Intercept)              -1.1968701  0.9007313  -1.329 0.183922    \n",
       "Default1                 -0.1832102  0.4735848  -0.387 0.698861    \n",
       "HHInsurance1             -0.8797549  0.1126868  -7.807 5.85e-15 ***\n",
       "CarLoan1                 -0.5945477  0.1672453  -3.555 0.000378 ***\n",
       "NoOfContacts             -0.1028151  0.0243897  -4.216 2.49e-05 ***\n",
       "DaysPassed               -0.0004492  0.0010241  -0.439 0.660910    \n",
       "PrevAttempts              0.0386185  0.0286819   1.346 0.178161    \n",
       "dif                       0.0054959  0.0002459  22.354  < 2e-16 ***\n",
       "early_working_age1       -0.5651926  0.5258620  -1.075 0.282468    \n",
       "prime_working_age1       -1.4988179  0.4016579  -3.732 0.000190 ***\n",
       "mature_working_age1      -1.2458140  0.3795395  -3.282 0.001029 ** \n",
       "elderly1                         NA         NA      NA       NA    \n",
       "minusbalance1            -0.3144157  0.2806786  -1.120 0.262629    \n",
       "logBalance                0.0310563  0.0828836   0.375 0.707885    \n",
       "starthour.9               2.5905935  1.5760853   1.644 0.100241    \n",
       "starthour.10              2.7262859  1.4840251   1.837 0.066197 .  \n",
       "starthour.11              1.9066221  1.3763928   1.385 0.165982    \n",
       "starthour.12              2.7435864  1.2377454   2.217 0.026650 *  \n",
       "starthour.13              2.5049730  1.1272978   2.222 0.026276 *  \n",
       "starthour.14              2.1270886  1.0192214   2.087 0.036890 *  \n",
       "starthour.15              1.1390773  0.8211678   1.387 0.165398    \n",
       "starthour.16              0.9763171  0.5582276   1.749 0.080298 .  \n",
       "starthour.17                     NA         NA      NA       NA    \n",
       "endhour.9                -2.5436260  1.6686337  -1.524 0.127415    \n",
       "endhour.10               -2.8411028  1.5836322  -1.794 0.072806 .  \n",
       "endhour.11               -1.9692647  1.4827178  -1.328 0.184130    \n",
       "endhour.12               -2.9591907  1.3510640  -2.190 0.028505 *  \n",
       "endhour.13               -2.7675637  1.2486459  -2.216 0.026661 *  \n",
       "endhour.14               -2.6537179  1.1526337  -2.302 0.021318 *  \n",
       "endhour.15               -1.2361367  0.9791233  -1.262 0.206771    \n",
       "endhour.16               -0.8369087  0.7679054  -1.090 0.275775    \n",
       "endhour.17               -0.1664905  0.5285909  -0.315 0.752784    \n",
       "endhour.18                       NA         NA      NA       NA    \n",
       "Job.admin.                0.5377143  0.3286975   1.636 0.101862    \n",
       "`Job.blue-collar`        -0.1781965  0.3246242  -0.549 0.583052    \n",
       "Job.entrepreneur         -0.1871243  0.4245497  -0.441 0.659387    \n",
       "Job.housemaid            -0.3667851  0.4493488  -0.816 0.414352    \n",
       "Job.management            0.0564923  0.3260583   0.173 0.862448    \n",
       "Job.retired               0.0074190  0.3914389   0.019 0.984878    \n",
       "`Job.self-employed`      -0.1180459  0.3987478  -0.296 0.767198    \n",
       "Job.services              0.1124936  0.3506223   0.321 0.748332    \n",
       "Job.student               0.6348870  0.4245373   1.495 0.134789    \n",
       "Job.technician            0.1743590  0.3194434   0.546 0.585189    \n",
       "Job.unemployed                   NA         NA      NA       NA    \n",
       "Marital.divorced          0.0572050  0.1788589   0.320 0.749095    \n",
       "Marital.married          -0.2783417  0.1220236  -2.281 0.022546 *  \n",
       "Marital.single                   NA         NA      NA       NA    \n",
       "Education_.primary       -0.2078108  0.3086272  -0.673 0.500732    \n",
       "Education_.secondary     -0.1191335  0.2769233  -0.430 0.667047    \n",
       "Education_.tertiary       0.3387711  0.2892658   1.171 0.241542    \n",
       "Education_.idk                   NA         NA      NA       NA    \n",
       "Outcome_.failure          0.1998754  0.2289179   0.873 0.382591    \n",
       "Outcome_.other            0.1423279  0.2924526   0.487 0.626492    \n",
       "Outcome_.success          2.4691626  0.3258172   7.578 3.50e-14 ***\n",
       "Outcome_.Missing                 NA         NA      NA       NA    \n",
       "Communication_.cellular   1.2647763  0.1603451   7.888 3.07e-15 ***\n",
       "Communication_.telephone  1.4052577  0.2490917   5.642 1.69e-08 ***\n",
       "Communication_.Missing           NA         NA      NA       NA    \n",
       "---\n",
       "Signif. codes:  0 '***' 0.001 '**' 0.01 '*' 0.05 '.' 0.1 ' ' 1\n",
       "\n",
       "(Dispersion parameter for binomial family taken to be 1)\n",
       "\n",
       "    Null deviance: 4019.5  on 2984  degrees of freedom\n",
       "Residual deviance: 2427.1  on 2935  degrees of freedom\n",
       "AIC: 2527.1\n",
       "\n",
       "Number of Fisher Scoring iterations: 5\n"
      ]
     },
     "metadata": {},
     "output_type": "display_data"
    }
   ],
   "source": [
    "cidata_logit <- glm(CarInsurance~., data=cidata_train, family=\"binomial\")\n",
    "summary(cidata_logit)"
   ]
  },
  {
   "cell_type": "code",
   "execution_count": 79,
   "metadata": {},
   "outputs": [
    {
     "name": "stderr",
     "output_type": "stream",
     "text": [
      "Warning message in predict.lm(object, newdata, se.fit, scale = 1, type = ifelse(type == :\n",
      "\"prediction from a rank-deficient fit may be misleading\""
     ]
    },
    {
     "data": {
      "text/plain": [
       "      predict\n",
       "actual    0    1\n",
       "     0 1580  209\n",
       "     1  328  868"
      ]
     },
     "metadata": {},
     "output_type": "display_data"
    }
   ],
   "source": [
    "pred_cidata_logit_tr <- predict(cidata_logit, newdata = cidata_train, type=\"response\")\n",
    "pred_cidata_logit_tr <- ifelse(pred_cidata_logit_tr>0.5, 1, 0) ## Threshold = 0.5\n",
    "cidata_logit_tr_CM <- table(actual = cidata_train$CarInsurance, predict=pred_cidata_logit_tr)\n",
    "cidata_logit_tr_CM"
   ]
  },
  {
   "cell_type": "code",
   "execution_count": 80,
   "metadata": {},
   "outputs": [
    {
     "data": {
      "text/html": [
       "0.820100502512563"
      ],
      "text/latex": [
       "0.820100502512563"
      ],
      "text/markdown": [
       "0.820100502512563"
      ],
      "text/plain": [
       "[1] 0.8201005"
      ]
     },
     "metadata": {},
     "output_type": "display_data"
    }
   ],
   "source": [
    "Logistic_tr_acc <- (cidata_logit_tr_CM[1,1] + cidata_logit_tr_CM[2,2])/length(cidata_train$CarInsurance)\n",
    "Logistic_tr_acc\n",
    "# Train Accuracy:  82.0%"
   ]
  },
  {
   "cell_type": "code",
   "execution_count": 81,
   "metadata": {},
   "outputs": [
    {
     "name": "stderr",
     "output_type": "stream",
     "text": [
      "Warning message in predict.lm(object, newdata, se.fit, scale = 1, type = ifelse(type == :\n",
      "\"prediction from a rank-deficient fit may be misleading\""
     ]
    },
    {
     "data": {
      "text/plain": [
       "      predict\n",
       "actual   0   1\n",
       "     0 527  70\n",
       "     1 108 291"
      ]
     },
     "metadata": {},
     "output_type": "display_data"
    }
   ],
   "source": [
    "pred_cidata_logit_te <- predict(cidata_logit, newdata = cidata_test, type=\"response\")\n",
    "pred_cidata_logit_te <- ifelse(pred_cidata_logit_te>0.5, 1, 0) ## Threshold = 0.5\n",
    "cidata_logit_te_CM <- table(actual = cidata_test$CarInsurance, predict=pred_cidata_logit_te)\n",
    "cidata_logit_te_CM"
   ]
  },
  {
   "cell_type": "code",
   "execution_count": 82,
   "metadata": {},
   "outputs": [
    {
     "data": {
      "text/html": [
       "0.821285140562249"
      ],
      "text/latex": [
       "0.821285140562249"
      ],
      "text/markdown": [
       "0.821285140562249"
      ],
      "text/plain": [
       "[1] 0.8212851"
      ]
     },
     "metadata": {},
     "output_type": "display_data"
    }
   ],
   "source": [
    "Logistic_te_acc <- (cidata_logit_te_CM[1,1] + cidata_logit_te_CM[2,2])/length(cidata_test$CarInsurance)\n",
    "Logistic_te_acc\n",
    "# Test Accuracy: 82.1%"
   ]
  },
  {
   "cell_type": "code",
   "execution_count": 83,
   "metadata": {},
   "outputs": [],
   "source": [
    "result_Logit <- as.data.frame(cbind(Logistic_tr_acc, Logistic_te_acc))\n",
    "colnames(result_Logit) <- c(\"tr_acc\", \"te_acc\")\n",
    "rownames(result_Logit) <- c(\"Logistic\")"
   ]
  },
  {
   "cell_type": "markdown",
   "metadata": {},
   "source": [
    "#### 4.1.5 Decision Tree (rpart)"
   ]
  },
  {
   "cell_type": "code",
   "execution_count": 84,
   "metadata": {},
   "outputs": [
    {
     "data": {
      "text/plain": [
       "n= 2985 \n",
       "\n",
       "node), split, n, loss, yval, (yprob)\n",
       "      * denotes terminal node\n",
       "\n",
       " 1) root 2985 1196 0 (0.5993300 0.4006700)  \n",
       "   2) dif< 339.5 1947  464 0 (0.7616846 0.2383154)  \n",
       "     4) Outcome_.success< 0.5 1785  327 0 (0.8168067 0.1831933) *\n",
       "     5) Outcome_.success>=0.5 162   25 1 (0.1543210 0.8456790) *\n",
       "   3) dif>=339.5 1038  306 1 (0.2947977 0.7052023)  \n",
       "     6) dif< 611.5 569  235 1 (0.4130053 0.5869947)  \n",
       "      12) Communication_.Missing>=0.5 87   24 0 (0.7241379 0.2758621) *\n",
       "      13) Communication_.Missing< 0.5 482  172 1 (0.3568465 0.6431535) *\n",
       "     7) dif>=611.5 469   71 1 (0.1513859 0.8486141) *"
      ]
     },
     "metadata": {},
     "output_type": "display_data"
    }
   ],
   "source": [
    "cidata_rpart <- rpart(CarInsurance~.,data = cidata_train, control=list(minsplit=15, minbucket=5))\n",
    "cidata_rpart"
   ]
  },
  {
   "cell_type": "code",
   "execution_count": 85,
   "metadata": {},
   "outputs": [
    {
     "data": {
      "text/plain": [
       "      predict\n",
       "actual    0    1\n",
       "     0 1521  268\n",
       "     1  351  845"
      ]
     },
     "metadata": {},
     "output_type": "display_data"
    }
   ],
   "source": [
    "pred_cidata_rpart_tr<- predict(cidata_rpart, type=\"class\")\n",
    "cidata_rpart_tr_CM <- table(actual = cidata_train$CarInsurance, predict=pred_cidata_rpart_tr)\n",
    "cidata_rpart_tr_CM"
   ]
  },
  {
   "cell_type": "code",
   "execution_count": 86,
   "metadata": {
    "scrolled": true
   },
   "outputs": [
    {
     "data": {
      "text/html": [
       "0.792629815745394"
      ],
      "text/latex": [
       "0.792629815745394"
      ],
      "text/markdown": [
       "0.792629815745394"
      ],
      "text/plain": [
       "[1] 0.7926298"
      ]
     },
     "metadata": {},
     "output_type": "display_data"
    },
    {
     "data": {
      "image/png": "[encoded data removed]",
      "text/plain": [
       "plot without title"
      ]
     },
     "metadata": {},
     "output_type": "display_data"
    }
   ],
   "source": [
    "rpart_tr_acc <- (cidata_rpart_tr_CM[1,1] + cidata_rpart_tr_CM[2,2])/length(cidata_train$CarInsurance)\n",
    "rpart.plot(cidata_rpart)\n",
    "rpart_tr_acc\n",
    "# Train Accuracy: 79.3%"
   ]
  },
  {
   "cell_type": "code",
   "execution_count": 87,
   "metadata": {},
   "outputs": [
    {
     "data": {
      "text/plain": [
       "      predicted\n",
       "actual   0   1\n",
       "     0 518  79\n",
       "     1 114 285"
      ]
     },
     "metadata": {},
     "output_type": "display_data"
    }
   ],
   "source": [
    "pred_cidata_rpart_te <- predict(cidata_rpart, newdata = cidata_test, type=\"class\")\n",
    "cidata_rpart_te_CM <- table(actual = cidata_test$CarInsurance, predicted = pred_cidata_rpart_te)\n",
    "cidata_rpart_te_CM"
   ]
  },
  {
   "cell_type": "code",
   "execution_count": 88,
   "metadata": {},
   "outputs": [
    {
     "data": {
      "text/html": [
       "0.806224899598394"
      ],
      "text/latex": [
       "0.806224899598394"
      ],
      "text/markdown": [
       "0.806224899598394"
      ],
      "text/plain": [
       "[1] 0.8062249"
      ]
     },
     "metadata": {},
     "output_type": "display_data"
    }
   ],
   "source": [
    "rpart_te_acc <- (cidata_rpart_te_CM[1,1] + cidata_rpart_te_CM[2,2])/length(cidata_test$CarInsurance)\n",
    "rpart_te_acc\n",
    "# Test Accuracy: 80.6%"
   ]
  },
  {
   "cell_type": "code",
   "execution_count": 89,
   "metadata": {},
   "outputs": [],
   "source": [
    "result_rpart <- as.data.frame(cbind(rpart_tr_acc, rpart_te_acc))\n",
    "colnames(result_rpart) <- c(\"tr_acc\", \"te_acc\")\n",
    "rownames(result_rpart) <- c(\"rpart\")"
   ]
  },
  {
   "cell_type": "markdown",
   "metadata": {},
   "source": [
    "#### 4.1.6 C5.0 Tree"
   ]
  },
  {
   "cell_type": "code",
   "execution_count": 90,
   "metadata": {
    "scrolled": true
   },
   "outputs": [
    {
     "data": {
      "text/plain": [
       "\n",
       "Call:\n",
       "C5.0.formula(formula = CarInsurance ~ ., data = cidata_train, control\n",
       " = C5.0Control(minCases = 10))\n",
       "\n",
       "\n",
       "C5.0 [Release 2.07 GPL Edition]  \tWed Jan 09 19:39:24 2019\n",
       "-------------------------------\n",
       "\n",
       "Class specified by attribute `outcome'\n",
       "\n",
       "Read 2985 cases (58 attributes) from undefined.data\n",
       "\n",
       "Decision tree:\n",
       "\n",
       "Outcome_.success > 0: 1 (250/29)\n",
       "Outcome_.success <= 0:\n",
       ":...dif <= 322:\n",
       "    :...Communication_.Missing > 0: 0 (449/9)\n",
       "    :   Communication_.Missing <= 0:\n",
       "    :   :...dif <= 129: 0 (551/39)\n",
       "    :       dif > 129:\n",
       "    :       :...CarLoan = 1: 0 (93/9)\n",
       "    :           CarLoan = 0:\n",
       "    :           :...HHInsurance = 1: 0 (257/54)\n",
       "    :               HHInsurance = 0:\n",
       "    :               :...minusbalance = 1: 0 (42/8)\n",
       "    :                   minusbalance = 0:\n",
       "    :                   :...NoOfContacts <= 3: 1 (296/123)\n",
       "    :                       NoOfContacts > 3: 0 (49/15)\n",
       "    dif > 322:\n",
       "    :...dif > 611: 1 (446/71)\n",
       "        dif <= 611:\n",
       "        :...Communication_.Missing > 0:\n",
       "            :...dif <= 494: 0 (67/3)\n",
       "            :   dif > 494: 1 (32/11)\n",
       "            Communication_.Missing <= 0:\n",
       "            :...early_working_age = 1: 1 (18/1)\n",
       "                early_working_age = 0:\n",
       "                :...Job.retired > 0: 1 (36/8)\n",
       "                    Job.retired <= 0:\n",
       "                    :...HHInsurance = 0: 1 (218/79)\n",
       "                        HHInsurance = 1:\n",
       "                        :...Job.admin. <= 0: 0 (158/68)\n",
       "                            Job.admin. > 0: 1 (23/6)\n",
       "\n",
       "\n",
       "Evaluation on training data (2985 cases):\n",
       "\n",
       "\t    Decision Tree   \n",
       "\t  ----------------  \n",
       "\t  Size      Errors  \n",
       "\n",
       "\t    16  533(17.9%)   <<\n",
       "\n",
       "\n",
       "\t   (a)   (b)    <-classified as\n",
       "\t  ----  ----\n",
       "\t  1461   328    (a): class 0\n",
       "\t   205   991    (b): class 1\n",
       "\n",
       "\n",
       "\tAttribute usage:\n",
       "\n",
       "\t100.00%\tOutcome_.success\n",
       "\t 91.62%\tdif\n",
       "\t 76.68%\tCommunication_.Missing\n",
       "\t 34.94%\tHHInsurance\n",
       "\t 24.69%\tCarLoan\n",
       "\t 15.18%\tearly_working_age\n",
       "\t 14.57%\tJob.retired\n",
       "\t 12.96%\tminusbalance\n",
       "\t 11.56%\tNoOfContacts\n",
       "\t  6.06%\tJob.admin.\n",
       "\n",
       "\n",
       "Time: 0.0 secs\n"
      ]
     },
     "metadata": {},
     "output_type": "display_data"
    }
   ],
   "source": [
    "cidata_C5.0_fit <- C5.0(CarInsurance~., data=cidata_train, control = C5.0Control(minCases=10))\n",
    "summary(cidata_C5.0_fit)"
   ]
  },
  {
   "cell_type": "code",
   "execution_count": 91,
   "metadata": {},
   "outputs": [
    {
     "data": {
      "text/plain": [
       "      predict\n",
       "actual    0    1\n",
       "     0 1461  328\n",
       "     1  205  991"
      ]
     },
     "metadata": {},
     "output_type": "display_data"
    }
   ],
   "source": [
    "pred_cidata_C5.0_tr<- predict(cidata_C5.0_fit, newdata = cidata_train, type=\"class\")\n",
    "cidata_C5.0_tr_CM <- table(actual = cidata_train$CarInsurance, predict=pred_cidata_C5.0_tr)\n",
    "cidata_C5.0_tr_CM"
   ]
  },
  {
   "cell_type": "code",
   "execution_count": 92,
   "metadata": {},
   "outputs": [
    {
     "data": {
      "text/html": [
       "0.8214405360134"
      ],
      "text/latex": [
       "0.8214405360134"
      ],
      "text/markdown": [
       "0.8214405360134"
      ],
      "text/plain": [
       "[1] 0.8214405"
      ]
     },
     "metadata": {},
     "output_type": "display_data"
    }
   ],
   "source": [
    "C50_tr_acc <- (cidata_C5.0_tr_CM[1,1] + cidata_C5.0_tr_CM[2,2])/length(cidata_train$CarInsurance)\n",
    "C50_tr_acc\n",
    "# Train Accuracy: 82.1%"
   ]
  },
  {
   "cell_type": "code",
   "execution_count": 93,
   "metadata": {},
   "outputs": [
    {
     "data": {
      "text/plain": [
       "      predict\n",
       "actual   0   1\n",
       "     0 484 113\n",
       "     1  72 327"
      ]
     },
     "metadata": {},
     "output_type": "display_data"
    }
   ],
   "source": [
    "pred_cidata_C5.0_te<- predict(cidata_C5.0_fit, newdata = cidata_test, type=\"class\")\n",
    "cidata_C5.0_te_CM <- table(actual = cidata_test$CarInsurance, predict=pred_cidata_C5.0_te)\n",
    "cidata_C5.0_te_CM"
   ]
  },
  {
   "cell_type": "code",
   "execution_count": 94,
   "metadata": {},
   "outputs": [
    {
     "data": {
      "text/html": [
       "0.81425702811245"
      ],
      "text/latex": [
       "0.81425702811245"
      ],
      "text/markdown": [
       "0.81425702811245"
      ],
      "text/plain": [
       "[1] 0.814257"
      ]
     },
     "metadata": {},
     "output_type": "display_data"
    }
   ],
   "source": [
    "C50_te_acc <- (cidata_C5.0_te_CM[1,1] + cidata_C5.0_te_CM[2,2])/length(cidata_test$CarInsurance)\n",
    "C50_te_acc\n",
    "# Test Accuracy: 81.4%"
   ]
  },
  {
   "cell_type": "code",
   "execution_count": 95,
   "metadata": {},
   "outputs": [],
   "source": [
    "result_c50 <- as.data.frame(cbind(C50_tr_acc, C50_te_acc))\n",
    "colnames(result_c50) <- c(\"tr_acc\", \"te_acc\")\n",
    "rownames(result_c50) <- c(\"C5.0\")"
   ]
  },
  {
   "cell_type": "markdown",
   "metadata": {},
   "source": [
    "#### 4.1.8 C5.0 Tree + Boosting"
   ]
  },
  {
   "cell_type": "code",
   "execution_count": 96,
   "metadata": {},
   "outputs": [
    {
     "data": {
      "text/plain": [
       "\n",
       "Call:\n",
       "C5.0.formula(formula = CarInsurance ~ ., data = cidata_train, control\n",
       " = C5.0Control(minCases = 10), trials = 50)\n",
       "\n",
       "\n",
       "C5.0 [Release 2.07 GPL Edition]  \tWed Jan 09 19:39:24 2019\n",
       "-------------------------------\n",
       "\n",
       "Class specified by attribute `outcome'\n",
       "\n",
       "Read 2985 cases (58 attributes) from undefined.data\n",
       "\n",
       "-----  Trial 0:  -----\n",
       "\n",
       "Decision tree:\n",
       "\n",
       "Outcome_.success > 0: 1 (250/29)\n",
       "Outcome_.success <= 0:\n",
       ":...dif <= 322:\n",
       "    :...Communication_.Missing > 0: 0 (449/9)\n",
       "    :   Communication_.Missing <= 0:\n",
       "    :   :...dif <= 129: 0 (551/39)\n",
       "    :       dif > 129:\n",
       "    :       :...CarLoan = 1: 0 (93/9)\n",
       "    :           CarLoan = 0:\n",
       "    :           :...HHInsurance = 1: 0 (257/54)\n",
       "    :               HHInsurance = 0:\n",
       "    :               :...minusbalance = 1: 0 (42/8)\n",
       "    :                   minusbalance = 0:\n",
       "    :                   :...NoOfContacts <= 3: 1 (296/123)\n",
       "    :                       NoOfContacts > 3: 0 (49/15)\n",
       "    dif > 322:\n",
       "    :...dif > 611: 1 (446/71)\n",
       "        dif <= 611:\n",
       "        :...Communication_.Missing > 0:\n",
       "            :...dif <= 494: 0 (67/3)\n",
       "            :   dif > 494: 1 (32/11)\n",
       "            Communication_.Missing <= 0:\n",
       "            :...early_working_age = 1: 1 (18/1)\n",
       "                early_working_age = 0:\n",
       "                :...Job.retired > 0: 1 (36/8)\n",
       "                    Job.retired <= 0:\n",
       "                    :...HHInsurance = 0: 1 (218/79)\n",
       "                        HHInsurance = 1:\n",
       "                        :...Job.admin. <= 0: 0 (158/68)\n",
       "                            Job.admin. > 0: 1 (23/6)\n",
       "\n",
       "-----  Trial 1:  -----\n",
       "\n",
       "Decision tree:\n",
       "\n",
       "Outcome_.success > 0: 1 (232.9/55.1)\n",
       "Outcome_.success <= 0:\n",
       ":...dif > 366:\n",
       "    :...dif > 803: 1 (240.5/47.5)\n",
       "    :   dif <= 803:\n",
       "    :   :...Communication_.Missing <= 0: 1 (578/251.1)\n",
       "    :       Communication_.Missing > 0: 0 (130.2/47.5)\n",
       "    dif <= 366:\n",
       "    :...elderly = 1: 1 (49.1/15.9)\n",
       "        elderly = 0:\n",
       "        :...Communication_.Missing > 0: 0 (391.1/17.1)\n",
       "            Communication_.Missing <= 0:\n",
       "            :...dif <= 91: 0 (255.1/11.4)\n",
       "                dif > 91:\n",
       "                :...early_working_age = 0: 0 (1070.1/355.2)\n",
       "                    early_working_age = 1: 1 (37.9/13.5)\n",
       "\n",
       "-----  Trial 2:  -----\n",
       "\n",
       "Decision tree:\n",
       "\n",
       "dif <= 156: 0 (839.7/181.1)\n",
       "dif > 156:\n",
       ":...Outcome_.success > 0: 1 (161.7/36.8)\n",
       "    Outcome_.success <= 0:\n",
       "    :...dif > 803: 1 (224.2/61.4)\n",
       "        dif <= 803:\n",
       "        :...Communication_.Missing > 0:\n",
       "            :...dif <= 457: 0 (180.3/14.7)\n",
       "            :   dif > 457: 1 (121.8/48.7)\n",
       "            Communication_.Missing <= 0:\n",
       "            :...CarLoan = 1: 0 (178.5/59.7)\n",
       "                CarLoan = 0:\n",
       "                :...Job.blue-collar > 0: 0 (179.6/61.6)\n",
       "                    Job.blue-collar <= 0:\n",
       "                    :...Outcome_.Missing <= 0: 1 (258.9/91.7)\n",
       "                        Outcome_.Missing > 0:\n",
       "                        :...Marital.single <= 0: 0 (548.1/249.6)\n",
       "                            Marital.single > 0: 1 (292.1/121.6)\n",
       "\n",
       "-----  Trial 3:  -----\n",
       "\n",
       "Decision tree:\n",
       "\n",
       "dif <= 91: 0 (289.4/30.5)\n",
       "dif > 91:\n",
       ":...Communication_.Missing > 0:\n",
       "    :...dif <= 494: 0 (252.2/28)\n",
       "    :   dif > 494: 1 (179.9/83.3)\n",
       "    Communication_.Missing <= 0:\n",
       "    :...Outcome_.success > 0: 1 (211.3/68.5)\n",
       "        Outcome_.success <= 0:\n",
       "        :...NoOfContacts <= 1:\n",
       "            :...Job.unemployed > 0: 0 (36.7/14.1)\n",
       "            :   Job.unemployed <= 0:\n",
       "            :   :...endhour.12 <= 0: 1 (802.7/318.5)\n",
       "            :       endhour.12 > 0: 0 (99.4/42.8)\n",
       "            NoOfContacts > 1:\n",
       "            :...dif > 788: 1 (92.6/20.1)\n",
       "                dif <= 788:\n",
       "                :...logBalance <= 3.320354: 0 (794.2/312.6)\n",
       "                    logBalance > 3.320354: 1 (226.6/95.1)\n",
       "\n",
       "-----  Trial 4:  -----\n",
       "\n",
       "Decision tree:\n",
       "\n",
       "dif <= 100: 0 (333.9/55.1)\n",
       "dif > 100:\n",
       ":...Communication_.Missing > 0: 0 (400.7/116.1)\n",
       "    Communication_.Missing <= 0:\n",
       "    :...dif > 520: 1 (489.5/178.1)\n",
       "        dif <= 520:\n",
       "        :...prime_working_age = 0: 1 (349.1/141.3)\n",
       "            prime_working_age = 1:\n",
       "            :...Education_.primary > 0: 0 (102.2/18.8)\n",
       "                Education_.primary <= 0:\n",
       "                :...Education_.secondary <= 0: 1 (604.8/278.2)\n",
       "                    Education_.secondary > 0: 0 (704.8/302.1)\n",
       "\n",
       "-----  Trial 5:  -----\n",
       "\n",
       "Decision tree:\n",
       "\n",
       "dif <= 73: 0 (156.5/12)\n",
       "dif > 73:\n",
       ":...Outcome_.success > 0: 1 (214.3/76.2)\n",
       "    Outcome_.success <= 0:\n",
       "    :...dif <= 228:\n",
       "        :...Communication_.Missing > 0: 0 (138.1/17.2)\n",
       "        :   Communication_.Missing <= 0:\n",
       "        :   :...Job.blue-collar > 0: 0 (103.4/20.1)\n",
       "        :       Job.blue-collar <= 0:\n",
       "        :       :...CarLoan = 1: 0 (80.7/21.9)\n",
       "        :           CarLoan = 0:\n",
       "        :           :...starthour.9 <= 0: 0 (612.3/262.5)\n",
       "        :               starthour.9 > 0: 1 (77.5/31.9)\n",
       "        dif > 228:\n",
       "        :...NoOfContacts > 2: 1 (450.6/186)\n",
       "            NoOfContacts <= 2:\n",
       "            :...early_working_age = 1: 1 (23.1/4.7)\n",
       "                early_working_age = 0:\n",
       "                :...Job.admin. > 0: 1 (119.8/48.8)\n",
       "                    Job.admin. <= 0:\n",
       "                    :...Marital.divorced <= 0: 0 (883.6/399.6)\n",
       "                        Marital.divorced > 0: 1 (125.2/53)\n",
       "\n",
       "-----  Trial 6:  -----\n",
       "\n",
       "Decision tree:\n",
       "\n",
       "dif <= 73: 0 (143.3/12.9)\n",
       "dif > 73:\n",
       ":...Communication_.Missing > 0:\n",
       "    :...dif <= 494: 0 (223.1/33.8)\n",
       "    :   dif > 494: 1 (200.1/83)\n",
       "    Communication_.Missing <= 0:\n",
       "    :...logBalance > 4.180728: 0 (29/3.6)\n",
       "        logBalance <= 4.180728:\n",
       "        :...elderly = 1: 1 (95.3/33.6)\n",
       "            elderly = 0:\n",
       "            :...Job.student > 0: 1 (95.3/34.4)\n",
       "                Job.student <= 0:\n",
       "                :...DaysPassed <= 122: 1 (213.5/74.3)\n",
       "                    DaysPassed > 122:\n",
       "                    :...dif <= 157: 0 (388/140.1)\n",
       "                        dif > 157: 1 (1597.3/767.2)\n",
       "\n",
       "-----  Trial 7:  -----\n",
       "\n",
       "Decision tree:\n",
       "\n",
       "dif <= 73: 0 (132.9/13.7)\n",
       "dif > 73:\n",
       ":...elderly = 1: 1 (98.3/39.7)\n",
       "    elderly = 0:\n",
       "    :...dif > 611: 1 (459.4/192.3)\n",
       "        dif <= 611:\n",
       "        :...Communication_.Missing > 0: 0 (258.4/60.2)\n",
       "            Communication_.Missing <= 0:\n",
       "            :...NoOfContacts > 8: 0 (27.5/1.8)\n",
       "                NoOfContacts <= 8:\n",
       "                :...PrevAttempts > 5: 1 (73.3/25.5)\n",
       "                    PrevAttempts <= 5:\n",
       "                    :...minusbalance = 1: 0 (243/81.4)\n",
       "                        minusbalance = 0:\n",
       "                        :...HHInsurance = 1:\n",
       "                            :...Job.self-employed <= 0: 0 (610.3/229)\n",
       "                            :   Job.self-employed > 0: 1 (33/11.9)\n",
       "                            HHInsurance = 0:\n",
       "                            :...Job.self-employed > 0: 0 (37.7/9.5)\n",
       "                                Job.self-employed <= 0:\n",
       "                                :...CarLoan = 0: 1 (928.4/437.1)\n",
       "                                    CarLoan = 1: 0 (82.9/29.9)\n",
       "\n",
       "-----  Trial 8:  -----\n",
       "\n",
       "Decision tree:\n",
       "\n",
       "dif <= 73: 0 (122.4/14.8)\n",
       "dif > 73:\n",
       ":...Outcome_.success > 0: 1 (204.4/85.2)\n",
       "    Outcome_.success <= 0:\n",
       "    :...endhour.14 > 0: 0 (296.8/104.1)\n",
       "        endhour.14 <= 0:\n",
       "        :...dif <= 472: 0 (1673.1/689.3)\n",
       "            dif > 472: 1 (688.3/321.3)\n",
       "\n",
       "-----  Trial 9:  -----\n",
       "\n",
       "Decision tree:\n",
       "\n",
       "dif <= 73: 0 (114.8/15.6)\n",
       "dif > 73:\n",
       ":...Communication_.Missing > 0: 0 (386.3/140)\n",
       "    Communication_.Missing <= 0:\n",
       "    :...Job.blue-collar > 0: 0 (340.9/142)\n",
       "        Job.blue-collar <= 0:\n",
       "        :...NoOfContacts <= 1: 1 (1016.8/465.5)\n",
       "            NoOfContacts > 1: 0 (1126.2/514)\n",
       "\n",
       "-----  Trial 10:  -----\n",
       "\n",
       "Decision tree:\n",
       "\n",
       "dif <= 111: 0 (345.2/98.4)\n",
       "dif > 111:\n",
       ":...Job.student > 0: 1 (83/28.7)\n",
       "    Job.student <= 0:\n",
       "    :...DaysPassed <= 133: 1 (206.1/70.9)\n",
       "        DaysPassed > 133: 0 (2350.7/1114.7)\n",
       "\n",
       "-----  Trial 11:  -----\n",
       "\n",
       "Decision tree:\n",
       "\n",
       "dif <= 111: 0 (335.2/101.6)\n",
       "dif > 111:\n",
       ":...CarLoan = 1: 0 (329.8/147.1)\n",
       "    CarLoan = 0:\n",
       "    :...dif > 788: 1 (203.3/65.8)\n",
       "        dif <= 788:\n",
       "        :...Communication_.Missing <= 0: 1 (1876.5/882.2)\n",
       "            Communication_.Missing > 0: 0 (240.1/96.9)\n",
       "\n",
       "-----  Trial 12:  -----\n",
       "\n",
       "Decision tree:\n",
       "\n",
       "dif > 252: 1 (1677.7/774.2)\n",
       "dif <= 252:\n",
       ":...dif <= 60: 0 (66.8/7.5)\n",
       "    dif > 60:\n",
       "    :...NoOfContacts > 3: 0 (159.8/41.3)\n",
       "        NoOfContacts <= 3:\n",
       "        :...Education_.tertiary > 0:\n",
       "            :...endhour.10 > 0: 0 (42.2/13.5)\n",
       "            :   endhour.10 <= 0:\n",
       "            :   :...Marital.single <= 0: 1 (239.7/93.2)\n",
       "            :       Marital.single > 0: 0 (136.6/62.6)\n",
       "            Education_.tertiary <= 0:\n",
       "            :...endhour.14 > 0: 0 (54.7/8.3)\n",
       "                endhour.14 <= 0:\n",
       "                :...Communication_.Missing > 0: 0 (62.7/13.9)\n",
       "                    Communication_.Missing <= 0:\n",
       "                    :...Job.admin. <= 0: 0 (440.1/176)\n",
       "                        Job.admin. > 0: 1 (104.7/44.2)\n",
       "\n",
       "-----  Trial 13:  -----\n",
       "\n",
       "Decision tree:\n",
       "\n",
       "elderly = 1: 1 (102.9/41.1)\n",
       "elderly = 0:\n",
       ":...Outcome_.success > 0: 1 (201.9/84.3)\n",
       "    Outcome_.success <= 0:\n",
       "    :...dif <= 803: 0 (2449.7/1060.1)\n",
       "        dif > 803: 1 (230.4/88.7)\n",
       "\n",
       "-----  Trial 14:  -----\n",
       "\n",
       "Decision tree:\n",
       "\n",
       "dif <= 73: 0 (91.5/16.7)\n",
       "dif > 73:\n",
       ":...dif <= 494: 0 (2105.5/1003.3)\n",
       "    dif > 494: 1 (788/348.3)\n",
       "\n",
       "-----  Trial 15:  -----\n",
       "\n",
       "Decision tree:\n",
       "\n",
       "dif <= 73: 0 (88.9/17)\n",
       "dif > 73:\n",
       ":...Communication_.Missing <= 0: 1 (2521.1/1203.3)\n",
       "    Communication_.Missing > 0: 0 (374.9/159.5)\n",
       "\n",
       "-----  Trial 16:  -----\n",
       "\n",
       "Decision tree:\n",
       "\n",
       "dif <= 88: 0 (143.8/37.6)\n",
       "dif > 88:\n",
       ":...HHInsurance = 1:\n",
       "    :...Job.admin. <= 0: 0 (1076.5/473.7)\n",
       "    :   Job.admin. > 0: 1 (162.5/68.3)\n",
       "    HHInsurance = 0:\n",
       "    :...Default = 1: 0 (23.2/6)\n",
       "        Default = 0:\n",
       "        :...Job.self-employed <= 0: 1 (1522.5/700)\n",
       "            Job.self-employed > 0: 0 (56.4/20.1)\n",
       "\n",
       "-----  Trial 17:  -----\n",
       "\n",
       "Decision tree:\n",
       "\n",
       "dif <= 112: 0 (328.7/112.2)\n",
       "dif > 112:\n",
       ":...Job.student > 0: 1 (83.2/29.5)\n",
       "    Job.student <= 0:\n",
       "    :...DaysPassed <= 165: 1 (236.5/87.5)\n",
       "        DaysPassed > 165: 0 (2336.6/1124.1)\n",
       "\n",
       "-----  Trial 18:  -----\n",
       "\n",
       "Decision tree:\n",
       "\n",
       "dif <= 168:\n",
       ":...NoOfContacts > 3: 0 (90.8/14.5)\n",
       ":   NoOfContacts <= 3:\n",
       ":   :...elderly = 0: 0 (624.9/272.4)\n",
       ":       elderly = 1: 1 (22.5/5.3)\n",
       "dif > 168:\n",
       ":...Outcome_.success > 0: 1 (136.7/45.2)\n",
       "    Outcome_.success <= 0:\n",
       "    :...Marital.single > 0: 1 (692.5/304.1)\n",
       "        Marital.single <= 0:\n",
       "        :...starthour.16 <= 0: 0 (1242.8/604.3)\n",
       "            starthour.16 > 0: 1 (174.8/67.4)\n",
       "\n",
       "-----  Trial 19:  -----\n",
       "\n",
       "Decision tree:\n",
       "\n",
       "dif > 520: 1 (726.5/288.2)\n",
       "dif <= 520:\n",
       ":...NoOfContacts > 8: 0 (35.9/4.3)\n",
       "    NoOfContacts <= 8:\n",
       "    :...Communication_.Missing > 0: 0 (204.7/67.7)\n",
       "        Communication_.Missing <= 0:\n",
       "        :...dif <= 68: 0 (30.5)\n",
       "            dif > 68:\n",
       "            :...Job.blue-collar <= 0: 1 (1759.4/842.1)\n",
       "                Job.blue-collar > 0: 0 (228/95)\n",
       "\n",
       "-----  Trial 20:  -----\n",
       "\n",
       "Decision tree:\n",
       "\n",
       "Outcome_.success > 0: 1 (211.7/88.8)\n",
       "Outcome_.success <= 0:\n",
       ":...dif > 339: 1 (1239.6/568.6)\n",
       "    dif <= 339:\n",
       "    :...NoOfContacts > 3: 0 (199.9/54.9)\n",
       "        NoOfContacts <= 3:\n",
       "        :...endhour.14 > 0: 0 (140.7/44.3)\n",
       "            endhour.14 <= 0:\n",
       "            :...minusbalance = 1: 0 (148.9/50)\n",
       "                minusbalance = 0:\n",
       "                :...Education_.tertiary > 0: 1 (396.5/174.4)\n",
       "                    Education_.tertiary <= 0:\n",
       "                    :...Communication_.Missing > 0: 0 (63.2/15.1)\n",
       "                        Communication_.Missing <= 0:\n",
       "                        :...logBalance <= 3.162266: 0 (397.3/158.6)\n",
       "                            logBalance > 3.162266: 1 (187.3/74.5)\n",
       "\n",
       "-----  Trial 21:  -----\n",
       "\n",
       "Decision tree:\n",
       " 0 (2985/1393.1)\n",
       "\n",
       "*** boosting reduced to 21 trials since last classifier is very inaccurate\n",
       "\n",
       "\n",
       "Evaluation on training data (2985 cases):\n",
       "\n",
       "Trial\t    Decision Tree   \n",
       "-----\t  ----------------  \n",
       "\t  Size      Errors  \n",
       "\n",
       "   0\t    16  533(17.9%)\n",
       "   1\t     9  612(20.5%)\n",
       "   2\t    10  676(22.6%)\n",
       "   3\t    10  740(24.8%)\n",
       "   4\t     7  794(26.6%)\n",
       "   5\t    12  842(28.2%)\n",
       "   6\t     9  762(25.5%)\n",
       "   7\t    12  665(22.3%)\n",
       "   8\t     5  677(22.7%)\n",
       "   9\t     5 1032(34.6%)\n",
       "  10\t     4 1033(34.6%)\n",
       "  11\t     5  882(29.5%)\n",
       "  12\t    10  878(29.4%)\n",
       "  13\t     4  760(25.5%)\n",
       "  14\t     3  803(26.9%)\n",
       "  15\t     3 1164(39.0%)\n",
       "  16\t     6 1003(33.6%)\n",
       "  17\t     4 1025(34.3%)\n",
       "  18\t     7  914(30.6%)\n",
       "  19\t     6  955(32.0%)\n",
       "  20\t     9  787(26.4%)\n",
       "boost\t        473(15.8%)   <<\n",
       "\n",
       "\n",
       "\t   (a)   (b)    <-classified as\n",
       "\t  ----  ----\n",
       "\t  1538   251    (a): class 0\n",
       "\t   222   974    (b): class 1\n",
       "\n",
       "\n",
       "\tAttribute usage:\n",
       "\n",
       "\t100.00%\tNoOfContacts\n",
       "\t100.00%\tdif\n",
       "\t100.00%\telderly\n",
       "\t100.00%\tOutcome_.success\n",
       "\t100.00%\tCommunication_.Missing\n",
       "\t 90.08%\tendhour.14\n",
       "\t 88.07%\tHHInsurance\n",
       "\t 87.04%\tJob.student\n",
       "\t 86.37%\tCarLoan\n",
       "\t 84.05%\tDaysPassed\n",
       "\t 73.23%\tlogBalance\n",
       "\t 71.42%\tJob.blue-collar\n",
       "\t 70.08%\tminusbalance\n",
       "\t 66.03%\tJob.admin.\n",
       "\t 64.72%\tMarital.single\n",
       "\t 63.65%\tJob.self-employed\n",
       "\t 60.74%\tearly_working_age\n",
       "\t 55.31%\tPrevAttempts\n",
       "\t 49.15%\tprime_working_age\n",
       "\t 47.94%\tEducation_.tertiary\n",
       "\t 45.06%\tDefault\n",
       "\t 38.96%\tEducation_.primary\n",
       "\t 38.93%\tstarthour.16\n",
       "\t 35.38%\tEducation_.secondary\n",
       "\t 29.35%\tOutcome_.Missing\n",
       "\t 27.17%\tMarital.divorced\n",
       "\t 25.43%\tJob.unemployed\n",
       "\t 24.46%\tendhour.12\n",
       "\t 19.20%\tstarthour.9\n",
       "\t 14.57%\tJob.retired\n",
       "\t 11.69%\tendhour.10\n",
       "\n",
       "\n",
       "Time: 0.3 secs\n"
      ]
     },
     "metadata": {},
     "output_type": "display_data"
    }
   ],
   "source": [
    "cidata_C5.0B_fit <- C5.0(CarInsurance~., data=cidata_train, control = C5.0Control(minCases=10), trials=50)\n",
    "summary(cidata_C5.0B_fit)"
   ]
  },
  {
   "cell_type": "code",
   "execution_count": 97,
   "metadata": {},
   "outputs": [
    {
     "data": {
      "text/plain": [
       "      predict\n",
       "actual    0    1\n",
       "     0 1537  252\n",
       "     1  222  974"
      ]
     },
     "metadata": {},
     "output_type": "display_data"
    }
   ],
   "source": [
    "pred_cidata_C5.0B_tr<- predict(cidata_C5.0B_fit, newdata = cidata_train, type=\"class\")\n",
    "cidata_C5.0B_tr_CM <- table(actual = cidata_train$CarInsurance, predict=pred_cidata_C5.0B_tr)\n",
    "cidata_C5.0B_tr_CM"
   ]
  },
  {
   "cell_type": "code",
   "execution_count": 98,
   "metadata": {},
   "outputs": [
    {
     "data": {
      "text/html": [
       "0.841206030150754"
      ],
      "text/latex": [
       "0.841206030150754"
      ],
      "text/markdown": [
       "0.841206030150754"
      ],
      "text/plain": [
       "[1] 0.841206"
      ]
     },
     "metadata": {},
     "output_type": "display_data"
    }
   ],
   "source": [
    "C50B_tr_acc <- (cidata_C5.0B_tr_CM[1,1] + cidata_C5.0B_tr_CM[2,2])/length(cidata_train$CarInsurance)\n",
    "C50B_tr_acc\n",
    "# Train Accuracy: 84.1%"
   ]
  },
  {
   "cell_type": "code",
   "execution_count": 99,
   "metadata": {},
   "outputs": [
    {
     "data": {
      "text/plain": [
       "      predict\n",
       "actual   0   1\n",
       "     0 510  87\n",
       "     1  83 316"
      ]
     },
     "metadata": {},
     "output_type": "display_data"
    }
   ],
   "source": [
    "pred_cidata_C5.0B_te<- predict(cidata_C5.0B_fit, newdata = cidata_test, type=\"class\")\n",
    "cidata_C5.0B_te_CM <- table(actual = cidata_test$CarInsurance, predict=pred_cidata_C5.0B_te)\n",
    "cidata_C5.0B_te_CM"
   ]
  },
  {
   "cell_type": "code",
   "execution_count": 100,
   "metadata": {},
   "outputs": [
    {
     "data": {
      "text/html": [
       "0.829317269076305"
      ],
      "text/latex": [
       "0.829317269076305"
      ],
      "text/markdown": [
       "0.829317269076305"
      ],
      "text/plain": [
       "[1] 0.8293173"
      ]
     },
     "metadata": {},
     "output_type": "display_data"
    }
   ],
   "source": [
    "C50B_te_acc <-(cidata_C5.0B_te_CM[1,1] + cidata_C5.0B_te_CM[2,2])/length(cidata_test$CarInsurance)\n",
    "C50B_te_acc\n",
    "# Test Accuracy: 82.9%"
   ]
  },
  {
   "cell_type": "code",
   "execution_count": 101,
   "metadata": {},
   "outputs": [],
   "source": [
    "result_c50B <- as.data.frame(cbind(C50B_tr_acc, C50B_te_acc))\n",
    "colnames(result_c50B) <- c(\"tr_acc\", \"te_acc\")\n",
    "rownames(result_c50B) <- c(\"C5.0B\")"
   ]
  },
  {
   "cell_type": "markdown",
   "metadata": {},
   "source": [
    "#### 4.1.9 Random Forest"
   ]
  },
  {
   "cell_type": "code",
   "execution_count": 102,
   "metadata": {},
   "outputs": [
    {
     "data": {
      "text/html": [
       "<table>\n",
       "<thead><tr><th></th><th scope=col>mtry</th><th scope=col>ntree</th></tr></thead>\n",
       "<tbody>\n",
       "\t<tr><th scope=row>18</th><td>5  </td><td>100</td></tr>\n",
       "</tbody>\n",
       "</table>\n"
      ],
      "text/latex": [
       "\\begin{tabular}{r|ll}\n",
       "  & mtry & ntree\\\\\n",
       "\\hline\n",
       "\t18 & 5   & 100\\\\\n",
       "\\end{tabular}\n"
      ],
      "text/markdown": [
       "\n",
       "| <!--/--> | mtry | ntree | \n",
       "|---|\n",
       "| 18 | 5   | 100 | \n",
       "\n",
       "\n"
      ],
      "text/plain": [
       "   mtry ntree\n",
       "18 5    100  "
      ]
     },
     "metadata": {},
     "output_type": "display_data"
    }
   ],
   "source": [
    "set.seed(0105)\n",
    "tuning_rf <- tune.randomForest(x=cidata_train[,-7], y=cidata_train$CarInsurance, ntree=seq(50,150,by=10), mtry=3:5)\n",
    "tuning_rf$best.parameters"
   ]
  },
  {
   "cell_type": "code",
   "execution_count": 103,
   "metadata": {
    "scrolled": true
   },
   "outputs": [
    {
     "name": "stdout",
     "output_type": "stream",
     "text": [
      "ntree      OOB      1      2\n",
      "   30:  21.34% 16.88% 28.01%\n",
      "   60:  19.90% 15.54% 26.42%\n",
      "   90:  19.46% 15.99% 24.67%\n"
     ]
    },
    {
     "data": {
      "text/plain": [
       "\n",
       "Call:\n",
       " randomForest(x = cidata_train[, -7], y = cidata_train$CarInsurance,      ntree = tuning_rf$best.parameters[, 2], mtry = tuning_rf$best.parameters[,          1], nodesize = 10, importance = T, do.trace = 30, data = cidata_train) \n",
       "               Type of random forest: classification\n",
       "                     Number of trees: 100\n",
       "No. of variables tried at each split: 5\n",
       "\n",
       "        OOB estimate of  error rate: 19.23%\n",
       "Confusion matrix:\n",
       "     0   1 class.error\n",
       "0 1506 283   0.1581889\n",
       "1  291 905   0.2433110"
      ]
     },
     "metadata": {},
     "output_type": "display_data"
    }
   ],
   "source": [
    "set.seed(0105)\n",
    "cidata_rf_fit <- randomForest(x=cidata_train[,-7],\n",
    "                              y=cidata_train$CarInsurance,\n",
    "                              ntree=tuning_rf$best.parameters[,2],\n",
    "                              mtry=tuning_rf$best.parameters[,1],\n",
    "                              do.trace=30,\n",
    "                              nodesize=10,\n",
    "                              importance=T,\n",
    "                              data=cidata_train)\n",
    "cidata_rf_fit"
   ]
  },
  {
   "cell_type": "code",
   "execution_count": 104,
   "metadata": {},
   "outputs": [
    {
     "data": {
      "text/plain": [
       "      predict\n",
       "actual    0    1\n",
       "     0 1663  126\n",
       "     1  117 1079"
      ]
     },
     "metadata": {},
     "output_type": "display_data"
    }
   ],
   "source": [
    "pred_cidata_rf_tr_CM <- predict(cidata_rf_fit, newdata=cidata_train, type=\"class\")\n",
    "cidata_rf_tr_CM <- table(actual = cidata_train$CarInsurance, predict = pred_cidata_rf_tr_CM)\n",
    "cidata_rf_tr_CM"
   ]
  },
  {
   "cell_type": "code",
   "execution_count": 105,
   "metadata": {},
   "outputs": [
    {
     "data": {
      "text/html": [
       "0.918592964824121"
      ],
      "text/latex": [
       "0.918592964824121"
      ],
      "text/markdown": [
       "0.918592964824121"
      ],
      "text/plain": [
       "[1] 0.918593"
      ]
     },
     "metadata": {},
     "output_type": "display_data"
    }
   ],
   "source": [
    "RF_tr_acc <- (cidata_rf_tr_CM[1,1] + cidata_rf_tr_CM[2,2])/length(cidata_train$CarInsurance)\n",
    "RF_tr_acc\n",
    "# Train Accuracy: 91.8%"
   ]
  },
  {
   "cell_type": "code",
   "execution_count": 106,
   "metadata": {},
   "outputs": [
    {
     "data": {
      "text/plain": [
       "      predict\n",
       "actual   0   1\n",
       "     0 514  83\n",
       "     1  89 310"
      ]
     },
     "metadata": {},
     "output_type": "display_data"
    }
   ],
   "source": [
    "pred_cidata_rf_te_CM <- predict(cidata_rf_fit, newdata=cidata_test, type=\"class\")\n",
    "cidata_rf_te_CM <- table(actual = cidata_test$CarInsurance, predict = pred_cidata_rf_te_CM)\n",
    "cidata_rf_te_CM"
   ]
  },
  {
   "cell_type": "code",
   "execution_count": 107,
   "metadata": {},
   "outputs": [
    {
     "data": {
      "text/html": [
       "0.827309236947791"
      ],
      "text/latex": [
       "0.827309236947791"
      ],
      "text/markdown": [
       "0.827309236947791"
      ],
      "text/plain": [
       "[1] 0.8273092"
      ]
     },
     "metadata": {},
     "output_type": "display_data"
    }
   ],
   "source": [
    "RF_te_acc <- (cidata_rf_te_CM[1,1] + cidata_rf_te_CM[2,2])/length(cidata_test$CarInsurance)\n",
    "RF_te_acc\n",
    "# Test Accuracy: 82.7%"
   ]
  },
  {
   "cell_type": "code",
   "execution_count": 108,
   "metadata": {},
   "outputs": [],
   "source": [
    "result_RF <- as.data.frame(cbind(RF_tr_acc, RF_te_acc))\n",
    "colnames(result_RF) <- c(\"tr_acc\", \"te_acc\")\n",
    "rownames(result_RF) <- c(\"RandomForest\")"
   ]
  },
  {
   "cell_type": "markdown",
   "metadata": {},
   "source": [
    "#### 4.1.10 Linear SVM"
   ]
  },
  {
   "cell_type": "code",
   "execution_count": 109,
   "metadata": {},
   "outputs": [
    {
     "data": {
      "text/plain": [
       "\n",
       "Call:\n",
       "svm(formula = CarInsurance ~ ., data = cidata_train, cost = tuning_linearSVM$best.parameters[, \n",
       "    1], kernel = \"linear\")\n",
       "\n",
       "\n",
       "Parameters:\n",
       "   SVM-Type:  C-classification \n",
       " SVM-Kernel:  linear \n",
       "       cost:  0.2 \n",
       "      gamma:  0.01724138 \n",
       "\n",
       "Number of Support Vectors:  1337\n",
       "\n",
       " ( 660 677 )\n",
       "\n",
       "\n",
       "Number of Classes:  2 \n",
       "\n",
       "Levels: \n",
       " 0 1\n",
       "\n",
       "\n"
      ]
     },
     "metadata": {},
     "output_type": "display_data"
    }
   ],
   "source": [
    "set.seed(0105)\n",
    "tuning_linearSVM <- tune.svm(CarInsurance~., cost=c(seq(0.1,1,by=0.1),2:5),\n",
    "                             kernel=\"linear\", data=cidata_train)\n",
    "\n",
    "set.seed(0105)\n",
    "cidata_SVM_fit <- svm(CarInsurance~., cost=tuning_linearSVM$best.parameters[,1],\n",
    "                      kernel=\"linear\", data=cidata_train)\n",
    "summary(cidata_SVM_fit)"
   ]
  },
  {
   "cell_type": "code",
   "execution_count": 110,
   "metadata": {},
   "outputs": [
    {
     "data": {
      "text/plain": [
       "      predicted\n",
       "actual    0    1\n",
       "     0 1573  216\n",
       "     1  313  883"
      ]
     },
     "metadata": {},
     "output_type": "display_data"
    }
   ],
   "source": [
    "pred_cidata_linearSVM_tr <- predict(cidata_SVM_fit, newdata=cidata_train)\n",
    "cidata_SVM_tr_CM <- table(actual = cidata_train$CarInsurance, predicted = pred_cidata_linearSVM_tr)\n",
    "cidata_SVM_tr_CM"
   ]
  },
  {
   "cell_type": "code",
   "execution_count": 111,
   "metadata": {},
   "outputs": [
    {
     "data": {
      "text/html": [
       "0.822780569514238"
      ],
      "text/latex": [
       "0.822780569514238"
      ],
      "text/markdown": [
       "0.822780569514238"
      ],
      "text/plain": [
       "[1] 0.8227806"
      ]
     },
     "metadata": {},
     "output_type": "display_data"
    }
   ],
   "source": [
    "Linear_SVM_tr_acc <- (cidata_SVM_tr_CM[1,1] + cidata_SVM_tr_CM[2,2])/length(cidata_train$CarInsurance)\n",
    "Linear_SVM_tr_acc\n",
    "# Train Accuracy: 82.3%"
   ]
  },
  {
   "cell_type": "code",
   "execution_count": 112,
   "metadata": {},
   "outputs": [
    {
     "data": {
      "text/plain": [
       "      predicted\n",
       "actual   0   1\n",
       "     0 523  74\n",
       "     1 100 299"
      ]
     },
     "metadata": {},
     "output_type": "display_data"
    }
   ],
   "source": [
    "pred_cidata_linearSVM_te <- predict(cidata_SVM_fit, newdata=cidata_test)\n",
    "cidata_SVM_te_CM <- table(actual = cidata_test$CarInsurance, predicted = pred_cidata_linearSVM_te)\n",
    "cidata_SVM_te_CM"
   ]
  },
  {
   "cell_type": "code",
   "execution_count": 113,
   "metadata": {},
   "outputs": [
    {
     "data": {
      "text/html": [
       "0.825301204819277"
      ],
      "text/latex": [
       "0.825301204819277"
      ],
      "text/markdown": [
       "0.825301204819277"
      ],
      "text/plain": [
       "[1] 0.8253012"
      ]
     },
     "metadata": {},
     "output_type": "display_data"
    }
   ],
   "source": [
    "Linear_SVM_te_acc <- (cidata_SVM_te_CM[1,1] + cidata_SVM_te_CM[2,2])/length(cidata_test$CarInsurance)\n",
    "Linear_SVM_te_acc\n",
    "# Test Accuracy: 82.5%"
   ]
  },
  {
   "cell_type": "code",
   "execution_count": 114,
   "metadata": {},
   "outputs": [],
   "source": [
    "result_Linear_SVM <- as.data.frame(cbind(Linear_SVM_tr_acc, Linear_SVM_te_acc))\n",
    "colnames(result_Linear_SVM) <- c(\"tr_acc\", \"te_acc\")\n",
    "rownames(result_Linear_SVM) <- c(\"Linear_SVM\")"
   ]
  },
  {
   "cell_type": "markdown",
   "metadata": {},
   "source": [
    "#### 4.1.11 RBF SVM"
   ]
  },
  {
   "cell_type": "code",
   "execution_count": 115,
   "metadata": {},
   "outputs": [
    {
     "data": {
      "text/plain": [
       "\n",
       "Call:\n",
       "svm(formula = CarInsurance ~ ., data = cidata_train, cost = tuning_RBFSVM$best.parameters[, \n",
       "    2], degree = tuning_RBFSVM$best.parameters[, 1], kernel = \"radial\")\n",
       "\n",
       "\n",
       "Parameters:\n",
       "   SVM-Type:  C-classification \n",
       " SVM-Kernel:  radial \n",
       "       cost:  5 \n",
       "      gamma:  0.01724138 \n",
       "\n",
       "Number of Support Vectors:  1542\n",
       "\n",
       " ( 748 794 )\n",
       "\n",
       "\n",
       "Number of Classes:  2 \n",
       "\n",
       "Levels: \n",
       " 0 1\n",
       "\n",
       "\n"
      ]
     },
     "metadata": {},
     "output_type": "display_data"
    }
   ],
   "source": [
    "set.seed(0105)\n",
    "tuning_RBFSVM <- tune.svm(CarInsurance~., cost=c(seq(0.1,1,by=0.1),2:5),\n",
    "                          kernel=\"radial\", gamma=10^(-4:2), data=cidata_train)\n",
    "\n",
    "set.seed(0105)\n",
    "cidata_RBFSVM_fit <- svm(CarInsurance~., cost=tuning_RBFSVM$best.parameters[,2],\n",
    "                         degree=tuning_RBFSVM$best.parameters[,1], kernel=\"radial\",\n",
    "                        data=cidata_train)\n",
    "\n",
    "summary(cidata_RBFSVM_fit)"
   ]
  },
  {
   "cell_type": "code",
   "execution_count": 116,
   "metadata": {},
   "outputs": [
    {
     "data": {
      "text/plain": [
       "      predicted\n",
       "actual    0    1\n",
       "     0 1679  110\n",
       "     1  156 1040"
      ]
     },
     "metadata": {},
     "output_type": "display_data"
    }
   ],
   "source": [
    "pred_cidata_RBFSVM_tr <- predict(cidata_RBFSVM_fit, newdata=cidata_train)\n",
    "cidata_RBFSVM_tr_CM <- table(actual = cidata_train$CarInsurance, predicted = pred_cidata_RBFSVM_tr)\n",
    "cidata_RBFSVM_tr_CM"
   ]
  },
  {
   "cell_type": "code",
   "execution_count": 117,
   "metadata": {},
   "outputs": [
    {
     "data": {
      "text/html": [
       "0.910887772194305"
      ],
      "text/latex": [
       "0.910887772194305"
      ],
      "text/markdown": [
       "0.910887772194305"
      ],
      "text/plain": [
       "[1] 0.9108878"
      ]
     },
     "metadata": {},
     "output_type": "display_data"
    }
   ],
   "source": [
    "RBF_SVM_tr_acc <- (cidata_RBFSVM_tr_CM[1,1] + cidata_RBFSVM_tr_CM[2,2])/length(cidata_train$CarInsurance)\n",
    "RBF_SVM_tr_acc\n",
    "# Train Accuracy: 88.2%"
   ]
  },
  {
   "cell_type": "code",
   "execution_count": 118,
   "metadata": {},
   "outputs": [
    {
     "data": {
      "text/plain": [
       "      predicted\n",
       "actual   0   1\n",
       "     0 523  74\n",
       "     1 100 299"
      ]
     },
     "metadata": {},
     "output_type": "display_data"
    }
   ],
   "source": [
    "pred_cidata_RBFSVM_te <- predict(cidata_SVM_fit, newdata=cidata_test)\n",
    "cidata_RBFSVM_te_CM <- table(actual = cidata_test$CarInsurance, predicted = pred_cidata_RBFSVM_te)\n",
    "cidata_RBFSVM_te_CM"
   ]
  },
  {
   "cell_type": "code",
   "execution_count": 119,
   "metadata": {},
   "outputs": [
    {
     "data": {
      "text/html": [
       "0.825301204819277"
      ],
      "text/latex": [
       "0.825301204819277"
      ],
      "text/markdown": [
       "0.825301204819277"
      ],
      "text/plain": [
       "[1] 0.8253012"
      ]
     },
     "metadata": {},
     "output_type": "display_data"
    }
   ],
   "source": [
    "RBF_SVM_te_acc <- (cidata_RBFSVM_te_CM[1,1] + cidata_RBFSVM_te_CM[2,2])/length(cidata_test$CarInsurance)\n",
    "RBF_SVM_te_acc\n",
    "# Test Accuracy: 82.5%"
   ]
  },
  {
   "cell_type": "code",
   "execution_count": 120,
   "metadata": {},
   "outputs": [],
   "source": [
    "result_RBF_SVM <- as.data.frame(cbind(RBF_SVM_tr_acc, RBF_SVM_te_acc))\n",
    "colnames(result_RBF_SVM) <- c(\"tr_acc\", \"te_acc\")\n",
    "rownames(result_RBF_SVM) <- c(\"RBF_SVM\")"
   ]
  },
  {
   "cell_type": "markdown",
   "metadata": {},
   "source": [
    "## 5. Evaluation"
   ]
  },
  {
   "cell_type": "markdown",
   "metadata": {},
   "source": [
    "Now we are going to evaluate model performance and the feature importance."
   ]
  },
  {
   "cell_type": "markdown",
   "metadata": {},
   "source": [
    "### 5.1 Model Performance"
   ]
  },
  {
   "cell_type": "code",
   "execution_count": 121,
   "metadata": {},
   "outputs": [
    {
     "data": {
      "text/html": [
       "<table>\n",
       "<thead><tr><th></th><th scope=col>tr_acc</th><th scope=col>te_acc</th></tr></thead>\n",
       "<tbody>\n",
       "\t<tr><th scope=row>Naive Bayes</th><td>0.7256281</td><td>0.7610442</td></tr>\n",
       "\t<tr><th scope=row>K(11)-NN</th><td>0.7041754</td><td>0.7610442</td></tr>\n",
       "\t<tr><th scope=row>Logistic</th><td>0.8201005</td><td>0.8212851</td></tr>\n",
       "\t<tr><th scope=row>LDA</th><td>0.8060302</td><td>0.8172691</td></tr>\n",
       "\t<tr><th scope=row>rpart</th><td>0.7926298</td><td>0.8062249</td></tr>\n",
       "\t<tr><th scope=row>C5.0</th><td>0.8214405</td><td>0.8142570</td></tr>\n",
       "\t<tr><th scope=row>C5.0B</th><td>0.8412060</td><td>0.8293173</td></tr>\n",
       "\t<tr><th scope=row>RandomForest</th><td>0.9185930</td><td>0.8273092</td></tr>\n",
       "\t<tr><th scope=row>Linear_SVM</th><td>0.8227806</td><td>0.8253012</td></tr>\n",
       "\t<tr><th scope=row>RBF_SVM</th><td>0.9108878</td><td>0.8253012</td></tr>\n",
       "</tbody>\n",
       "</table>\n"
      ],
      "text/latex": [
       "\\begin{tabular}{r|ll}\n",
       "  & tr\\_acc & te\\_acc\\\\\n",
       "\\hline\n",
       "\tNaive Bayes & 0.7256281 & 0.7610442\\\\\n",
       "\tK(11)-NN & 0.7041754 & 0.7610442\\\\\n",
       "\tLogistic & 0.8201005 & 0.8212851\\\\\n",
       "\tLDA & 0.8060302 & 0.8172691\\\\\n",
       "\trpart & 0.7926298 & 0.8062249\\\\\n",
       "\tC5.0 & 0.8214405 & 0.8142570\\\\\n",
       "\tC5.0B & 0.8412060 & 0.8293173\\\\\n",
       "\tRandomForest & 0.9185930 & 0.8273092\\\\\n",
       "\tLinear\\_SVM & 0.8227806 & 0.8253012\\\\\n",
       "\tRBF\\_SVM & 0.9108878 & 0.8253012\\\\\n",
       "\\end{tabular}\n"
      ],
      "text/markdown": [
       "\n",
       "| <!--/--> | tr_acc | te_acc | \n",
       "|---|---|---|---|---|---|---|---|---|---|\n",
       "| Naive Bayes | 0.7256281 | 0.7610442 | \n",
       "| K(11)-NN | 0.7041754 | 0.7610442 | \n",
       "| Logistic | 0.8201005 | 0.8212851 | \n",
       "| LDA | 0.8060302 | 0.8172691 | \n",
       "| rpart | 0.7926298 | 0.8062249 | \n",
       "| C5.0 | 0.8214405 | 0.8142570 | \n",
       "| C5.0B | 0.8412060 | 0.8293173 | \n",
       "| RandomForest | 0.9185930 | 0.8273092 | \n",
       "| Linear_SVM | 0.8227806 | 0.8253012 | \n",
       "| RBF_SVM | 0.9108878 | 0.8253012 | \n",
       "\n",
       "\n"
      ],
      "text/plain": [
       "             tr_acc    te_acc   \n",
       "Naive Bayes  0.7256281 0.7610442\n",
       "K(11)-NN     0.7041754 0.7610442\n",
       "Logistic     0.8201005 0.8212851\n",
       "LDA          0.8060302 0.8172691\n",
       "rpart        0.7926298 0.8062249\n",
       "C5.0         0.8214405 0.8142570\n",
       "C5.0B        0.8412060 0.8293173\n",
       "RandomForest 0.9185930 0.8273092\n",
       "Linear_SVM   0.8227806 0.8253012\n",
       "RBF_SVM      0.9108878 0.8253012"
      ]
     },
     "metadata": {},
     "output_type": "display_data"
    }
   ],
   "source": [
    "result_table <- rbind(result_naive,\n",
    "                      result_KNN,\n",
    "                      result_Logit,\n",
    "                      result_LDA,\n",
    "                      result_rpart,\n",
    "                      result_c50,\n",
    "                      result_c50B,\n",
    "                      result_RF,\n",
    "                      result_Linear_SVM,\n",
    "                      result_RBF_SVM)\n",
    "result_table"
   ]
  },
  {
   "cell_type": "markdown",
   "metadata": {},
   "source": [
    "Of course, we like a model with 100% accuracy. However, it is not likely to happen in the real world, so sometimes we have to compromise with other factors. In this case, precision will help, since the overall accuracy of both models are too close to choose the better one. For example, generally, a company only invests money on customers they think who will buy their product. Therefore, by precision, we could derive the accuracy only on the invested customers. In result, the RF model and RBF_SVM model show the highest accucy among the models. This means these models could make more revenue than the others do. However,it might be overfitted, since the differences between the trainset accuracy and the testset accuracy are pretty huge."
   ]
  },
  {
   "cell_type": "markdown",
   "metadata": {},
   "source": [
    "### 5.2 Feature Importance"
   ]
  },
  {
   "cell_type": "markdown",
   "metadata": {},
   "source": [
    "Knowing which feature has a major part in determining the output can be very useful and help in working on them to increase the output of the solution. Finding the important features can be very handy when making important decisions and conclusions. The Important feature identification is done by using models such as RandomForest. This provides good clarity in identifying the features. The results below show the most important features determined by the randomforest."
   ]
  },
  {
   "cell_type": "code",
   "execution_count": 122,
   "metadata": {
    "scrolled": true
   },
   "outputs": [
    {
     "data": {
      "text/html": [
       "<table>\n",
       "<thead><tr><th></th><th scope=col>0</th><th scope=col>1</th><th scope=col>MeanDecreaseAccuracy</th><th scope=col>MeanDecreaseGini</th></tr></thead>\n",
       "<tbody>\n",
       "\t<tr><th scope=row>Default</th><td> 0.13324211</td><td> 0.11276033</td><td> 0.1592468 </td><td>  1.864448 </td></tr>\n",
       "\t<tr><th scope=row>HHInsurance</th><td> 5.36478420</td><td>11.66081308</td><td>11.3542027 </td><td> 37.344996 </td></tr>\n",
       "\t<tr><th scope=row>CarLoan</th><td>-0.91534431</td><td> 6.64183503</td><td> 4.9913597 </td><td> 10.402856 </td></tr>\n",
       "\t<tr><th scope=row>NoOfContacts</th><td> 2.95694055</td><td> 3.83456207</td><td> 4.3577441 </td><td> 31.286906 </td></tr>\n",
       "\t<tr><th scope=row>DaysPassed</th><td> 8.16630770</td><td> 4.08740325</td><td> 9.0236677 </td><td> 34.816533 </td></tr>\n",
       "\t<tr><th scope=row>PrevAttempts</th><td> 4.54558572</td><td> 4.83610854</td><td> 6.1647136 </td><td> 22.296994 </td></tr>\n",
       "\t<tr><th scope=row>dif</th><td>34.05603341</td><td>35.12556426</td><td>37.9984404 </td><td>314.855550 </td></tr>\n",
       "\t<tr><th scope=row>early_working_age</th><td> 2.75999735</td><td> 1.39038552</td><td> 3.6404308 </td><td>  3.868218 </td></tr>\n",
       "\t<tr><th scope=row>prime_working_age</th><td> 4.01076102</td><td> 3.02204975</td><td> 5.3645690 </td><td>  9.464621 </td></tr>\n",
       "\t<tr><th scope=row>mature_working_age</th><td> 5.19030051</td><td>-2.43901664</td><td> 3.5903283 </td><td>  5.887972 </td></tr>\n",
       "\t<tr><th scope=row>elderly</th><td> 3.74712877</td><td> 5.65250623</td><td> 6.3734552 </td><td>  7.514444 </td></tr>\n",
       "\t<tr><th scope=row>minusbalance</th><td> 0.79432685</td><td> 1.90705299</td><td> 2.0905360 </td><td>  6.842813 </td></tr>\n",
       "\t<tr><th scope=row>logBalance</th><td> 2.21463960</td><td> 1.63184203</td><td> 2.8542888 </td><td> 53.875422 </td></tr>\n",
       "\t<tr><th scope=row>starthour.9</th><td> 2.03529370</td><td> 0.82268381</td><td> 2.0930324 </td><td>  6.012410 </td></tr>\n",
       "\t<tr><th scope=row>starthour.10</th><td> 2.48737699</td><td>-0.57200098</td><td> 2.5422562 </td><td>  4.994819 </td></tr>\n",
       "\t<tr><th scope=row>starthour.11</th><td> 2.58115846</td><td>-1.74573135</td><td> 1.3340188 </td><td>  4.577879 </td></tr>\n",
       "\t<tr><th scope=row>starthour.12</th><td> 1.63733310</td><td>-2.66408176</td><td>-0.3365522 </td><td>  5.930152 </td></tr>\n",
       "\t<tr><th scope=row>starthour.13</th><td> 3.30199699</td><td>-2.24712572</td><td> 2.5093050 </td><td>  6.150990 </td></tr>\n",
       "\t<tr><th scope=row>starthour.14</th><td> 2.83059736</td><td>-0.81527490</td><td> 2.5371611 </td><td>  5.398569 </td></tr>\n",
       "\t<tr><th scope=row>starthour.15</th><td> 2.10548260</td><td>-1.79694424</td><td> 1.6099342 </td><td>  5.759324 </td></tr>\n",
       "\t<tr><th scope=row>starthour.16</th><td> 2.77590790</td><td>-0.64908538</td><td> 1.7357622 </td><td>  6.267497 </td></tr>\n",
       "\t<tr><th scope=row>starthour.17</th><td> 2.88733569</td><td> 0.03104819</td><td> 2.6643781 </td><td>  4.866266 </td></tr>\n",
       "\t<tr><th scope=row>endhour.9</th><td> 2.45560257</td><td>-0.85476942</td><td> 1.4973199 </td><td>  4.993830 </td></tr>\n",
       "\t<tr><th scope=row>endhour.10</th><td> 2.86701251</td><td>-0.39934716</td><td> 2.6747242 </td><td>  5.173129 </td></tr>\n",
       "\t<tr><th scope=row>endhour.11</th><td> 3.18800616</td><td> 0.23008405</td><td> 3.6379007 </td><td>  5.183314 </td></tr>\n",
       "\t<tr><th scope=row>endhour.12</th><td> 1.81541125</td><td>-2.41952413</td><td> 0.6553924 </td><td>  4.746968 </td></tr>\n",
       "\t<tr><th scope=row>endhour.13</th><td> 3.55549981</td><td>-2.26947346</td><td> 2.7126133 </td><td>  5.358299 </td></tr>\n",
       "\t<tr><th scope=row>endhour.14</th><td> 2.64421622</td><td>-3.24417309</td><td> 1.0805351 </td><td>  5.725082 </td></tr>\n",
       "\t<tr><th scope=row>endhour.15</th><td> 2.13399482</td><td>-1.65136235</td><td> 1.7499574 </td><td>  5.766681 </td></tr>\n",
       "\t<tr><th scope=row>endhour.16</th><td> 1.98148760</td><td>-1.57319936</td><td> 0.8678618 </td><td>  5.413006 </td></tr>\n",
       "\t<tr><th scope=row>endhour.17</th><td> 1.88294596</td><td>-1.93512120</td><td> 0.2091782 </td><td>  5.526534 </td></tr>\n",
       "\t<tr><th scope=row>endhour.18</th><td> 1.27947634</td><td> 2.36773332</td><td> 3.0514605 </td><td>  3.660544 </td></tr>\n",
       "\t<tr><th scope=row>Job.admin.</th><td>-4.59084129</td><td> 1.47005241</td><td>-2.8733693 </td><td>  6.756867 </td></tr>\n",
       "\t<tr><th scope=row>Job.blue-collar</th><td>-0.11380051</td><td> 2.02878868</td><td> 1.3227668 </td><td>  9.296182 </td></tr>\n",
       "\t<tr><th scope=row>Job.entrepreneur</th><td>-1.20408760</td><td> 1.49196582</td><td> 0.2076017 </td><td>  3.759050 </td></tr>\n",
       "\t<tr><th scope=row>Job.housemaid</th><td>-0.28541051</td><td> 1.19960608</td><td> 0.8161906 </td><td>  3.157173 </td></tr>\n",
       "\t<tr><th scope=row>Job.management</th><td> 1.54188275</td><td> 0.17777059</td><td> 1.6903248 </td><td>  6.903535 </td></tr>\n",
       "\t<tr><th scope=row>Job.retired</th><td> 1.71905913</td><td> 1.79846010</td><td> 2.8372569 </td><td>  4.853296 </td></tr>\n",
       "\t<tr><th scope=row>Job.self-employed</th><td>-0.30599539</td><td>-0.45070678</td><td>-0.4808921 </td><td>  4.748981 </td></tr>\n",
       "\t<tr><th scope=row>Job.services</th><td>-3.87733939</td><td> 0.01225656</td><td>-2.7414311 </td><td>  4.918414 </td></tr>\n",
       "\t<tr><th scope=row>Job.student</th><td> 3.05089818</td><td> 3.45705345</td><td> 4.0400750 </td><td>  6.409230 </td></tr>\n",
       "\t<tr><th scope=row>Job.technician</th><td> 0.41467152</td><td> 1.03732168</td><td> 1.1213300 </td><td>  5.526695 </td></tr>\n",
       "\t<tr><th scope=row>Job.unemployed</th><td>-0.61345732</td><td>-0.82328536</td><td>-1.0779074 </td><td>  3.758698 </td></tr>\n",
       "\t<tr><th scope=row>Marital.divorced</th><td>-2.18152968</td><td> 1.81720657</td><td>-0.5434030 </td><td>  5.640731 </td></tr>\n",
       "\t<tr><th scope=row>Marital.married</th><td> 2.14973667</td><td> 1.38495259</td><td> 2.6083406 </td><td>  9.084063 </td></tr>\n",
       "\t<tr><th scope=row>Marital.single</th><td>-0.02156483</td><td> 1.65833098</td><td> 1.1098054 </td><td>  7.206258 </td></tr>\n",
       "\t<tr><th scope=row>Education_.primary</th><td>-0.86235061</td><td> 1.83487068</td><td> 0.5247804 </td><td>  4.652351 </td></tr>\n",
       "\t<tr><th scope=row>Education_.secondary</th><td> 0.94129440</td><td> 2.78766187</td><td> 2.4088882 </td><td>  7.590944 </td></tr>\n",
       "\t<tr><th scope=row>Education_.tertiary</th><td> 2.98994306</td><td> 1.84723879</td><td> 3.7940505 </td><td>  9.438776 </td></tr>\n",
       "\t<tr><th scope=row>Education_.idk</th><td> 2.07472981</td><td> 1.38771510</td><td> 2.4864752 </td><td>  3.835169 </td></tr>\n",
       "\t<tr><th scope=row>Outcome_.failure</th><td> 5.67108529</td><td>-2.12865793</td><td> 4.7539084 </td><td>  7.789736 </td></tr>\n",
       "\t<tr><th scope=row>Outcome_.other</th><td> 2.51153159</td><td>-1.37269984</td><td> 1.2128660 </td><td>  3.890007 </td></tr>\n",
       "\t<tr><th scope=row>Outcome_.success</th><td> 8.28374325</td><td>12.38110973</td><td>12.5645846 </td><td> 46.194862 </td></tr>\n",
       "\t<tr><th scope=row>Outcome_.Missing</th><td> 5.96040794</td><td> 3.71833897</td><td> 7.1262012 </td><td> 16.379793 </td></tr>\n",
       "\t<tr><th scope=row>Communication_.cellular</th><td> 4.79873305</td><td> 3.56882907</td><td> 5.8196717 </td><td> 18.060647 </td></tr>\n",
       "\t<tr><th scope=row>Communication_.telephone</th><td>-0.49071485</td><td> 1.52321905</td><td> 0.7242200 </td><td>  4.141091 </td></tr>\n",
       "\t<tr><th scope=row>Communication_.Missing</th><td> 6.58561058</td><td> 8.60462880</td><td>10.7187310 </td><td> 29.390432 </td></tr>\n",
       "</tbody>\n",
       "</table>\n"
      ],
      "text/latex": [
       "\\begin{tabular}{r|llll}\n",
       "  & 0 & 1 & MeanDecreaseAccuracy & MeanDecreaseGini\\\\\n",
       "\\hline\n",
       "\tDefault &  0.13324211 &  0.11276033 &  0.1592468  &   1.864448 \\\\\n",
       "\tHHInsurance &  5.36478420 & 11.66081308 & 11.3542027  &  37.344996 \\\\\n",
       "\tCarLoan & -0.91534431 &  6.64183503 &  4.9913597  &  10.402856 \\\\\n",
       "\tNoOfContacts &  2.95694055 &  3.83456207 &  4.3577441  &  31.286906 \\\\\n",
       "\tDaysPassed &  8.16630770 &  4.08740325 &  9.0236677  &  34.816533 \\\\\n",
       "\tPrevAttempts &  4.54558572 &  4.83610854 &  6.1647136  &  22.296994 \\\\\n",
       "\tdif & 34.05603341 & 35.12556426 & 37.9984404  & 314.855550 \\\\\n",
       "\tearly\\_working\\_age &  2.75999735 &  1.39038552 &  3.6404308  &   3.868218 \\\\\n",
       "\tprime\\_working\\_age &  4.01076102 &  3.02204975 &  5.3645690  &   9.464621 \\\\\n",
       "\tmature\\_working\\_age &  5.19030051 & -2.43901664 &  3.5903283  &   5.887972 \\\\\n",
       "\telderly &  3.74712877 &  5.65250623 &  6.3734552  &   7.514444 \\\\\n",
       "\tminusbalance &  0.79432685 &  1.90705299 &  2.0905360  &   6.842813 \\\\\n",
       "\tlogBalance &  2.21463960 &  1.63184203 &  2.8542888  &  53.875422 \\\\\n",
       "\tstarthour.9 &  2.03529370 &  0.82268381 &  2.0930324  &   6.012410 \\\\\n",
       "\tstarthour.10 &  2.48737699 & -0.57200098 &  2.5422562  &   4.994819 \\\\\n",
       "\tstarthour.11 &  2.58115846 & -1.74573135 &  1.3340188  &   4.577879 \\\\\n",
       "\tstarthour.12 &  1.63733310 & -2.66408176 & -0.3365522  &   5.930152 \\\\\n",
       "\tstarthour.13 &  3.30199699 & -2.24712572 &  2.5093050  &   6.150990 \\\\\n",
       "\tstarthour.14 &  2.83059736 & -0.81527490 &  2.5371611  &   5.398569 \\\\\n",
       "\tstarthour.15 &  2.10548260 & -1.79694424 &  1.6099342  &   5.759324 \\\\\n",
       "\tstarthour.16 &  2.77590790 & -0.64908538 &  1.7357622  &   6.267497 \\\\\n",
       "\tstarthour.17 &  2.88733569 &  0.03104819 &  2.6643781  &   4.866266 \\\\\n",
       "\tendhour.9 &  2.45560257 & -0.85476942 &  1.4973199  &   4.993830 \\\\\n",
       "\tendhour.10 &  2.86701251 & -0.39934716 &  2.6747242  &   5.173129 \\\\\n",
       "\tendhour.11 &  3.18800616 &  0.23008405 &  3.6379007  &   5.183314 \\\\\n",
       "\tendhour.12 &  1.81541125 & -2.41952413 &  0.6553924  &   4.746968 \\\\\n",
       "\tendhour.13 &  3.55549981 & -2.26947346 &  2.7126133  &   5.358299 \\\\\n",
       "\tendhour.14 &  2.64421622 & -3.24417309 &  1.0805351  &   5.725082 \\\\\n",
       "\tendhour.15 &  2.13399482 & -1.65136235 &  1.7499574  &   5.766681 \\\\\n",
       "\tendhour.16 &  1.98148760 & -1.57319936 &  0.8678618  &   5.413006 \\\\\n",
       "\tendhour.17 &  1.88294596 & -1.93512120 &  0.2091782  &   5.526534 \\\\\n",
       "\tendhour.18 &  1.27947634 &  2.36773332 &  3.0514605  &   3.660544 \\\\\n",
       "\tJob.admin. & -4.59084129 &  1.47005241 & -2.8733693  &   6.756867 \\\\\n",
       "\tJob.blue-collar & -0.11380051 &  2.02878868 &  1.3227668  &   9.296182 \\\\\n",
       "\tJob.entrepreneur & -1.20408760 &  1.49196582 &  0.2076017  &   3.759050 \\\\\n",
       "\tJob.housemaid & -0.28541051 &  1.19960608 &  0.8161906  &   3.157173 \\\\\n",
       "\tJob.management &  1.54188275 &  0.17777059 &  1.6903248  &   6.903535 \\\\\n",
       "\tJob.retired &  1.71905913 &  1.79846010 &  2.8372569  &   4.853296 \\\\\n",
       "\tJob.self-employed & -0.30599539 & -0.45070678 & -0.4808921  &   4.748981 \\\\\n",
       "\tJob.services & -3.87733939 &  0.01225656 & -2.7414311  &   4.918414 \\\\\n",
       "\tJob.student &  3.05089818 &  3.45705345 &  4.0400750  &   6.409230 \\\\\n",
       "\tJob.technician &  0.41467152 &  1.03732168 &  1.1213300  &   5.526695 \\\\\n",
       "\tJob.unemployed & -0.61345732 & -0.82328536 & -1.0779074  &   3.758698 \\\\\n",
       "\tMarital.divorced & -2.18152968 &  1.81720657 & -0.5434030  &   5.640731 \\\\\n",
       "\tMarital.married &  2.14973667 &  1.38495259 &  2.6083406  &   9.084063 \\\\\n",
       "\tMarital.single & -0.02156483 &  1.65833098 &  1.1098054  &   7.206258 \\\\\n",
       "\tEducation\\_.primary & -0.86235061 &  1.83487068 &  0.5247804  &   4.652351 \\\\\n",
       "\tEducation\\_.secondary &  0.94129440 &  2.78766187 &  2.4088882  &   7.590944 \\\\\n",
       "\tEducation\\_.tertiary &  2.98994306 &  1.84723879 &  3.7940505  &   9.438776 \\\\\n",
       "\tEducation\\_.idk &  2.07472981 &  1.38771510 &  2.4864752  &   3.835169 \\\\\n",
       "\tOutcome\\_.failure &  5.67108529 & -2.12865793 &  4.7539084  &   7.789736 \\\\\n",
       "\tOutcome\\_.other &  2.51153159 & -1.37269984 &  1.2128660  &   3.890007 \\\\\n",
       "\tOutcome\\_.success &  8.28374325 & 12.38110973 & 12.5645846  &  46.194862 \\\\\n",
       "\tOutcome\\_.Missing &  5.96040794 &  3.71833897 &  7.1262012  &  16.379793 \\\\\n",
       "\tCommunication\\_.cellular &  4.79873305 &  3.56882907 &  5.8196717  &  18.060647 \\\\\n",
       "\tCommunication\\_.telephone & -0.49071485 &  1.52321905 &  0.7242200  &   4.141091 \\\\\n",
       "\tCommunication\\_.Missing &  6.58561058 &  8.60462880 & 10.7187310  &  29.390432 \\\\\n",
       "\\end{tabular}\n"
      ],
      "text/markdown": [
       "\n",
       "| <!--/--> | 0 | 1 | MeanDecreaseAccuracy | MeanDecreaseGini | \n",
       "|---|---|---|---|---|---|---|---|---|---|---|---|---|---|---|---|---|---|---|---|---|---|---|---|---|---|---|---|---|---|---|---|---|---|---|---|---|---|---|---|---|---|---|---|---|---|---|---|---|---|---|---|---|---|---|---|---|\n",
       "| Default |  0.13324211 |  0.11276033 |  0.1592468  |   1.864448  | \n",
       "| HHInsurance |  5.36478420 | 11.66081308 | 11.3542027  |  37.344996  | \n",
       "| CarLoan | -0.91534431 |  6.64183503 |  4.9913597  |  10.402856  | \n",
       "| NoOfContacts |  2.95694055 |  3.83456207 |  4.3577441  |  31.286906  | \n",
       "| DaysPassed |  8.16630770 |  4.08740325 |  9.0236677  |  34.816533  | \n",
       "| PrevAttempts |  4.54558572 |  4.83610854 |  6.1647136  |  22.296994  | \n",
       "| dif | 34.05603341 | 35.12556426 | 37.9984404  | 314.855550  | \n",
       "| early_working_age |  2.75999735 |  1.39038552 |  3.6404308  |   3.868218  | \n",
       "| prime_working_age |  4.01076102 |  3.02204975 |  5.3645690  |   9.464621  | \n",
       "| mature_working_age |  5.19030051 | -2.43901664 |  3.5903283  |   5.887972  | \n",
       "| elderly |  3.74712877 |  5.65250623 |  6.3734552  |   7.514444  | \n",
       "| minusbalance |  0.79432685 |  1.90705299 |  2.0905360  |   6.842813  | \n",
       "| logBalance |  2.21463960 |  1.63184203 |  2.8542888  |  53.875422  | \n",
       "| starthour.9 |  2.03529370 |  0.82268381 |  2.0930324  |   6.012410  | \n",
       "| starthour.10 |  2.48737699 | -0.57200098 |  2.5422562  |   4.994819  | \n",
       "| starthour.11 |  2.58115846 | -1.74573135 |  1.3340188  |   4.577879  | \n",
       "| starthour.12 |  1.63733310 | -2.66408176 | -0.3365522  |   5.930152  | \n",
       "| starthour.13 |  3.30199699 | -2.24712572 |  2.5093050  |   6.150990  | \n",
       "| starthour.14 |  2.83059736 | -0.81527490 |  2.5371611  |   5.398569  | \n",
       "| starthour.15 |  2.10548260 | -1.79694424 |  1.6099342  |   5.759324  | \n",
       "| starthour.16 |  2.77590790 | -0.64908538 |  1.7357622  |   6.267497  | \n",
       "| starthour.17 |  2.88733569 |  0.03104819 |  2.6643781  |   4.866266  | \n",
       "| endhour.9 |  2.45560257 | -0.85476942 |  1.4973199  |   4.993830  | \n",
       "| endhour.10 |  2.86701251 | -0.39934716 |  2.6747242  |   5.173129  | \n",
       "| endhour.11 |  3.18800616 |  0.23008405 |  3.6379007  |   5.183314  | \n",
       "| endhour.12 |  1.81541125 | -2.41952413 |  0.6553924  |   4.746968  | \n",
       "| endhour.13 |  3.55549981 | -2.26947346 |  2.7126133  |   5.358299  | \n",
       "| endhour.14 |  2.64421622 | -3.24417309 |  1.0805351  |   5.725082  | \n",
       "| endhour.15 |  2.13399482 | -1.65136235 |  1.7499574  |   5.766681  | \n",
       "| endhour.16 |  1.98148760 | -1.57319936 |  0.8678618  |   5.413006  | \n",
       "| endhour.17 |  1.88294596 | -1.93512120 |  0.2091782  |   5.526534  | \n",
       "| endhour.18 |  1.27947634 |  2.36773332 |  3.0514605  |   3.660544  | \n",
       "| Job.admin. | -4.59084129 |  1.47005241 | -2.8733693  |   6.756867  | \n",
       "| Job.blue-collar | -0.11380051 |  2.02878868 |  1.3227668  |   9.296182  | \n",
       "| Job.entrepreneur | -1.20408760 |  1.49196582 |  0.2076017  |   3.759050  | \n",
       "| Job.housemaid | -0.28541051 |  1.19960608 |  0.8161906  |   3.157173  | \n",
       "| Job.management |  1.54188275 |  0.17777059 |  1.6903248  |   6.903535  | \n",
       "| Job.retired |  1.71905913 |  1.79846010 |  2.8372569  |   4.853296  | \n",
       "| Job.self-employed | -0.30599539 | -0.45070678 | -0.4808921  |   4.748981  | \n",
       "| Job.services | -3.87733939 |  0.01225656 | -2.7414311  |   4.918414  | \n",
       "| Job.student |  3.05089818 |  3.45705345 |  4.0400750  |   6.409230  | \n",
       "| Job.technician |  0.41467152 |  1.03732168 |  1.1213300  |   5.526695  | \n",
       "| Job.unemployed | -0.61345732 | -0.82328536 | -1.0779074  |   3.758698  | \n",
       "| Marital.divorced | -2.18152968 |  1.81720657 | -0.5434030  |   5.640731  | \n",
       "| Marital.married |  2.14973667 |  1.38495259 |  2.6083406  |   9.084063  | \n",
       "| Marital.single | -0.02156483 |  1.65833098 |  1.1098054  |   7.206258  | \n",
       "| Education_.primary | -0.86235061 |  1.83487068 |  0.5247804  |   4.652351  | \n",
       "| Education_.secondary |  0.94129440 |  2.78766187 |  2.4088882  |   7.590944  | \n",
       "| Education_.tertiary |  2.98994306 |  1.84723879 |  3.7940505  |   9.438776  | \n",
       "| Education_.idk |  2.07472981 |  1.38771510 |  2.4864752  |   3.835169  | \n",
       "| Outcome_.failure |  5.67108529 | -2.12865793 |  4.7539084  |   7.789736  | \n",
       "| Outcome_.other |  2.51153159 | -1.37269984 |  1.2128660  |   3.890007  | \n",
       "| Outcome_.success |  8.28374325 | 12.38110973 | 12.5645846  |  46.194862  | \n",
       "| Outcome_.Missing |  5.96040794 |  3.71833897 |  7.1262012  |  16.379793  | \n",
       "| Communication_.cellular |  4.79873305 |  3.56882907 |  5.8196717  |  18.060647  | \n",
       "| Communication_.telephone | -0.49071485 |  1.52321905 |  0.7242200  |   4.141091  | \n",
       "| Communication_.Missing |  6.58561058 |  8.60462880 | 10.7187310  |  29.390432  | \n",
       "\n",
       "\n"
      ],
      "text/plain": [
       "                         0           1           MeanDecreaseAccuracy\n",
       "Default                   0.13324211  0.11276033  0.1592468          \n",
       "HHInsurance               5.36478420 11.66081308 11.3542027          \n",
       "CarLoan                  -0.91534431  6.64183503  4.9913597          \n",
       "NoOfContacts              2.95694055  3.83456207  4.3577441          \n",
       "DaysPassed                8.16630770  4.08740325  9.0236677          \n",
       "PrevAttempts              4.54558572  4.83610854  6.1647136          \n",
       "dif                      34.05603341 35.12556426 37.9984404          \n",
       "early_working_age         2.75999735  1.39038552  3.6404308          \n",
       "prime_working_age         4.01076102  3.02204975  5.3645690          \n",
       "mature_working_age        5.19030051 -2.43901664  3.5903283          \n",
       "elderly                   3.74712877  5.65250623  6.3734552          \n",
       "minusbalance              0.79432685  1.90705299  2.0905360          \n",
       "logBalance                2.21463960  1.63184203  2.8542888          \n",
       "starthour.9               2.03529370  0.82268381  2.0930324          \n",
       "starthour.10              2.48737699 -0.57200098  2.5422562          \n",
       "starthour.11              2.58115846 -1.74573135  1.3340188          \n",
       "starthour.12              1.63733310 -2.66408176 -0.3365522          \n",
       "starthour.13              3.30199699 -2.24712572  2.5093050          \n",
       "starthour.14              2.83059736 -0.81527490  2.5371611          \n",
       "starthour.15              2.10548260 -1.79694424  1.6099342          \n",
       "starthour.16              2.77590790 -0.64908538  1.7357622          \n",
       "starthour.17              2.88733569  0.03104819  2.6643781          \n",
       "endhour.9                 2.45560257 -0.85476942  1.4973199          \n",
       "endhour.10                2.86701251 -0.39934716  2.6747242          \n",
       "endhour.11                3.18800616  0.23008405  3.6379007          \n",
       "endhour.12                1.81541125 -2.41952413  0.6553924          \n",
       "endhour.13                3.55549981 -2.26947346  2.7126133          \n",
       "endhour.14                2.64421622 -3.24417309  1.0805351          \n",
       "endhour.15                2.13399482 -1.65136235  1.7499574          \n",
       "endhour.16                1.98148760 -1.57319936  0.8678618          \n",
       "endhour.17                1.88294596 -1.93512120  0.2091782          \n",
       "endhour.18                1.27947634  2.36773332  3.0514605          \n",
       "Job.admin.               -4.59084129  1.47005241 -2.8733693          \n",
       "Job.blue-collar          -0.11380051  2.02878868  1.3227668          \n",
       "Job.entrepreneur         -1.20408760  1.49196582  0.2076017          \n",
       "Job.housemaid            -0.28541051  1.19960608  0.8161906          \n",
       "Job.management            1.54188275  0.17777059  1.6903248          \n",
       "Job.retired               1.71905913  1.79846010  2.8372569          \n",
       "Job.self-employed        -0.30599539 -0.45070678 -0.4808921          \n",
       "Job.services             -3.87733939  0.01225656 -2.7414311          \n",
       "Job.student               3.05089818  3.45705345  4.0400750          \n",
       "Job.technician            0.41467152  1.03732168  1.1213300          \n",
       "Job.unemployed           -0.61345732 -0.82328536 -1.0779074          \n",
       "Marital.divorced         -2.18152968  1.81720657 -0.5434030          \n",
       "Marital.married           2.14973667  1.38495259  2.6083406          \n",
       "Marital.single           -0.02156483  1.65833098  1.1098054          \n",
       "Education_.primary       -0.86235061  1.83487068  0.5247804          \n",
       "Education_.secondary      0.94129440  2.78766187  2.4088882          \n",
       "Education_.tertiary       2.98994306  1.84723879  3.7940505          \n",
       "Education_.idk            2.07472981  1.38771510  2.4864752          \n",
       "Outcome_.failure          5.67108529 -2.12865793  4.7539084          \n",
       "Outcome_.other            2.51153159 -1.37269984  1.2128660          \n",
       "Outcome_.success          8.28374325 12.38110973 12.5645846          \n",
       "Outcome_.Missing          5.96040794  3.71833897  7.1262012          \n",
       "Communication_.cellular   4.79873305  3.56882907  5.8196717          \n",
       "Communication_.telephone -0.49071485  1.52321905  0.7242200          \n",
       "Communication_.Missing    6.58561058  8.60462880 10.7187310          \n",
       "                         MeanDecreaseGini\n",
       "Default                    1.864448      \n",
       "HHInsurance               37.344996      \n",
       "CarLoan                   10.402856      \n",
       "NoOfContacts              31.286906      \n",
       "DaysPassed                34.816533      \n",
       "PrevAttempts              22.296994      \n",
       "dif                      314.855550      \n",
       "early_working_age          3.868218      \n",
       "prime_working_age          9.464621      \n",
       "mature_working_age         5.887972      \n",
       "elderly                    7.514444      \n",
       "minusbalance               6.842813      \n",
       "logBalance                53.875422      \n",
       "starthour.9                6.012410      \n",
       "starthour.10               4.994819      \n",
       "starthour.11               4.577879      \n",
       "starthour.12               5.930152      \n",
       "starthour.13               6.150990      \n",
       "starthour.14               5.398569      \n",
       "starthour.15               5.759324      \n",
       "starthour.16               6.267497      \n",
       "starthour.17               4.866266      \n",
       "endhour.9                  4.993830      \n",
       "endhour.10                 5.173129      \n",
       "endhour.11                 5.183314      \n",
       "endhour.12                 4.746968      \n",
       "endhour.13                 5.358299      \n",
       "endhour.14                 5.725082      \n",
       "endhour.15                 5.766681      \n",
       "endhour.16                 5.413006      \n",
       "endhour.17                 5.526534      \n",
       "endhour.18                 3.660544      \n",
       "Job.admin.                 6.756867      \n",
       "Job.blue-collar            9.296182      \n",
       "Job.entrepreneur           3.759050      \n",
       "Job.housemaid              3.157173      \n",
       "Job.management             6.903535      \n",
       "Job.retired                4.853296      \n",
       "Job.self-employed          4.748981      \n",
       "Job.services               4.918414      \n",
       "Job.student                6.409230      \n",
       "Job.technician             5.526695      \n",
       "Job.unemployed             3.758698      \n",
       "Marital.divorced           5.640731      \n",
       "Marital.married            9.084063      \n",
       "Marital.single             7.206258      \n",
       "Education_.primary         4.652351      \n",
       "Education_.secondary       7.590944      \n",
       "Education_.tertiary        9.438776      \n",
       "Education_.idk             3.835169      \n",
       "Outcome_.failure           7.789736      \n",
       "Outcome_.other             3.890007      \n",
       "Outcome_.success          46.194862      \n",
       "Outcome_.Missing          16.379793      \n",
       "Communication_.cellular   18.060647      \n",
       "Communication_.telephone   4.141091      \n",
       "Communication_.Missing    29.390432      "
      ]
     },
     "metadata": {},
     "output_type": "display_data"
    }
   ],
   "source": [
    "importance(cidata_rf_fit)"
   ]
  },
  {
   "cell_type": "code",
   "execution_count": 123,
   "metadata": {
    "scrolled": true
   },
   "outputs": [
    {
     "data": {
      "image/png": "[encoded data removed]",
      "text/plain": [
       "plot without title"
      ]
     },
     "metadata": {},
     "output_type": "display_data"
    }
   ],
   "source": [
    "varImpPlot(cidata_rf_fit, main=\"varImpPlot\")"
   ]
  }
 ],
 "metadata": {
  "kernelspec": {
   "display_name": "R",
   "language": "R",
   "name": "ir"
  },
  "language_info": {
   "codemirror_mode": "r",
   "file_extension": ".r",
   "mimetype": "text/x-r-source",
   "name": "R",
   "pygments_lexer": "r",
   "version": "3.5.1"
  }
 },
 "nbformat": 4,
 "nbformat_minor": 2
}
