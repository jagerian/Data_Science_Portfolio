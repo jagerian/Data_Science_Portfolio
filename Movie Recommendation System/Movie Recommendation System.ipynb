{
 "cells": [
  {
   "cell_type": "markdown",
   "metadata": {},
   "source": [
    "# [Movie Recommendation System]"
   ]
  },
  {
   "cell_type": "markdown",
   "metadata": {},
   "source": [
    "## 1. Objective\n",
    "The goal of this project is to build a movie recommendation system using item based collaborative filtering."
   ]
  },
  {
   "cell_type": "markdown",
   "metadata": {},
   "source": [
    "## 2. Description\n",
    "\n",
    "\n",
    "In this project, I will attempt at implementing a recommendation algorithm using collaborative filtering technique. For novices like me this will pretty much serve as a foundation in recommendation systems and will provide you with something to start with. \n",
    "\n",
    "To implement an item based collaborative filtering, KNN is a perfect go-to model and also a very good baseline for recommender system development. But what is the KNN? KNN is a non-parametric, lazy learning method. \n",
    "\n",
    "For the fisrt modeling, I have used the dataset from the MovieLens 100k. And the dataset is a set of 100,000 data points related to ratings given by a set of users to a set of movies. It also contains movie metadata and user profiles. While it is a small dataset, you can quickly download it and run Spark code on it. This makes it ideal for illustrative purposes.\n",
    "\n",
    "You can download the dataset from http://files.grouplens.org/datasets/movielens/ml-100k.zip.\n",
    "\n",
    "For the second modeling, I have inserted the data by myself.\n",
    "\n",
    "I have initially coded this mini project model based on object oriented programming (I am trying to transfrom this to juypter notebook to visualise effectively). Hence, I am not going to take the standard process for data analysis but I am going to show you how I have created the model and how the model works with several test."
   ]
  },
  {
   "cell_type": "markdown",
   "metadata": {},
   "source": [
    "## 3. Modeling (1)\n",
    "The first model is bulit with the dataset from MovieLens 100k."
   ]
  },
  {
   "cell_type": "markdown",
   "metadata": {},
   "source": [
    "### 3.1 Import Libraries"
   ]
  },
  {
   "cell_type": "code",
   "execution_count": 1,
   "metadata": {},
   "outputs": [],
   "source": [
    "import surprise\n",
    "import pandas as pd"
   ]
  },
  {
   "cell_type": "markdown",
   "metadata": {},
   "source": [
    "### 3.2 Load Dataset"
   ]
  },
  {
   "cell_type": "code",
   "execution_count": 2,
   "metadata": {},
   "outputs": [],
   "source": [
    "data = surprise.Dataset.load_builtin('ml-100k')"
   ]
  },
  {
   "cell_type": "code",
   "execution_count": 3,
   "metadata": {},
   "outputs": [
    {
     "name": "stdout",
     "output_type": "stream",
     "text": [
      "<surprise.dataset.DatasetAutoFolds object at 0x000000000889D550>\n"
     ]
    }
   ],
   "source": [
    "print(data)"
   ]
  },
  {
   "cell_type": "code",
   "execution_count": 4,
   "metadata": {},
   "outputs": [
    {
     "name": "stderr",
     "output_type": "stream",
     "text": [
      "IOPub data rate exceeded.\n",
      "The notebook server will temporarily stop sending output\n",
      "to the client in order to avoid crashing it.\n",
      "To change this limit, set the config variable\n",
      "`--NotebookApp.iopub_data_rate_limit`.\n",
      "\n",
      "Current values:\n",
      "NotebookApp.iopub_data_rate_limit=1000000.0 (bytes/sec)\n",
      "NotebookApp.rate_limit_window=3.0 (secs)\n",
      "\n"
     ]
    }
   ],
   "source": [
    "print(data.raw_ratings)"
   ]
  },
  {
   "cell_type": "code",
   "execution_count": 5,
   "metadata": {},
   "outputs": [
    {
     "data": {
      "text/html": [
       "<div>\n",
       "<style scoped>\n",
       "    .dataframe tbody tr th:only-of-type {\n",
       "        vertical-align: middle;\n",
       "    }\n",
       "\n",
       "    .dataframe tbody tr th {\n",
       "        vertical-align: top;\n",
       "    }\n",
       "\n",
       "    .dataframe thead th {\n",
       "        text-align: right;\n",
       "    }\n",
       "</style>\n",
       "<table border=\"1\" class=\"dataframe\">\n",
       "  <thead>\n",
       "    <tr style=\"text-align: right;\">\n",
       "      <th></th>\n",
       "      <th>user</th>\n",
       "      <th>item</th>\n",
       "      <th>rate</th>\n",
       "      <th>id</th>\n",
       "    </tr>\n",
       "  </thead>\n",
       "  <tbody>\n",
       "    <tr>\n",
       "      <th>0</th>\n",
       "      <td>196</td>\n",
       "      <td>242</td>\n",
       "      <td>3.0</td>\n",
       "      <td>881250949</td>\n",
       "    </tr>\n",
       "    <tr>\n",
       "      <th>1</th>\n",
       "      <td>186</td>\n",
       "      <td>302</td>\n",
       "      <td>3.0</td>\n",
       "      <td>891717742</td>\n",
       "    </tr>\n",
       "    <tr>\n",
       "      <th>2</th>\n",
       "      <td>22</td>\n",
       "      <td>377</td>\n",
       "      <td>1.0</td>\n",
       "      <td>878887116</td>\n",
       "    </tr>\n",
       "    <tr>\n",
       "      <th>3</th>\n",
       "      <td>244</td>\n",
       "      <td>51</td>\n",
       "      <td>2.0</td>\n",
       "      <td>880606923</td>\n",
       "    </tr>\n",
       "    <tr>\n",
       "      <th>4</th>\n",
       "      <td>166</td>\n",
       "      <td>346</td>\n",
       "      <td>1.0</td>\n",
       "      <td>886397596</td>\n",
       "    </tr>\n",
       "  </tbody>\n",
       "</table>\n",
       "</div>"
      ],
      "text/plain": [
       "  user item  rate         id\n",
       "0  196  242   3.0  881250949\n",
       "1  186  302   3.0  891717742\n",
       "2   22  377   1.0  878887116\n",
       "3  244   51   2.0  880606923\n",
       "4  166  346   1.0  886397596"
      ]
     },
     "execution_count": 5,
     "metadata": {},
     "output_type": "execute_result"
    }
   ],
   "source": [
    "df = pd.DataFrame(data.raw_ratings, columns=['user', 'item', 'rate', 'id'])\n",
    "df.head()"
   ]
  },
  {
   "cell_type": "markdown",
   "metadata": {},
   "source": [
    "### 3.3 Similarity Measure"
   ]
  },
  {
   "cell_type": "code",
   "execution_count": 6,
   "metadata": {},
   "outputs": [],
   "source": [
    "option1 = {'name' : 'msd'}  # Mean Squared Difference Similarity\n",
    "option2 = {'name' : 'cosine'}  # Cosine Simliarity\n",
    "option3 = {'name' : 'pearson'} # Pearson Correlation Coefficient"
   ]
  },
  {
   "cell_type": "markdown",
   "metadata": {},
   "source": [
    "### 3.4 Get a recommendation list\n",
    "Create a learning object to get the recommendation list using KNNBasic algorithm\n"
   ]
  },
  {
   "cell_type": "code",
   "execution_count": 7,
   "metadata": {},
   "outputs": [],
   "source": [
    "algo = surprise.KNNBasic(sim_options=option3)"
   ]
  },
  {
   "cell_type": "markdown",
   "metadata": {},
   "source": [
    "### 3.5 Prepare a trainset"
   ]
  },
  {
   "cell_type": "code",
   "execution_count": 8,
   "metadata": {},
   "outputs": [],
   "source": [
    "trainset = data.build_full_trainset()"
   ]
  },
  {
   "cell_type": "markdown",
   "metadata": {},
   "source": [
    "### 3.6 Train the algorithm \n",
    "Train the algorithm on the trainset"
   ]
  },
  {
   "cell_type": "code",
   "execution_count": 9,
   "metadata": {},
   "outputs": [
    {
     "name": "stdout",
     "output_type": "stream",
     "text": [
      "Computing the pearson similarity matrix...\n",
      "Done computing similarity matrix.\n"
     ]
    },
    {
     "data": {
      "text/plain": [
       "<surprise.prediction_algorithms.knns.KNNBasic at 0xa63c780>"
      ]
     },
     "execution_count": 9,
     "metadata": {},
     "output_type": "execute_result"
    }
   ],
   "source": [
    "algo.fit(trainset)"
   ]
  },
  {
   "cell_type": "markdown",
   "metadata": {},
   "source": [
    "### 3.7 Recomend five movies for the 196th user"
   ]
  },
  {
   "cell_type": "code",
   "execution_count": 10,
   "metadata": {},
   "outputs": [
    {
     "name": "stdout",
     "output_type": "stream",
     "text": [
      "89\n",
      "112\n",
      "125\n",
      "172\n",
      "241\n"
     ]
    }
   ],
   "source": [
    "result = algo.get_neighbors(196, k=5)\n",
    "\n",
    "for r1 in result :\n",
    "    print(r1)"
   ]
  },
  {
   "cell_type": "markdown",
   "metadata": {},
   "source": [
    "## 4. Modeling (2)\n",
    "The second model is built with the data inserted by myself"
   ]
  },
  {
   "cell_type": "markdown",
   "metadata": {},
   "source": [
    "### 4.1 Create a dataset\n",
    "Create a dataset with the users' name and rates for the movies\n"
   ]
  },
  {
   "cell_type": "code",
   "execution_count": 11,
   "metadata": {},
   "outputs": [],
   "source": [
    "ratings_expand = {\n",
    "        '마동석': {\n",
    "            '택시운전사': 3.5,\n",
    "            '남한산성': 1.5,\n",
    "            '킹스맨:골든서클': 3.0,\n",
    "            '범죄도시': 3.5,\n",
    "            '아이 캔 스피크': 2.5,\n",
    "            '꾼': 3.0,\n",
    "        },\n",
    "        '이정재': {\n",
    "            '택시운전사': 5.0,\n",
    "            '남한산성': 4.5,\n",
    "            '킹스맨:골든서클': 0.5,\n",
    "            '범죄도시': 1.5,\n",
    "            '아이 캔 스피크': 4.5,\n",
    "            '꾼': 5.0,\n",
    "        },\n",
    "        '윤계상': {\n",
    "            '택시운전사': 3.0,\n",
    "            '남한산성': 2.5,\n",
    "            '킹스맨:골든서클': 1.5,\n",
    "            '범죄도시': 3.0,\n",
    "            '꾼': 3.0,\n",
    "            '아이 캔 스피크': 3.5,\n",
    "        },\n",
    "        '설경구': {\n",
    "            '택시운전사': 2.5,\n",
    "            '남한산성': 3.0,\n",
    "            '범죄도시': 4.5,\n",
    "            '꾼': 4.0,\n",
    "        },\n",
    "        '최홍만': {\n",
    "            '남한산성': 4.5,\n",
    "            '킹스맨:골든서클': 3.0,\n",
    "            '꾼': 4.5,\n",
    "            '범죄도시': 3.0,\n",
    "            '아이 캔 스피크': 2.5,\n",
    "        },\n",
    "        '홍수환': {\n",
    "            '택시운전사': 3.0,\n",
    "            '남한산성': 4.0,\n",
    "            '킹스맨:골든서클': 1.0,\n",
    "            '범죄도시': 3.0,\n",
    "            '꾼': 3.5,\n",
    "            '아이 캔 스피크': 2.0,\n",
    "        },\n",
    "        '나원탁': {\n",
    "            '택시운전사': 3.0,\n",
    "            '남한산성': 4.0,\n",
    "            '꾼': 3.0,\n",
    "            '범죄도시': 5.0,\n",
    "            '아이 캔 스피크': 3.5,\n",
    "        },\n",
    "        '소이현': {\n",
    "            '남한산성': 4.5,\n",
    "            '아이 캔 스피크': 1.0,\n",
    "            '범죄도시': 4.0\n",
    "        }\n",
    "}"
   ]
  },
  {
   "cell_type": "markdown",
   "metadata": {},
   "source": [
    "### 4.2 Create a list and a set\n",
    "The list to append the users' name and the set to append the movie name"
   ]
  },
  {
   "cell_type": "code",
   "execution_count": 12,
   "metadata": {},
   "outputs": [],
   "source": [
    "name_list = []"
   ]
  },
  {
   "cell_type": "code",
   "execution_count": 13,
   "metadata": {},
   "outputs": [],
   "source": [
    "movie_set = set()"
   ]
  },
  {
   "cell_type": "markdown",
   "metadata": {},
   "source": [
    "### 4.3 Append the users' name and movies"
   ]
  },
  {
   "cell_type": "code",
   "execution_count": 14,
   "metadata": {},
   "outputs": [
    {
     "name": "stdout",
     "output_type": "stream",
     "text": [
      "['마동석', '이정재', '윤계상', '설경구', '최홍만', '홍수환', '나원탁', '소이현']\n",
      "['범죄도시', '아이 캔 스피크', '남한산성', '택시운전사', '꾼', '킹스맨:골든서클']\n"
     ]
    }
   ],
   "source": [
    "# iterate as many times as the number of users\n",
    "for user_key in ratings_expand :\n",
    "    # print(user_key)\n",
    "    name_list.append(user_key)\n",
    "    # Append the movies that the current user has watched\n",
    "    for movie_key in ratings_expand[user_key] :\n",
    "        # print(user_key, \":\", movie_key)\n",
    "        movie_set.add(movie_key)\n",
    "        \n",
    "movie_list = list(movie_set)\n",
    "print(name_list)\n",
    "print(movie_list)"
   ]
  },
  {
   "cell_type": "markdown",
   "metadata": {},
   "source": [
    "### 4.4 Create a dataset to train"
   ]
  },
  {
   "cell_type": "code",
   "execution_count": 15,
   "metadata": {},
   "outputs": [],
   "source": [
    "rating_dic = {\n",
    "    'user_id' : [],\n",
    "    'item_id' : [],\n",
    "    'rating' :[]\n",
    "}"
   ]
  },
  {
   "cell_type": "markdown",
   "metadata": {},
   "source": [
    "### 4.5 Append the ratings"
   ]
  },
  {
   "cell_type": "code",
   "execution_count": 16,
   "metadata": {},
   "outputs": [
    {
     "name": "stdout",
     "output_type": "stream",
     "text": [
      "[0, 0, 0, 0, 0, 0, 1, 1, 1, 1, 1, 1, 2, 2, 2, 2, 2, 2, 3, 3, 3, 3, 4, 4, 4, 4, 4, 5, 5, 5, 5, 5, 5, 6, 6, 6, 6, 6, 7, 7, 7]\n",
      "[3, 2, 5, 0, 1, 4, 3, 2, 5, 0, 1, 4, 3, 2, 5, 0, 4, 1, 3, 2, 0, 4, 2, 5, 4, 0, 1, 3, 2, 5, 0, 4, 1, 3, 2, 4, 0, 1, 2, 1, 0]\n",
      "[3.5, 1.5, 3.0, 3.5, 2.5, 3.0, 5.0, 4.5, 0.5, 1.5, 4.5, 5.0, 3.0, 2.5, 1.5, 3.0, 3.0, 3.5, 2.5, 3.0, 4.5, 4.0, 4.5, 3.0, 4.5, 3.0, 2.5, 3.0, 4.0, 1.0, 3.0, 3.5, 2.0, 3.0, 4.0, 3.0, 5.0, 3.5, 4.5, 1.0, 4.0]\n"
     ]
    }
   ],
   "source": [
    "# iterate as many times as the number of users\n",
    "for name_key in ratings_expand :\n",
    "    # iterate as many times as the number of the movies user has watched\n",
    "    for movie_key in ratings_expand[name_key] :\n",
    "        # Extract the index no. of the user\n",
    "        a1 = name_list.index(name_key)\n",
    "        # Extract the index no. of the movie\n",
    "        a2 = movie_list.index(movie_key)\n",
    "        # Extract the ratings\n",
    "        a3 = ratings_expand[name_key][movie_key]\n",
    "        # Append it\n",
    "        rating_dic['user_id'].append(a1)\n",
    "        rating_dic['item_id'].append(a2)\n",
    "        rating_dic['rating'].append(a3)\n",
    "\n",
    "print(rating_dic['user_id'])\n",
    "print(rating_dic['item_id'])\n",
    "print(rating_dic['rating'])"
   ]
  },
  {
   "cell_type": "code",
   "execution_count": 17,
   "metadata": {},
   "outputs": [
    {
     "data": {
      "text/html": [
       "<div>\n",
       "<style scoped>\n",
       "    .dataframe tbody tr th:only-of-type {\n",
       "        vertical-align: middle;\n",
       "    }\n",
       "\n",
       "    .dataframe tbody tr th {\n",
       "        vertical-align: top;\n",
       "    }\n",
       "\n",
       "    .dataframe thead th {\n",
       "        text-align: right;\n",
       "    }\n",
       "</style>\n",
       "<table border=\"1\" class=\"dataframe\">\n",
       "  <thead>\n",
       "    <tr style=\"text-align: right;\">\n",
       "      <th></th>\n",
       "      <th>user_id</th>\n",
       "      <th>item_id</th>\n",
       "      <th>rating</th>\n",
       "    </tr>\n",
       "  </thead>\n",
       "  <tbody>\n",
       "    <tr>\n",
       "      <th>0</th>\n",
       "      <td>0</td>\n",
       "      <td>3</td>\n",
       "      <td>3.5</td>\n",
       "    </tr>\n",
       "    <tr>\n",
       "      <th>1</th>\n",
       "      <td>0</td>\n",
       "      <td>2</td>\n",
       "      <td>1.5</td>\n",
       "    </tr>\n",
       "    <tr>\n",
       "      <th>2</th>\n",
       "      <td>0</td>\n",
       "      <td>5</td>\n",
       "      <td>3.0</td>\n",
       "    </tr>\n",
       "    <tr>\n",
       "      <th>3</th>\n",
       "      <td>0</td>\n",
       "      <td>0</td>\n",
       "      <td>3.5</td>\n",
       "    </tr>\n",
       "    <tr>\n",
       "      <th>4</th>\n",
       "      <td>0</td>\n",
       "      <td>1</td>\n",
       "      <td>2.5</td>\n",
       "    </tr>\n",
       "  </tbody>\n",
       "</table>\n",
       "</div>"
      ],
      "text/plain": [
       "   user_id  item_id  rating\n",
       "0        0        3     3.5\n",
       "1        0        2     1.5\n",
       "2        0        5     3.0\n",
       "3        0        0     3.5\n",
       "4        0        1     2.5"
      ]
     },
     "execution_count": 17,
     "metadata": {},
     "output_type": "execute_result"
    }
   ],
   "source": [
    "df = pd.DataFrame(rating_dic)\n",
    "df.head()"
   ]
  },
  {
   "cell_type": "code",
   "execution_count": 18,
   "metadata": {},
   "outputs": [],
   "source": [
    "# Create an object for collecting the data\n",
    "# rating_scale : Range of the rates\n",
    "reader = surprise.Reader(rating_scale=(0.0, 5.0))"
   ]
  },
  {
   "cell_type": "code",
   "execution_count": 19,
   "metadata": {},
   "outputs": [],
   "source": [
    "# the column names when we use at the \"surprise\"\n",
    "# Create column names that the data is installed\n",
    "# The first -> \"user\", The second -> \"item\", The third -> \"rate\"\n",
    "col_list = ['user_id', 'item_id', 'rating']\n",
    "data = surprise.Dataset.load_from_df(df[col_list], reader)"
   ]
  },
  {
   "cell_type": "markdown",
   "metadata": {},
   "source": [
    "### 4.6 Train the algorithm"
   ]
  },
  {
   "cell_type": "code",
   "execution_count": 20,
   "metadata": {},
   "outputs": [
    {
     "name": "stdout",
     "output_type": "stream",
     "text": [
      "Computing the pearson similarity matrix...\n",
      "Done computing similarity matrix.\n"
     ]
    },
    {
     "data": {
      "text/plain": [
       "<surprise.prediction_algorithms.knns.KNNBasic at 0xb9c8828>"
      ]
     },
     "execution_count": 20,
     "metadata": {},
     "output_type": "execute_result"
    }
   ],
   "source": [
    "# Train\n",
    "trainset = data.build_full_trainset()\n",
    "option = {'name' : 'pearson'}\n",
    "algo = surprise.KNNBasic(sim_options=option)\n",
    "algo.fit(trainset)"
   ]
  },
  {
   "cell_type": "markdown",
   "metadata": {},
   "source": [
    "## 5. Evaluation"
   ]
  },
  {
   "cell_type": "code",
   "execution_count": 21,
   "metadata": {},
   "outputs": [
    {
     "name": "stdout",
     "output_type": "stream",
     "text": [
      "꾼\n",
      "택시운전사\n",
      "킹스맨:골든서클\n"
     ]
    }
   ],
   "source": [
    "# Recommend three movies for the user \"소이현\"\n",
    "index = name_list.index('소이현')\n",
    "result = algo.get_neighbors(index, k=3)\n",
    "\n",
    "for r1 in result :\n",
    "    print(movie_list[r1 - 1])"
   ]
  }
 ],
 "metadata": {
  "kernelspec": {
   "display_name": "Python 3",
   "language": "python",
   "name": "python3"
  },
  "language_info": {
   "codemirror_mode": {
    "name": "ipython",
    "version": 3
   },
   "file_extension": ".py",
   "mimetype": "text/x-python",
   "name": "python",
   "nbconvert_exporter": "python",
   "pygments_lexer": "ipython3",
   "version": "3.6.7"
  }
 },
 "nbformat": 4,
 "nbformat_minor": 2
}
